{
 "cells": [
  {
   "cell_type": "code",
   "execution_count": 4,
   "metadata": {},
   "outputs": [],
   "source": [
    "import postgresql\n",
    "from random import randint\n",
    "import numpy as np\n",
    "import pandas as pd\n",
    "from tqdm import tqdm_notebook\n",
    "import os\n",
    "import sys\n"
   ]
  },
  {
   "cell_type": "code",
   "execution_count": 5,
   "metadata": {},
   "outputs": [],
   "source": [
    "module_path = os.path.abspath(os.path.join('..'))\n",
    "if module_path not in sys.path:\n",
    "    sys.path.append(module_path)\n",
    "    \n",
    "from utils.psql import Postresql"
   ]
  },
  {
   "cell_type": "markdown",
   "metadata": {},
   "source": [
    "# Конфигурации"
   ]
  },
  {
   "cell_type": "code",
   "execution_count": 6,
   "metadata": {},
   "outputs": [],
   "source": [
    "database = Postresql({\n",
    "    'database': 'fishtexts',\n",
    "    'user': 'postgres',\n",
    "    'password': '081099',\n",
    "    'host': 'localhost',\n",
    "    'port': '5432'\n",
    "})"
   ]
  },
  {
   "cell_type": "markdown",
   "metadata": {},
   "source": [
    "# Сбор данных"
   ]
  },
  {
   "cell_type": "code",
   "execution_count": 7,
   "metadata": {},
   "outputs": [
    {
     "data": {
      "text/html": [
       "<div>\n",
       "<style scoped>\n",
       "    .dataframe tbody tr th:only-of-type {\n",
       "        vertical-align: middle;\n",
       "    }\n",
       "\n",
       "    .dataframe tbody tr th {\n",
       "        vertical-align: top;\n",
       "    }\n",
       "\n",
       "    .dataframe thead th {\n",
       "        text-align: right;\n",
       "    }\n",
       "</style>\n",
       "<table border=\"1\" class=\"dataframe\">\n",
       "  <thead>\n",
       "    <tr style=\"text-align: right;\">\n",
       "      <th></th>\n",
       "      <th>mini_place</th>\n",
       "      <th>main_place</th>\n",
       "      <th>date</th>\n",
       "      <th>marked</th>\n",
       "      <th>text</th>\n",
       "      <th>id</th>\n",
       "    </tr>\n",
       "  </thead>\n",
       "  <tbody>\n",
       "    <tr>\n",
       "      <th>0</th>\n",
       "      <td>Брейтово</td>\n",
       "      <td>Рыбинское водохранилище.</td>\n",
       "      <td>03.02.2015</td>\n",
       "      <td>yes</td>\n",
       "      <td>3   февраль   вторник . утро   с   афоня   раз...</td>\n",
       "      <td>1</td>\n",
       "    </tr>\n",
       "    <tr>\n",
       "      <th>1</th>\n",
       "      <td>Брейтово</td>\n",
       "      <td>Рыбинское водохранилище.</td>\n",
       "      <td>06.02.2015</td>\n",
       "      <td>yes</td>\n",
       "      <td>6   февраль , пятница . подъем   в   5   утро ...</td>\n",
       "      <td>2</td>\n",
       "    </tr>\n",
       "    <tr>\n",
       "      <th>2</th>\n",
       "      <td>Брейтово</td>\n",
       "      <td>Рыбинское водохранилище.</td>\n",
       "      <td>09.02.2015</td>\n",
       "      <td>yes</td>\n",
       "      <td>9   февраль , понедельник . самый   результати...</td>\n",
       "      <td>3</td>\n",
       "    </tr>\n",
       "    <tr>\n",
       "      <th>3</th>\n",
       "      <td>Брейтово</td>\n",
       "      <td>Рыбинское водохранилище.</td>\n",
       "      <td>11.02.2015</td>\n",
       "      <td>yes</td>\n",
       "      <td>вчерашний   золотой   лунка   молчать , как   ...</td>\n",
       "      <td>4</td>\n",
       "    </tr>\n",
       "    <tr>\n",
       "      <th>4</th>\n",
       "      <td>Брейтово</td>\n",
       "      <td>Рыбинское водохранилище.</td>\n",
       "      <td>03.03.2015</td>\n",
       "      <td>yes</td>\n",
       "      <td>3   марта   вторник . тот   же   район   море ...</td>\n",
       "      <td>5</td>\n",
       "    </tr>\n",
       "    <tr>\n",
       "      <th>...</th>\n",
       "      <td>...</td>\n",
       "      <td>...</td>\n",
       "      <td>...</td>\n",
       "      <td>...</td>\n",
       "      <td>...</td>\n",
       "      <td>...</td>\n",
       "    </tr>\n",
       "    <tr>\n",
       "      <th>85905</th>\n",
       "      <td>Брейтово</td>\n",
       "      <td>Рыбинское водохранилище.</td>\n",
       "      <td>28.07.2016</td>\n",
       "      <td>yes</td>\n",
       "      <td>четверг   3   час    утро   28   число   прини...</td>\n",
       "      <td>85906</td>\n",
       "    </tr>\n",
       "    <tr>\n",
       "      <th>85906</th>\n",
       "      <td>Брейтово</td>\n",
       "      <td>Рыбинское водохранилище.</td>\n",
       "      <td>24.02.2014</td>\n",
       "      <td>yes</td>\n",
       "      <td>вчера ,  тем   мало   мы   она   поймать   зав...</td>\n",
       "      <td>85907</td>\n",
       "    </tr>\n",
       "    <tr>\n",
       "      <th>85907</th>\n",
       "      <td>Брейтово</td>\n",
       "      <td>Рыбинское водохранилище.</td>\n",
       "      <td>01.03.2014</td>\n",
       "      <td>yes</td>\n",
       "      <td>сегодня   половить   рыбка . выезжать   от   ч...</td>\n",
       "      <td>85908</td>\n",
       "    </tr>\n",
       "    <tr>\n",
       "      <th>85908</th>\n",
       "      <td>Брейтово</td>\n",
       "      <td>Рыбинское водохранилище.</td>\n",
       "      <td>03.03.2014</td>\n",
       "      <td>yes</td>\n",
       "      <td>3   по   6.03 .   ловить   на   жерлица   в   ...</td>\n",
       "      <td>85909</td>\n",
       "    </tr>\n",
       "    <tr>\n",
       "      <th>85909</th>\n",
       "      <td>Брейтово</td>\n",
       "      <td>Рыбинское водохранилище.</td>\n",
       "      <td>02.02.2015</td>\n",
       "      <td>yes</td>\n",
       "      <td>2   февраль , понедельник . 11 - 40   вечер , ...</td>\n",
       "      <td>85910</td>\n",
       "    </tr>\n",
       "  </tbody>\n",
       "</table>\n",
       "<p>85910 rows × 6 columns</p>\n",
       "</div>"
      ],
      "text/plain": [
       "      mini_place                main_place        date marked  \\\n",
       "0       Брейтово  Рыбинское водохранилище.  03.02.2015    yes   \n",
       "1       Брейтово  Рыбинское водохранилище.  06.02.2015    yes   \n",
       "2       Брейтово  Рыбинское водохранилище.  09.02.2015    yes   \n",
       "3       Брейтово  Рыбинское водохранилище.  11.02.2015    yes   \n",
       "4       Брейтово  Рыбинское водохранилище.  03.03.2015    yes   \n",
       "...          ...                       ...         ...    ...   \n",
       "85905   Брейтово  Рыбинское водохранилище.  28.07.2016    yes   \n",
       "85906   Брейтово  Рыбинское водохранилище.  24.02.2014    yes   \n",
       "85907   Брейтово  Рыбинское водохранилище.  01.03.2014    yes   \n",
       "85908   Брейтово  Рыбинское водохранилище.  03.03.2014    yes   \n",
       "85909   Брейтово  Рыбинское водохранилище.  02.02.2015    yes   \n",
       "\n",
       "                                                    text     id  \n",
       "0      3   февраль   вторник . утро   с   афоня   раз...      1  \n",
       "1      6   февраль , пятница . подъем   в   5   утро ...      2  \n",
       "2      9   февраль , понедельник . самый   результати...      3  \n",
       "3      вчерашний   золотой   лунка   молчать , как   ...      4  \n",
       "4      3   марта   вторник . тот   же   район   море ...      5  \n",
       "...                                                  ...    ...  \n",
       "85905  четверг   3   час    утро   28   число   прини...  85906  \n",
       "85906  вчера ,  тем   мало   мы   она   поймать   зав...  85907  \n",
       "85907  сегодня   половить   рыбка . выезжать   от   ч...  85908  \n",
       "85908  3   по   6.03 .   ловить   на   жерлица   в   ...  85909  \n",
       "85909  2   февраль , понедельник . 11 - 40   вечер , ...  85910  \n",
       "\n",
       "[85910 rows x 6 columns]"
      ]
     },
     "execution_count": 7,
     "metadata": {},
     "output_type": "execute_result"
    }
   ],
   "source": [
    "comments = pd.DataFrame(database.select('comments'))\n",
    "comments"
   ]
  },
  {
   "cell_type": "markdown",
   "metadata": {},
   "source": [
    "# Обработка"
   ]
  },
  {
   "cell_type": "code",
   "execution_count": 8,
   "metadata": {},
   "outputs": [],
   "source": [
    "predators_comments = pd.DataFrame(database.select('хищник'))\n",
    "peace_comments = pd.DataFrame(database.select('мирная'))\n",
    "pike_comments = pd.DataFrame(database.select('щука'))\n",
    "sudak_comments = pd.DataFrame(database.select('судак'))\n",
    "catfish_comments = pd.DataFrame(database.select('сом'))\n",
    "forel_comments = pd.DataFrame(database.select('форель'))\n",
    "okun_comments = pd.DataFrame(database.select('окунь'))\n",
    "golavl_comments = pd.DataFrame(database.select('голавль'))\n",
    "gereh_comments = pd.DataFrame(database.select('жерех'))\n",
    "yaz_comments = pd.DataFrame(database.select('язь'))\n",
    "carp_comments = pd.DataFrame(database.select('карп'))\n",
    "caras_comments = pd.DataFrame(database.select('карась'))\n",
    "plotva_comments = pd.DataFrame(database.select('плотва'))\n",
    "lesh_comments = pd.DataFrame(database.select('лещ'))\n",
    "krasnoperka_comments = pd.DataFrame(database.select('красноперка'))\n",
    "gustera_comments = pd.DataFrame(database.select('густера'))\n",
    "tolstolobik_comments = pd.DataFrame(database.select('толстолобик'))\n",
    "lin_comments = pd.DataFrame(database.select('линь'))\n",
    "comments = pd.DataFrame(database.select('comments'))\n"
   ]
  },
  {
   "cell_type": "code",
   "execution_count": 9,
   "metadata": {},
   "outputs": [],
   "source": [
    "fish_comments = pd.DataFrame(columns=['mini_place', 'date', 'marked', 'main_place', 'text' ,'fish', 'p_dost', 'p_fastai'])\n",
    "types_comments = pd.DataFrame(columns=['mini_place', 'date', 'marked', 'main_place', 'text' ,'type', 'p_dost', 'p_fastai'])\n",
    "\n",
    "fishs = ['щука', 'судак', 'сом', 'форель', 'окунь', 'голавль', 'жерех', 'язь',\n",
    "         'карп', 'карась', 'плотва', 'лещ', 'красноперка', 'густера', 'толстолобик', 'линь']\n",
    "types = ['хищник', 'мирная']"
   ]
  },
  {
   "cell_type": "code",
   "execution_count": 10,
   "metadata": {},
   "outputs": [
    {
     "name": "stderr",
     "output_type": "stream",
     "text": [
      "C:\\Users\\Xiaomi\\AppData\\Roaming\\Python\\Python37\\site-packages\\pandas\\core\\frame.py:7138: FutureWarning: Sorting because non-concatenation axis is not aligned. A future version\n",
      "of pandas will change to not sort by default.\n",
      "\n",
      "To accept the future behavior, pass 'sort=False'.\n",
      "\n",
      "To retain the current behavior and silence the warning, pass 'sort=True'.\n",
      "\n",
      "  sort=sort,\n"
     ]
    }
   ],
   "source": [
    "for fish in fishs:\n",
    "    temp_dt = pd.DataFrame(database.select(fish))\n",
    "    temp_dt['fish'] = fish\n",
    "    del temp_dt['id']\n",
    "    fish_comments = fish_comments.append(temp_dt, ignore_index=True)\n",
    "    \n",
    "for t in types:\n",
    "    temp_dt = pd.DataFrame(database.select(t))\n",
    "    temp_dt['type'] = t\n",
    "    del temp_dt['id']\n",
    "    types_comments = types_comments.append(temp_dt, ignore_index=True)"
   ]
  },
  {
   "cell_type": "code",
   "execution_count": 11,
   "metadata": {},
   "outputs": [],
   "source": [
    "from nltk.tokenize import word_tokenize\n",
    "from nltk.corpus import stopwords\n",
    "import re\n",
    "import string\n",
    "stop_words = set(stopwords.words('russian'))\n",
    "stop_words = stop_words.intersection('не')\n",
    "replace_word_map = {'ноль': 'очень плохо', 'вяло': 'плохо', 'вялый': 'плохой',\n",
    "                    'молчать': 'плохо ловиться', 'молчать': 'клевать плохо', 'судак': 'рыба', 'судачок': 'рыба',\n",
    "                    'опять': '', 'елец': 'рыба', 'жор': 'классно великолепно', 'сопа': 'рыба', 'подлец': 'рыба',\n",
    "                   'ловиться': 'результат', 'несколько': '', 'тишина': 'плохо'}\n",
    "replace_sentence = {'полный ноль': 'ужасно', 'не густо': 'плохо', 'рыбалка удаваться': 'рыбалка отлично',\n",
    "                    'не быть': 'было мало', 'не плох': 'хорош'}\n",
    "\n",
    "def preprocessing(text):\n",
    "    temp = text.lower()\n",
    "    temp = re.sub(r'\\d+', '', temp)\n",
    "    temp = temp.translate(str.maketrans('','', string.punctuation)).strip()\n",
    "    tokens = word_tokenize(temp)\n",
    "    temp = [i.strip() for i in tokens if not i in stop_words]\n",
    "    temp = [replace_word_map[i] if i in replace_word_map else i for i in temp]\n",
    "    temp = [i for i in temp if len(i) > 1]\n",
    "    temp = ' '.join(temp)\n",
    "    for sentence in replace_sentence:\n",
    "        temp = temp.replace(sentence, replace_sentence[sentence])\n",
    "    return temp"
   ]
  },
  {
   "cell_type": "code",
   "execution_count": null,
   "metadata": {},
   "outputs": [
    {
     "name": "stderr",
     "output_type": "stream",
     "text": [
      "C:\\Users\\Xiaomi\\Anaconda3\\lib\\site-packages\\ipykernel_launcher.py:1: TqdmDeprecationWarning: This function will be removed in tqdm==5.0.0\n",
      "Please use `tqdm.notebook.tqdm` instead of `tqdm.tqdm_notebook`\n",
      "  \"\"\"Entry point for launching an IPython kernel.\n"
     ]
    },
    {
     "data": {
      "application/vnd.jupyter.widget-view+json": {
       "model_id": "208a50f73c0a4a4b802697696fb0250c",
       "version_major": 2,
       "version_minor": 0
      },
      "text/plain": [
       "HBox(children=(FloatProgress(value=1.0, bar_style='info', max=1.0), HTML(value='')))"
      ]
     },
     "metadata": {},
     "output_type": "display_data"
    }
   ],
   "source": [
    "for index, row in tqdm_notebook(fish_comments.iterrows()):\n",
    "    fish_comments['text'][index] = preprocessing(row['text'])"
   ]
  },
  {
   "cell_type": "code",
   "execution_count": null,
   "metadata": {},
   "outputs": [],
   "source": [
    "for index, row in tqdm_notebook(types_comments.iterrows()):\n",
    "    types_comments['text'][index] = preprocessing(row['text'])"
   ]
  },
  {
   "cell_type": "code",
   "execution_count": null,
   "metadata": {},
   "outputs": [],
   "source": [
    "fish_comments"
   ]
  },
  {
   "cell_type": "markdown",
   "metadata": {},
   "source": [
    "# Предсказания"
   ]
  },
  {
   "cell_type": "code",
   "execution_count": null,
   "metadata": {},
   "outputs": [],
   "source": [
    "from dostoevsky.tokenization import RegexTokenizer\n",
    "from dostoevsky.models import FastTextSocialNetworkModel\n",
    "\n",
    "model = FastTextSocialNetworkModel(tokenizer=RegexTokenizer())\n"
   ]
  },
  {
   "cell_type": "code",
   "execution_count": null,
   "metadata": {},
   "outputs": [],
   "source": [
    "for index, row in tqdm_notebook(fish_comments.iterrows()):\n",
    "    pred = model.predict([row['text']], k=5)[0]\n",
    "    if pred['skip'] > 0.5:\n",
    "        fish_comments['p_dost'][index] = np.NaN\n",
    "    elif pred['neutral'] > 0.85:\n",
    "        fish_comments['p_dost'][index] = np.NaN\n",
    "    elif pred['negative'] < 0.1 and pred['positive'] < 0.1:\n",
    "        fish_comments['p_dost'][index] = np.NaN\n",
    "    else:\n",
    "        fish_comments['p_dost'][index] = 1 - pred['negative']"
   ]
  },
  {
   "cell_type": "code",
   "execution_count": null,
   "metadata": {},
   "outputs": [],
   "source": [
    "for index, row in tqdm_notebook(types_comments.iterrows()):\n",
    "    pred = model.predict([row['text']], k=5)[0]\n",
    "    if pred['skip'] > 0.5:\n",
    "        types_comments['p_dost'][index] = np.NaN\n",
    "    elif pred['neutral'] > 0.85:\n",
    "        types_comments['p_dost'][index] = np.NaN\n",
    "    elif pred['negative'] < 0.1 and pred['positive'] < 0.1:\n",
    "        types_comments['p_dost'][index] = np.NaN\n",
    "    else:\n",
    "        types_comments['p_dost'][index] = 1 - pred['negative']"
   ]
  },
  {
   "cell_type": "code",
   "execution_count": null,
   "metadata": {},
   "outputs": [],
   "source": [
    "del fish_comments['p_fastai']\n",
    "del types_comments['p_fastai']"
   ]
  },
  {
   "cell_type": "code",
   "execution_count": null,
   "metadata": {},
   "outputs": [],
   "source": [
    "isna_indexes_comments = fish_comments[fish_comments.p_dost.isna()].index\n",
    "isna_indexes_types = types_comments[types_comments.p_dost.isna()].index"
   ]
  },
  {
   "cell_type": "code",
   "execution_count": null,
   "metadata": {},
   "outputs": [],
   "source": [
    "preds_comments = [0.75 if _ == np.nan else _ for _ in fish_comments.p_dost]\n",
    "preds_types = [0.75 if _ == np.nan else _ for _ in types_comments.p_dost]\n",
    "\n",
    "fish_comments['p_dost'] = preds_comments\n",
    "types_comments['p_dost'] = preds_types"
   ]
  },
  {
   "cell_type": "markdown",
   "metadata": {},
   "source": [
    "# Обработка мест ловли"
   ]
  },
  {
   "cell_type": "code",
   "execution_count": null,
   "metadata": {},
   "outputs": [],
   "source": [
    "column_main_place = []\n",
    "for index, row in tqdm_notebook(fish_comments.iterrows()):\n",
    "    if row['main_place'].find('�?')>-1:\n",
    "        column_main_place.append(row['main_place'].replace('�?', 'И'))\n",
    "    else:\n",
    "        column_main_place.append(row['main_place'])\n",
    "fish_comments['main_place'] = column_main_place\n",
    "\n",
    "column_main_place = []\n",
    "for index, row in tqdm_notebook(fish_comments.iterrows()):\n",
    "    if row['mini_place'].find('�?')>-1:\n",
    "        column_main_place.append(row['mini_place'].replace('�?', 'И'))\n",
    "    else:\n",
    "        column_main_place.append(row['mini_place'])\n",
    "fish_comments['mini_place'] = column_main_place\n",
    "\n",
    "column_main_place = []\n",
    "for index, row in tqdm_notebook(types_comments.iterrows()):\n",
    "    if row['main_place'].find('�?')>-1:\n",
    "        column_main_place.append(row['main_place'].replace('�?', 'И'))\n",
    "    else:\n",
    "        column_main_place.append(row['main_place'])\n",
    "types_comments['main_place'] = column_main_place\n",
    "\n",
    "column_main_place = []\n",
    "for index, row in tqdm_notebook(types_comments.iterrows()):\n",
    "    if row['mini_place'].find('�?')>-1:\n",
    "        column_main_place.append(row['mini_place'].replace('�?', 'И'))\n",
    "    else:\n",
    "        column_main_place.append(row['mini_place'])\n",
    "types_comments['mini_place'] = column_main_place\n",
    "\n",
    "\n"
   ]
  },
  {
   "cell_type": "code",
   "execution_count": null,
   "metadata": {},
   "outputs": [],
   "source": [
    "places = set()\n",
    "for index, row in tqdm_notebook(fish_comments.iterrows()):\n",
    "    places.add(' '.join([row['main_place'], row['mini_place']]))\n",
    "places"
   ]
  },
  {
   "cell_type": "code",
   "execution_count": null,
   "metadata": {},
   "outputs": [],
   "source": [
    "from google import google\n",
    "num_page = 1\n",
    "search_results = google.search(\"Рыбинское водохранилище. Брейтово\", num_page)"
   ]
  },
  {
   "cell_type": "code",
   "execution_count": null,
   "metadata": {},
   "outputs": [],
   "source": [
    "print(search_results[0].link)"
   ]
  },
  {
   "cell_type": "code",
   "execution_count": null,
   "metadata": {},
   "outputs": [],
   "source": [
    "from deeppavlov import configs, build_model\n",
    "\n",
    "ner_model = build_model('ner_rus_bert')"
   ]
  },
  {
   "cell_type": "code",
   "execution_count": null,
   "metadata": {},
   "outputs": [],
   "source": [
    "def city_name_find(text):\n",
    "    predict_result = ner_model([text])\n",
    "    result = []\n",
    "    for index in range(len(predict_result[1][0])):\n",
    "        if predict_result[1][0][index] in ['B-LOC', 'I-LOC']:\n",
    "            result.append(predict_result[0][0][index])\n",
    "    return ' '.join(result)"
   ]
  },
  {
   "cell_type": "code",
   "execution_count": null,
   "metadata": {},
   "outputs": [],
   "source": [
    "places_dict = {place: city_name_find(place) for place in tqdm_notebook(places)}"
   ]
  },
  {
   "cell_type": "code",
   "execution_count": null,
   "metadata": {},
   "outputs": [],
   "source": [
    "search_results = {}\n",
    "for key in tqdm_notebook(places_dict):\n",
    "    if places_dict[key]:\n",
    "        search_results[key] = google.search(places_dict[key] + ' википедия', 1)\n",
    "    else:\n",
    "        search_results[key] = []"
   ]
  },
  {
   "cell_type": "code",
   "execution_count": null,
   "metadata": {},
   "outputs": [],
   "source": [
    "for key in tqdm_notebook(places_dict):\n",
    "    if places_dict[key]:\n",
    "        if not search_results[key]:\n",
    "            search_results[key] = google.search(places_dict[key] + ' википедия', 1)"
   ]
  },
  {
   "cell_type": "code",
   "execution_count": null,
   "metadata": {},
   "outputs": [],
   "source": [
    "import requests\n",
    "from time import sleep"
   ]
  },
  {
   "cell_type": "code",
   "execution_count": null,
   "metadata": {},
   "outputs": [],
   "source": [
    "wiki_pages = {}\n",
    "for key in tqdm_notebook(search_results):\n",
    "    temp = search_results[key]\n",
    "    for page in temp:\n",
    "        sleep(1)\n",
    "        link = page.link\n",
    "        if not link:\n",
    "            continue\n",
    "        page_source = requests.get(link)\n",
    "        if 'Субъект Федерации' in page_source.text or 'Субъект РФ' in page_source.text or 'Регионы' in page_source.text:\n",
    "            wiki_pages[key] = page_source\n",
    "            break"
   ]
  },
  {
   "cell_type": "code",
   "execution_count": 72,
   "metadata": {},
   "outputs": [
    {
     "data": {
      "text/plain": [
       "'<!DOCTYPE html>\\n<html class=\"client-nojs\" lang=\"ru\" dir=\"ltr\">\\n<head>\\n<meta charset=\"UTF-8\"/>\\n<title>Богослово (Щёлковский район) — Википедия</title>\\n<script>document.documentElement.className=\"client-js\";RLCONF={\"wgBreakFrames\":!1,\"wgSeparatorTransformTable\":[\",\\\\t.\",\"\\xa0\\\\t,\"],\"wgDigitTransformTable\":[\"\",\"\"],\"wgDefaultDateFormat\":\"dmy\",\"wgMonthNames\":[\"\",\"январь\",\"февраль\",\"март\",\"апрель\",\"май\",\"июнь\",\"июль\",\"август\",\"сентябрь\",\"октябрь\",\"ноябрь\",\"декабрь\"],\"wgMonthNamesShort\":[\"\",\"янв\",\"фев\",\"мар\",\"апр\",\"май\",\"июн\",\"июл\",\"авг\",\"сен\",\"окт\",\"ноя\",\"дек\"],\"wgRequestId\":\"XmlVtQpAADwAAJhCy2UAAADB\",\"wgCSPNonce\":!1,\"wgCanonicalNamespace\":\"\",\"wgCanonicalSpecialPageName\":!1,\"wgNamespaceNumber\":0,\"wgPageName\":\"Богослово_(Щёлковский_район)\",\"wgTitle\":\"Богослово (Щёлковский район)\",\"wgCurRevisionId\":104582979,\"wgRevisionId\":104582979,\"wgArticleId\":2608536,\"wgIsArticle\":!0,\"wgIsRedirect\":!1,\"wgAction\":\"view\",\"wgUserName\":null,\"wgUserGroups\":[\"*\"],\"wgCategories\":[\\n\"Википедия:Статьи с некорректным использованием шаблонов:Cite web (не указан язык)\",\"Википедия:Статьи с переопределением значения из Викиданных\",\"Википедия:Ссылка на Викисклад непосредственно в статье\",\"ПРО:Города:Последняя правка: в текущем году\",\"Википедия:Страницы с картами\",\"Населённые пункты по алфавиту\",\"Населённые пункты Щёлковского района\",\"Сельское поселение Гребневское (Московская область)\"],\"wgPageContentLanguage\":\"ru\",\"wgPageContentModel\":\"wikitext\",\"wgRelevantPageName\":\"Богослово_(Щёлковский_район)\",\"wgRelevantArticleId\":2608536,\"wgIsProbablyEditable\":!0,\"wgRelevantPageIsProbablyEditable\":!0,\"wgRestrictionEdit\":[],\\n\"wgRestrictionMove\":[],\"wgFlaggedRevsParams\":{\"tags\":{\"accuracy\":{\"levels\":3,\"quality\":2,\"pristine\":4}}},\"wgStableRevisionId\":93004735,\"wgMediaViewerOnClick\":!0,\"wgMediaViewerEnabledByDefault\":!0,\"wgPopupsReferencePreviews\":!1,\"wgPopupsConflictsWithNavPopupGadget\":!1,\"wgVisualEditor\":{\"pageLanguageCode\":\"ru\",\"pageLanguageDir\":\"ltr\",\"pageVariantFallbacks\":\"ru\"},\"wgMFDisplayWikibaseDescriptions\":{\"search\":!0,\"nearby\":!0,\"watchlist\":!0,\"tagline\":!1},\"wgWMESchemaEditAttemptStepOversample\":!1,\"wgULSCurrentAutonym\":\"русский\",\"wgNoticeProject\":\"wikipedia\",\"wgCoordinates\":{\"lat\":56.01,\"lon\":38.06222},\"wgWikibaseItemId\":\"Q4089763\",\"wgCentralAuthMobileDomain\":!1,\"wgEditSubmitButtonLabelPublish\":!0};RLSTATE={\"ext.globalCssJs.user.styles\":\"ready\",\"site.styles\":\"ready\",\"noscript\":\"ready\",\"user.styles\":\"ready\",\"ext.globalCssJs.user\":\"ready\",\"user\":\"ready\",\"user.options\":\"loading\",\"user.tokens\":\"loading\",\"ext.flaggedRevs.icons\":\"ready\",\"oojs-ui-core.styles\":\"ready\",\\n\"oojs-ui.styles.indicators\":\"ready\",\"mediawiki.widgets.styles\":\"ready\",\"oojs-ui-core.icons\":\"ready\",\"ext.kartographer.style\":\"ready\",\"ext.cite.styles\":\"ready\",\"mediawiki.legacy.shared\":\"ready\",\"mediawiki.legacy.commonPrint\":\"ready\",\"mediawiki.toc.styles\":\"ready\",\"skins.vector.styles\":\"ready\",\"wikibase.client.init\":\"ready\",\"ext.flaggedRevs.basic\":\"ready\",\"ext.visualEditor.desktopArticleTarget.noscript\":\"ready\",\"ext.uls.interlanguage\":\"ready\",\"ext.wikimediaBadges\":\"ready\"};RLPAGEMODULES=[\"ext.kartographer.link\",\"ext.cite.ux-enhancements\",\"ext.scribunto.logs\",\"site\",\"mediawiki.page.startup\",\"skins.vector.js\",\"mediawiki.page.ready\",\"mediawiki.toc\",\"ext.flaggedRevs.advanced\",\"ext.gadget.collapserefs\",\"ext.gadget.directLinkToCommons\",\"ext.gadget.referenceTooltips\",\"ext.gadget.logo\",\"ext.gadget.edittop\",\"ext.gadget.blpEditNotice\",\"ext.gadget.wikibugs\",\"ext.gadget.sidebarRelated\",\"ext.centralauth.centralautologin\",\"mmv.head\",\"mmv.bootstrap.autostart\",\"ext.popups\",\\n\"ext.visualEditor.desktopArticleTarget.init\",\"ext.visualEditor.targetLoader\",\"ext.eventLogging\",\"ext.wikimediaEvents\",\"ext.navigationTiming\",\"ext.uls.compactlinks\",\"ext.uls.interface\",\"ext.cx.eventlogging.campaigns\",\"ext.quicksurveys.init\",\"ext.centralNotice.geoIP\",\"ext.centralNotice.startUp\"];</script>\\n<script>(RLQ=window.RLQ||[]).push(function(){mw.loader.implement(\"user.options@1cm6q\",function($,jQuery,require,module){/*@nomin*/mw.user.options.set({\"variant\":\"ru\"});\\n});mw.loader.implement(\"user.tokens@tffin\",function($,jQuery,require,module){/*@nomin*/mw.user.tokens.set({\"patrolToken\":\"+\\\\\\\\\",\"watchToken\":\"+\\\\\\\\\",\"csrfToken\":\"+\\\\\\\\\"});\\n});});</script>\\n<link rel=\"stylesheet\" href=\"/w/load.php?lang=ru&amp;modules=ext.cite.styles%7Cext.flaggedRevs.basic%2Cicons%7Cext.kartographer.style%7Cext.uls.interlanguage%7Cext.visualEditor.desktopArticleTarget.noscript%7Cext.wikimediaBadges%7Cmediawiki.legacy.commonPrint%2Cshared%7Cmediawiki.toc.styles%7Cmediawiki.widgets.styles%7Coojs-ui-core.icons%2Cstyles%7Coojs-ui.styles.indicators%7Cskins.vector.styles%7Cwikibase.client.init&amp;only=styles&amp;skin=vector\"/>\\n<script async=\"\" src=\"/w/load.php?lang=ru&amp;modules=startup&amp;only=scripts&amp;raw=1&amp;skin=vector\"></script>\\n<meta name=\"ResourceLoaderDynamicStyles\" content=\"\"/>\\n<link rel=\"stylesheet\" href=\"/w/load.php?lang=ru&amp;modules=site.styles&amp;only=styles&amp;skin=vector\"/>\\n<noscript><link rel=\"stylesheet\" href=\"/w/load.php?lang=ru&amp;modules=noscript&amp;only=styles&amp;skin=vector\"/></noscript>\\n<meta name=\"generator\" content=\"MediaWiki 1.35.0-wmf.22\"/>\\n<meta name=\"referrer\" content=\"origin\"/>\\n<meta name=\"referrer\" content=\"origin-when-crossorigin\"/>\\n<meta name=\"referrer\" content=\"origin-when-cross-origin\"/>\\n<meta property=\"og:image\" content=\"https://upload.wikimedia.org/wikipedia/commons/thumb/0/03/Bogoslovo_Church_of_the_Theotokos_of_Kazan_20146.jpg/1200px-Bogoslovo_Church_of_the_Theotokos_of_Kazan_20146.jpg\"/>\\n<link rel=\"alternate\" type=\"application/x-wiki\" title=\"Править\" href=\"/w/index.php?title=%D0%91%D0%BE%D0%B3%D0%BE%D1%81%D0%BB%D0%BE%D0%B2%D0%BE_(%D0%A9%D1%91%D0%BB%D0%BA%D0%BE%D0%B2%D1%81%D0%BA%D0%B8%D0%B9_%D1%80%D0%B0%D0%B9%D0%BE%D0%BD)&amp;action=edit\"/>\\n<link rel=\"edit\" title=\"Править\" href=\"/w/index.php?title=%D0%91%D0%BE%D0%B3%D0%BE%D1%81%D0%BB%D0%BE%D0%B2%D0%BE_(%D0%A9%D1%91%D0%BB%D0%BA%D0%BE%D0%B2%D1%81%D0%BA%D0%B8%D0%B9_%D1%80%D0%B0%D0%B9%D0%BE%D0%BD)&amp;action=edit\"/>\\n<link rel=\"apple-touch-icon\" href=\"/static/apple-touch/wikipedia.png\"/>\\n<link rel=\"shortcut icon\" href=\"/static/favicon/wikipedia.ico\"/>\\n<link rel=\"search\" type=\"application/opensearchdescription+xml\" href=\"/w/opensearch_desc.php\" title=\"Википедия (ru)\"/>\\n<link rel=\"EditURI\" type=\"application/rsd+xml\" href=\"//ru.wikipedia.org/w/api.php?action=rsd\"/>\\n<link rel=\"license\" href=\"//creativecommons.org/licenses/by-sa/3.0/\"/>\\n<link rel=\"alternate\" type=\"application/atom+xml\" title=\"Википедия\\xa0— Atom-лента\" href=\"/w/index.php?title=%D0%A1%D0%BB%D1%83%D0%B6%D0%B5%D0%B1%D0%BD%D0%B0%D1%8F:%D0%A1%D0%B2%D0%B5%D0%B6%D0%B8%D0%B5_%D0%BF%D1%80%D0%B0%D0%B2%D0%BA%D0%B8&amp;feed=atom\"/>\\n<link rel=\"canonical\" href=\"https://ru.wikipedia.org/wiki/%D0%91%D0%BE%D0%B3%D0%BE%D1%81%D0%BB%D0%BE%D0%B2%D0%BE_(%D0%A9%D1%91%D0%BB%D0%BA%D0%BE%D0%B2%D1%81%D0%BA%D0%B8%D0%B9_%D1%80%D0%B0%D0%B9%D0%BE%D0%BD)\"/>\\n<link rel=\"dns-prefetch\" href=\"//login.wikimedia.org\"/>\\n<link rel=\"dns-prefetch\" href=\"//meta.wikimedia.org\" />\\n<!--[if lt IE 9]><script src=\"/w/resources/lib/html5shiv/html5shiv.js\"></script><![endif]-->\\n</head>\\n<body class=\"mediawiki ltr sitedir-ltr mw-hide-empty-elt ns-0 ns-subject mw-editable page-Богослово_Щёлковский_район rootpage-Богослово_Щёлковский_район skin-vector action-view\">\\n<div id=\"mw-page-base\" class=\"noprint\"></div>\\n<div id=\"mw-head-base\" class=\"noprint\"></div>\\n<div id=\"content\" class=\"mw-body\" role=\"main\">\\n\\t<a id=\"top\"></a>\\n\\t<div id=\"siteNotice\" class=\"mw-body-content\"><!-- CentralNotice --></div>\\n\\t<div class=\"mw-indicators mw-body-content\">\\n<div id=\"mw-indicator-0-coord\" class=\"mw-indicator\"><span class=\"coordinates plainlinks nourlexpansion\" data-param=\"56_00_36_N_38_03_44_E_scale:30000_region:RU_type:city\"><span title=\"Показать карту\"><a class=\"mw-kartographer-maplink\" data-mw=\"interface\" data-style=\"osm-intl\" href=\"/wiki/%D0%A1%D0%BB%D1%83%D0%B6%D0%B5%D0%B1%D0%BD%D0%B0%D1%8F:Map/14/56.01/38.06222/ru\" data-zoom=\"14\" data-lat=\"56.01\" data-lon=\"38.06222\" data-lang=\"ru\" data-overlays=\"[&quot;_a0d6a1d0d3f69b56ad2889ecdf6f12f39791bbcf&quot;]\">56°00′36″&#160;с.&#160;ш. 38°03′44″&#160;в.&#160;д.</a></span><sup class=\"geo-services noprint\"><span class=\"geo-geohack\" title=\"Карты и инструменты на GeoHack\"><a class=\"external text\" href=\"//tools.wmflabs.org/geohack/geohack.php?language=ru&amp;pagename=%D0%91%D0%BE%D0%B3%D0%BE%D1%81%D0%BB%D0%BE%D0%B2%D0%BE_(%D0%A9%D1%91%D0%BB%D0%BA%D0%BE%D0%B2%D1%81%D0%BA%D0%B8%D0%B9_%D1%80%D0%B0%D0%B9%D0%BE%D0%BD)&amp;params=56_00_36_N_38_03_44_E_scale:30000_region:RU_type:city\"><span>H</span></a></span><span class=\"geo-google\" title=\"Это место на «Картах Google»\"><a rel=\"nofollow\" class=\"external text\" href=\"//maps.google.com/maps?ll=56.01000,38.06222&amp;q=56.01000,38.06222&amp;spn=0.03,0.03&amp;t=h&amp;hl=ru\"><span>G</span></a></span><span class=\"geo-yandex\" title=\"Это место на «Яндекс.Картах»\"><a rel=\"nofollow\" class=\"external text\" href=\"//yandex.ru/maps/?ll=38.06222,56.01000&amp;pt=38.06222,56.01000&amp;spn=0.03,0.03&amp;l=sat,skl\"><span>Я</span></a></span><span class=\"geo-osm\" title=\"Это место на карте OpenStreetMap\"><a rel=\"nofollow\" class=\"external text\" href=\"https://www.openstreetmap.org/?mlat=56.01000&amp;mlon=38.06222&amp;zoom=14\"><span>O</span></a></span><span class=\"geo-loadmap\" style=\"display: none;\" title=\"Это место на картах ГШ и ГУГК\"><a rel=\"nofollow\" class=\"external text\" href=\"http://loadmap.net/ru?q=56.01000%2038.06222&amp;z=14&amp;s=0\"><span>L</span></a></span></sup></span></div>\\n</div>\\n\\n\\t<h1 id=\"firstHeading\" class=\"firstHeading\" lang=\"ru\">Богослово (Щёлковский район)</h1>\\n\\t\\n\\t<div id=\"bodyContent\" class=\"mw-body-content\">\\n\\t\\t<div id=\"siteSub\" class=\"noprint\">Материал из Википедии — свободной энциклопедии</div>\\n\\t\\t<div id=\"contentSub\"><div id=\\'mw-fr-reviewnotice\\' class=\\'plainlinks flaggedrevs_preview\\'>Текущая версия страницы пока <a href=\"/wiki/%D0%92%D0%B8%D0%BA%D0%B8%D0%BF%D0%B5%D0%B4%D0%B8%D1%8F:%D0%9F%D1%80%D0%BE%D0%B2%D0%B5%D1%80%D0%BA%D0%B0_%D1%81%D1%82%D0%B0%D1%82%D0%B5%D0%B9/%D0%9F%D0%BE%D1%8F%D1%81%D0%BD%D0%B5%D0%BD%D0%B8%D0%B5_%D0%B4%D0%BB%D1%8F_%D1%87%D0%B8%D1%82%D0%B0%D1%82%D0%B5%D0%BB%D0%B5%D0%B9\" title=\"Википедия:Проверка статей/Пояснение для читателей\">не проверялась</a> опытными участниками и может значительно отличаться от <a class=\"external text\" href=\"https://ru.wikipedia.org/w/index.php?title=%D0%91%D0%BE%D0%B3%D0%BE%D1%81%D0%BB%D0%BE%D0%B2%D0%BE_(%D0%A9%D1%91%D0%BB%D0%BA%D0%BE%D0%B2%D1%81%D0%BA%D0%B8%D0%B9_%D1%80%D0%B0%D0%B9%D0%BE%D0%BD)&amp;stable=1\">версии</a>, проверенной 1 июня 2018; \\nпроверки требуют <a class=\"external text\" href=\"https://ru.wikipedia.org/w/index.php?title=%D0%91%D0%BE%D0%B3%D0%BE%D1%81%D0%BB%D0%BE%D0%B2%D0%BE_(%D0%A9%D1%91%D0%BB%D0%BA%D0%BE%D0%B2%D1%81%D0%BA%D0%B8%D0%B9_%D1%80%D0%B0%D0%B9%D0%BE%D0%BD)&amp;oldid=93004735&amp;diff=cur&amp;diffonly=0\">2 правки</a>.</div><div id=\"mw-fr-revisiontag\" class=\"flaggedrevs_short flaggedrevs_draft_notsynced plainlinks noprint\"><div class=\"flaggedrevs_short_basic\"><span aria-disabled=\\'false\\' title=\\'Текущая версия\\' class=\\'flaggedrevs-icon oo-ui-widget oo-ui-widget-enabled oo-ui-iconElement-icon oo-ui-icon-block oo-ui-iconElement oo-ui-labelElement-invisible oo-ui-iconWidget\\'></span><span id=\\'mw-fr-revisiontoggle\\' aria-disabled=\\'false\\' title=\\'показать/скрыть подробности\\' class=\\'fr-toggle-arrow oo-ui-widget oo-ui-widget-enabled oo-ui-indicatorElement-indicator oo-ui-indicator-down oo-ui-indicatorElement oo-ui-labelElement-invisible oo-ui-indicatorWidget\\'></span></div>\\n<div id=\"mw-fr-revisiondetails-wrapper\" style=\"position:relative;\"><div id=\"mw-fr-revisiondetails\" class=\"flaggedrevs_short_details\" style=\"display:none\">Текущая версия страницы пока <a href=\"/wiki/%D0%92%D0%B8%D0%BA%D0%B8%D0%BF%D0%B5%D0%B4%D0%B8%D1%8F:%D0%9F%D1%80%D0%BE%D0%B2%D0%B5%D1%80%D0%BA%D0%B0_%D1%81%D1%82%D0%B0%D1%82%D0%B5%D0%B9/%D0%9F%D0%BE%D1%8F%D1%81%D0%BD%D0%B5%D0%BD%D0%B8%D0%B5_%D0%B4%D0%BB%D1%8F_%D1%87%D0%B8%D1%82%D0%B0%D1%82%D0%B5%D0%BB%D0%B5%D0%B9\" title=\"Википедия:Проверка статей/Пояснение для читателей\">не проверялась</a> опытными участниками и может значительно отличаться от <a class=\"external text\" href=\"https://ru.wikipedia.org/w/index.php?title=%D0%91%D0%BE%D0%B3%D0%BE%D1%81%D0%BB%D0%BE%D0%B2%D0%BE_(%D0%A9%D1%91%D0%BB%D0%BA%D0%BE%D0%B2%D1%81%D0%BA%D0%B8%D0%B9_%D1%80%D0%B0%D0%B9%D0%BE%D0%BD)&amp;stable=1\">версии</a>, проверенной 1 июня 2018; \\nпроверки требуют <a class=\"external text\" href=\"https://ru.wikipedia.org/w/index.php?title=%D0%91%D0%BE%D0%B3%D0%BE%D1%81%D0%BB%D0%BE%D0%B2%D0%BE_(%D0%A9%D1%91%D0%BB%D0%BA%D0%BE%D0%B2%D1%81%D0%BA%D0%B8%D0%B9_%D1%80%D0%B0%D0%B9%D0%BE%D0%BD)&amp;oldid=93004735&amp;diff=cur&amp;diffonly=0\">2 правки</a>.</div>\\n</div>\\n</div>\\n</div>\\n\\t\\t\\n\\t\\t\\n\\t\\t<div id=\"jump-to-nav\"></div>\\n\\t\\t<a class=\"mw-jump-link\" href=\"#mw-head\">Перейти к навигации</a>\\n\\t\\t<a class=\"mw-jump-link\" href=\"#p-search\">Перейти к поиску</a>\\n\\t\\t<div id=\"mw-content-text\" lang=\"ru\" dir=\"ltr\" class=\"mw-content-ltr\"><div class=\"mw-parser-output\"><div class=\"dablink hatnote noprint\">У этого термина существуют и другие значения, см. <a href=\"/wiki/%D0%91%D0%BE%D0%B3%D0%BE%D1%81%D0%BB%D0%BE%D0%B2%D0%BE\" class=\"mw-disambig\" title=\"Богослово\">Богослово</a>.</div>\\n<table class=\"infobox vcard\" style=\"\" data-name=\"НП+Россия\"><tbody><tr><td colspan=\"2\" class=\"\" style=\"text-align:center;\">Деревня</td></tr><tr><th colspan=\"2\" class=\"infobox-above fn org\" style=\"background:#cfe3ff;\">Богослово</th></tr><tr><td colspan=\"2\" class=\"infobox-image\" style=\"\"> <span class=\"no-wikidata\" data-wikidata-property-id=\"P18\"><a href=\"/wiki/%D0%A4%D0%B0%D0%B9%D0%BB:Bogoslovo_Church_of_the_Theotokos_of_Kazan_20146.jpg\" class=\"image\"><img alt=\"Bogoslovo Church of the Theotokos of Kazan 20146.jpg\" src=\"//upload.wikimedia.org/wikipedia/commons/thumb/0/03/Bogoslovo_Church_of_the_Theotokos_of_Kazan_20146.jpg/290px-Bogoslovo_Church_of_the_Theotokos_of_Kazan_20146.jpg\" decoding=\"async\" width=\"290\" height=\"193\" srcset=\"//upload.wikimedia.org/wikipedia/commons/thumb/0/03/Bogoslovo_Church_of_the_Theotokos_of_Kazan_20146.jpg/435px-Bogoslovo_Church_of_the_Theotokos_of_Kazan_20146.jpg 1.5x, //upload.wikimedia.org/wikipedia/commons/thumb/0/03/Bogoslovo_Church_of_the_Theotokos_of_Kazan_20146.jpg/580px-Bogoslovo_Church_of_the_Theotokos_of_Kazan_20146.jpg 2x\" data-file-width=\"1417\" data-file-height=\"945\" /></a><br /><span class=\"media-caption\" data-wikidata-qualifier-id=\"P2096\" style=\"display:block;\">Церковь <a href=\"/wiki/%D0%9A%D0%B0%D0%B7%D0%B0%D0%BD%D1%81%D0%BA%D0%B0%D1%8F_%D0%B8%D0%BA%D0%BE%D0%BD%D0%B0_%D0%91%D0%BE%D0%B6%D0%B8%D0%B5%D0%B9_%D0%9C%D0%B0%D1%82%D0%B5%D1%80%D0%B8\" title=\"Казанская икона Божией Матери\">Казанской Божией Матери</a> (1801) в селе Богослово</span></span> </td></tr>\\n<tr>\\n<td colspan=\"2\" class=\"plainlist\" style=\"text-align:center;width:60%;text-align: center; padding-bottom:0.25em;\">\\n<span class=\"coordinates plainlinks nourlexpansion\" data-param=\"56_00_36_N_38_03_44_E_scale:30000_region:RU_type:city\"><span title=\"Показать карту\"><a class=\"mw-kartographer-maplink\" data-mw=\"interface\" data-style=\"osm-intl\" href=\"/wiki/%D0%A1%D0%BB%D1%83%D0%B6%D0%B5%D0%B1%D0%BD%D0%B0%D1%8F:Map/14/56.01/38.06222/ru\" data-zoom=\"14\" data-lat=\"56.01\" data-lon=\"38.06222\" data-lang=\"ru\" data-overlays=\"[&quot;_a0d6a1d0d3f69b56ad2889ecdf6f12f39791bbcf&quot;]\">56°00′36″&#160;с.&#160;ш. 38°03′44″&#160;в.&#160;д.</a></span><sup class=\"geo-services noprint\"><span class=\"geo-geohack\" title=\"Карты и инструменты на GeoHack\"><a class=\"external text\" href=\"//tools.wmflabs.org/geohack/geohack.php?language=ru&amp;pagename=%D0%91%D0%BE%D0%B3%D0%BE%D1%81%D0%BB%D0%BE%D0%B2%D0%BE_(%D0%A9%D1%91%D0%BB%D0%BA%D0%BE%D0%B2%D1%81%D0%BA%D0%B8%D0%B9_%D1%80%D0%B0%D0%B9%D0%BE%D0%BD)&amp;params=56_00_36_N_38_03_44_E_scale:30000_region:RU_type:city\"><span>H</span></a></span><span class=\"geo-google\" title=\"Это место на «Картах Google»\"><a rel=\"nofollow\" class=\"external text\" href=\"//maps.google.com/maps?ll=56.01000,38.06222&amp;q=56.01000,38.06222&amp;spn=0.03,0.03&amp;t=h&amp;hl=ru\"><span>G</span></a></span><span class=\"geo-yandex\" title=\"Это место на «Яндекс.Картах»\"><a rel=\"nofollow\" class=\"external text\" href=\"//yandex.ru/maps/?ll=38.06222,56.01000&amp;pt=38.06222,56.01000&amp;spn=0.03,0.03&amp;l=sat,skl\"><span>Я</span></a></span><span class=\"geo-osm\" title=\"Это место на карте OpenStreetMap\"><a rel=\"nofollow\" class=\"external text\" href=\"https://www.openstreetmap.org/?mlat=56.01000&amp;mlon=38.06222&amp;zoom=14\"><span>O</span></a></span><span class=\"geo-loadmap\" style=\"display: none;\" title=\"Это место на картах ГШ и ГУГК\"><a rel=\"nofollow\" class=\"external text\" href=\"http://loadmap.net/ru?q=56.01000%2038.06222&amp;z=14&amp;s=0\"><span>L</span></a></span></sup></span></td>\\n</tr>\\n<tr>\\n<th class=\"plainlist\" style=\"width:40%;\">Страна</th>\\n<td class=\"plainlist\" style=\"width:60%;\">\\n<span class=\"no-wikidata\" data-wikidata-property-id=\"P17\"><span class=\"nowrap\" data-sort-value=\"Россия\"><span class=\"flagicon\"><a href=\"/wiki/%D0%A0%D0%BE%D1%81%D1%81%D0%B8%D1%8F\" title=\"Россия\"><img alt=\"\" src=\"//upload.wikimedia.org/wikipedia/commons/thumb/f/f3/Flag_of_Russia.svg/22px-Flag_of_Russia.svg.png\" decoding=\"async\" width=\"22\" height=\"15\" class=\"thumbborder\" srcset=\"//upload.wikimedia.org/wikipedia/commons/thumb/f/f3/Flag_of_Russia.svg/33px-Flag_of_Russia.svg.png 1.5x, //upload.wikimedia.org/wikipedia/commons/thumb/f/f3/Flag_of_Russia.svg/44px-Flag_of_Russia.svg.png 2x\" data-file-width=\"900\" data-file-height=\"600\" /></a></span>&#160;<a href=\"/wiki/%D0%A0%D0%BE%D1%81%D1%81%D0%B8%D1%8F\" title=\"Россия\"><span class=\"wrap\">Россия</span></a></span></span></td>\\n</tr>\\n<tr>\\n<th class=\"plainlist\" style=\"width:40%;\"><a href=\"/wiki/%D0%A4%D0%B5%D0%B4%D0%B5%D1%80%D0%B0%D1%82%D0%B8%D0%B2%D0%BD%D0%BE%D0%B5_%D1%83%D1%81%D1%82%D1%80%D0%BE%D0%B9%D1%81%D1%82%D0%B2%D0%BE_%D0%A0%D0%BE%D1%81%D1%81%D0%B8%D0%B8\" title=\"Федеративное устройство России\">Субъект Федерации</a></th>\\n<td class=\"plainlist\" style=\"width:60%;\">\\n<a href=\"/wiki/%D0%9C%D0%BE%D1%81%D0%BA%D0%BE%D0%B2%D1%81%D0%BA%D0%B0%D1%8F_%D0%BE%D0%B1%D0%BB%D0%B0%D1%81%D1%82%D1%8C\" title=\"Московская область\">Московская область</a></td>\\n</tr>\\n<tr>\\n<th class=\"plainlist\" style=\"width:40%;\"><a href=\"/wiki/%D0%9C%D1%83%D0%BD%D0%B8%D1%86%D0%B8%D0%BF%D0%B0%D0%BB%D1%8C%D0%BD%D1%8B%D0%B9_%D1%80%D0%B0%D0%B9%D0%BE%D0%BD_(%D0%A0%D0%BE%D1%81%D1%81%D0%B8%D1%8F)\" title=\"Муниципальный район (Россия)\">Муниципальный район</a></th>\\n<td class=\"plainlist\" style=\"width:60%;\">\\n<a href=\"/wiki/%D0%A9%D1%91%D0%BB%D0%BA%D0%BE%D0%B2%D1%81%D0%BA%D0%B8%D0%B9_%D1%80%D0%B0%D0%B9%D0%BE%D0%BD\" title=\"Щёлковский район\">Щёлковский</a></td>\\n</tr>\\n<tr>\\n<th class=\"plainlist\" style=\"width:40%;\"><a href=\"/wiki/%D0%A1%D0%B5%D0%BB%D1%8C%D1%81%D0%BA%D0%BE%D0%B5_%D0%BF%D0%BE%D1%81%D0%B5%D0%BB%D0%B5%D0%BD%D0%B8%D0%B5_(%D0%A0%D0%BE%D1%81%D1%81%D0%B8%D1%8F)\" class=\"mw-redirect\" title=\"Сельское поселение (Россия)\">Сельское поселение</a></th>\\n<td class=\"plainlist\" style=\"width:60%;\">\\n<a href=\"/wiki/%D0%A1%D0%B5%D0%BB%D1%8C%D1%81%D0%BA%D0%BE%D0%B5_%D0%BF%D0%BE%D1%81%D0%B5%D0%BB%D0%B5%D0%BD%D0%B8%D0%B5_%D0%93%D1%80%D0%B5%D0%B1%D0%BD%D0%B5%D0%B2%D1%81%D0%BA%D0%BE%D0%B5_(%D0%9C%D0%BE%D1%81%D0%BA%D0%BE%D0%B2%D1%81%D0%BA%D0%B0%D1%8F_%D0%BE%D0%B1%D0%BB%D0%B0%D1%81%D1%82%D1%8C)\" title=\"Сельское поселение Гребневское (Московская область)\">Гребневское</a></td>\\n</tr>\\n<tr>\\n<th colspan=\"2\" class=\"infobox-header\" style=\"background:#dcebff;\">История и география</th>\\n</tr>\\n<tr>\\n<th class=\"plainlist\" style=\"width:40%;\">Первое упоминание</th>\\n<td class=\"plainlist\" style=\"width:60%;\">\\n<span class=\"no-wikidata\" data-wikidata-property-id=\"P1249\"><a href=\"/wiki/1584\" class=\"mw-redirect\" title=\"1584\">1584</a></span></td>\\n</tr>\\n<tr>\\n<th class=\"plainlist\" style=\"width:40%;\">Прежние названия</th>\\n<td class=\"plainlist\" style=\"width:60%;\">\\nФомино</td>\\n</tr>\\n<tr>\\n<th class=\"plainlist\" style=\"width:40%;\"><a href=\"/wiki/%D0%A7%D0%B0%D1%81%D0%BE%D0%B2%D0%BE%D0%B9_%D0%BF%D0%BE%D1%8F%D1%81\" title=\"Часовой пояс\">Часовой пояс</a></th>\\n<td class=\"plainlist\" style=\"width:60%;\">\\n<span class=\"no-wikidata\" data-wikidata-property-id=\"P421\"><a href=\"/wiki/UTC%2B3:00\" title=\"UTC+3:00\">UTC+3:00</a></span></td>\\n</tr>\\n<tr>\\n<th colspan=\"2\" class=\"infobox-header\" style=\"background:#dcebff;\">Население</th>\\n</tr>\\n<tr>\\n<th class=\"plainlist\" style=\"width:40%;\">Население</th>\\n<td class=\"plainlist\" style=\"width:60%;\">\\n<span class=\"no-wikidata\" data-wikidata-property-id=\"P1082\"><span class=\"nowrap\"><span style=\"color: red; font-weight:bold; font-size: larger;\">↘</span>614<sup id=\"cite_ref-2010BG_1-0\" class=\"reference\"><a href=\"#cite_note-2010BG-1\">&#91;1&#93;</a></sup>&#160;человек (<span data-wikidata-qualifier-id=\"P585\">2010</span>)</span></span></td>\\n</tr>\\n<tr>\\n<th colspan=\"2\" class=\"infobox-header\" style=\"background:#dcebff;\">Цифровые идентификаторы</th>\\n</tr>\\n<tr>\\n<th class=\"plainlist\" style=\"width:40%;\"><a href=\"/wiki/%D0%A2%D0%B5%D0%BB%D0%B5%D1%84%D0%BE%D0%BD%D0%BD%D1%8B%D0%B9_%D0%BF%D0%BB%D0%B0%D0%BD_%D0%BD%D1%83%D0%BC%D0%B5%D1%80%D0%B0%D1%86%D0%B8%D0%B8\" title=\"Телефонный план нумерации\">Телефонный код</a></th>\\n<td class=\"plainlist\" style=\"width:60%;\">\\n+7 496-56</td>\\n</tr>\\n<tr>\\n<th class=\"plainlist\" style=\"width:40%;\"><a href=\"/wiki/%D0%9F%D0%BE%D1%87%D1%82%D0%BE%D0%B2%D1%8B%D0%B9_%D0%B8%D0%BD%D0%B4%D0%B5%D0%BA%D1%81\" title=\"Почтовый индекс\">Почтовый индекс</a></th>\\n<td class=\"plainlist\" style=\"width:60%;\">\\n<span class=\"no-wikidata\" data-wikidata-property-id=\"P281\">141196</span></td>\\n</tr>\\n<tr>\\n<th class=\"plainlist\" style=\"width:40%;\"><a href=\"/wiki/%D0%9E%D0%B1%D1%89%D0%B5%D1%80%D0%BE%D1%81%D1%81%D0%B8%D0%B9%D1%81%D0%BA%D0%B8%D0%B9_%D0%BA%D0%BB%D0%B0%D1%81%D1%81%D0%B8%D1%84%D0%B8%D0%BA%D0%B0%D1%82%D0%BE%D1%80_%D0%BE%D0%B1%D1%8A%D0%B5%D0%BA%D1%82%D0%BE%D0%B2_%D0%B0%D0%B4%D0%BC%D0%B8%D0%BD%D0%B8%D1%81%D1%82%D1%80%D0%B0%D1%82%D0%B8%D0%B2%D0%BD%D0%BE-%D1%82%D0%B5%D1%80%D1%80%D0%B8%D1%82%D0%BE%D1%80%D0%B8%D0%B0%D0%BB%D1%8C%D0%BD%D0%BE%D0%B3%D0%BE_%D0%B4%D0%B5%D0%BB%D0%B5%D0%BD%D0%B8%D1%8F\" title=\"Общероссийский классификатор объектов административно-территориального деления\">Код ОКАТО</a></th>\\n<td class=\"plainlist\" style=\"width:60%;\">\\n<span class=\"no-wikidata\" data-wikidata-property-id=\"P721\"><a rel=\"nofollow\" class=\"external text\" href=\"https://old.classif.gov.spb.ru/classificators/view/okt.php/?st=A&amp;kr=1&amp;kod=46259807006\">46259807006</a></span></td>\\n</tr>\\n<tr>\\n<th class=\"plainlist\" style=\"width:40%;\"><a href=\"/wiki/%D0%9E%D0%B1%D1%89%D0%B5%D1%80%D0%BE%D1%81%D1%81%D0%B8%D0%B9%D1%81%D0%BA%D0%B8%D0%B9_%D0%BA%D0%BB%D0%B0%D1%81%D1%81%D0%B8%D1%84%D0%B8%D0%BA%D0%B0%D1%82%D0%BE%D1%80_%D1%82%D0%B5%D1%80%D1%80%D0%B8%D1%82%D0%BE%D1%80%D0%B8%D0%B9_%D0%BC%D1%83%D0%BD%D0%B8%D1%86%D0%B8%D0%BF%D0%B0%D0%BB%D1%8C%D0%BD%D1%8B%D1%85_%D0%BE%D0%B1%D1%80%D0%B0%D0%B7%D0%BE%D0%B2%D0%B0%D0%BD%D0%B8%D0%B9\" title=\"Общероссийский классификатор территорий муниципальных образований\">Код ОКТМО</a></th>\\n<td class=\"plainlist\" style=\"width:60%;\">\\n<span class=\"wikidata-claim\" data-wikidata-property-id=\"P764\" data-wikidata-claim-id=\"Q4089763$5AF8BE84-5080-4805-96C7-2C2129B13357\"><span class=\"wikidata-snak wikidata-main-snak\"><a rel=\"nofollow\" class=\"external text\" href=\"https://old.classif.gov.spb.ru/classificators/view/tma.php/?st=A&amp;kr=1&amp;kod=46659407106\">46659407106</a></span></span></td>\\n</tr><tr><td colspan=\"2\" class=\"infobox-below\" style=\";padding: 0 1px 1px 0;\"><div class=\"location-map\" style=\"width:290px;border:none;margin:0 auto\"><div class=\"\"><div class=\"thumbimage\" style=\"overflow:hidden;max-width:100%;width:290px;position:relative;border:none\"><a href=\"/wiki/%D0%A4%D0%B0%D0%B9%D0%BB:Russia_political_location_map_(Crimea_disputed).svg\" class=\"image\" title=\"Богослово (Щёлковский район) (Россия)\"><img alt=\"Богослово (Щёлковский район) (Россия)\" src=\"//upload.wikimedia.org/wikipedia/commons/thumb/d/d0/Russia_political_location_map_%28Crimea_disputed%29.svg/290px-Russia_political_location_map_%28Crimea_disputed%29.svg.png\" decoding=\"async\" width=\"290\" height=\"164\" srcset=\"//upload.wikimedia.org/wikipedia/commons/thumb/d/d0/Russia_political_location_map_%28Crimea_disputed%29.svg/435px-Russia_political_location_map_%28Crimea_disputed%29.svg.png 1.5x, //upload.wikimedia.org/wikipedia/commons/thumb/d/d0/Russia_political_location_map_%28Crimea_disputed%29.svg/580px-Russia_political_location_map_%28Crimea_disputed%29.svg.png 2x\" data-file-width=\"2136\" data-file-height=\"1205\" /></a><div style=\"font-size:88%;line-height:1.2em;position:absolute;z-index:2;left:16.903541109823%;top:48.603608388801%\"><div style=\"position:relative;float:left;left:-4px;top:-4px;line-height:0;\"><img alt=\"Green pog.svg\" src=\"//upload.wikimedia.org/wikipedia/commons/thumb/a/ab/Green_pog.svg/9px-Green_pog.svg.png\" decoding=\"async\" width=\"9\" height=\"9\" srcset=\"//upload.wikimedia.org/wikipedia/commons/thumb/a/ab/Green_pog.svg/14px-Green_pog.svg.png 1.5x, //upload.wikimedia.org/wikipedia/commons/thumb/a/ab/Green_pog.svg/18px-Green_pog.svg.png 2x\" data-file-width=\"64\" data-file-height=\"64\" /></div><div style=\"position:absolute;width:156px;top:-0.5em;text-align:left;left:6.5px\">Богослово</div></div></div></div></div><div style=\"margin-top:2px\"></div><div class=\"location-map\" style=\"width:290px;border:none;margin:0 auto\"><div class=\"\"><div class=\"thumbimage\" style=\"overflow:hidden;max-width:100%;width:290px;position:relative;border:none\"><a href=\"/wiki/%D0%A4%D0%B0%D0%B9%D0%BB:Outline_Map_of_Moscow_Oblast.svg\" class=\"image\" title=\"Богослово (Щёлковский район) (Московская область)\"><img alt=\"Богослово (Щёлковский район) (Московская область)\" src=\"//upload.wikimedia.org/wikipedia/commons/thumb/f/f0/Outline_Map_of_Moscow_Oblast.svg/290px-Outline_Map_of_Moscow_Oblast.svg.png\" decoding=\"async\" width=\"290\" height=\"273\" srcset=\"//upload.wikimedia.org/wikipedia/commons/thumb/f/f0/Outline_Map_of_Moscow_Oblast.svg/435px-Outline_Map_of_Moscow_Oblast.svg.png 1.5x, //upload.wikimedia.org/wikipedia/commons/thumb/f/f0/Outline_Map_of_Moscow_Oblast.svg/580px-Outline_Map_of_Moscow_Oblast.svg.png 2x\" data-file-width=\"631\" data-file-height=\"595\" /></a><div style=\"font-size:88%;line-height:1.2em;position:absolute;z-index:2;left:48.895909090909%;top:44.552154949361%\"><div style=\"position:relative;float:left;left:-4px;top:-4px;line-height:0;\"><a href=\"/wiki/%D0%9C%D0%BE%D1%81%D0%BA%D0%B2%D0%B0\" title=\"Москва\"><img alt=\"Orange pog.svg\" src=\"//upload.wikimedia.org/wikipedia/commons/thumb/e/e0/Orange_pog.svg/9px-Orange_pog.svg.png\" decoding=\"async\" width=\"9\" height=\"9\" srcset=\"//upload.wikimedia.org/wikipedia/commons/thumb/e/e0/Orange_pog.svg/14px-Orange_pog.svg.png 1.5x, //upload.wikimedia.org/wikipedia/commons/thumb/e/e0/Orange_pog.svg/18px-Orange_pog.svg.png 2x\" data-file-width=\"64\" data-file-height=\"64\" /></a></div><div style=\"position:absolute;width:156px;top:-0.5em;text-align:left;left:6.5px\">Москва</div></div><div style=\"font-size:88%;line-height:1.2em;position:absolute;z-index:2;left:56.45256916996%;top:38.605505039292%\"><div style=\"position:relative;float:left;left:-4px;top:-4px;line-height:0;\"><a href=\"/wiki/%D0%A9%D1%91%D0%BB%D0%BA%D0%BE%D0%B2%D0%BE\" title=\"Щёлково\"><img alt=\"Blue pog.svg\" src=\"//upload.wikimedia.org/wikipedia/commons/thumb/d/d7/Blue_pog.svg/9px-Blue_pog.svg.png\" decoding=\"async\" width=\"9\" height=\"9\" srcset=\"//upload.wikimedia.org/wikipedia/commons/thumb/d/d7/Blue_pog.svg/14px-Blue_pog.svg.png 1.5x, //upload.wikimedia.org/wikipedia/commons/thumb/d/d7/Blue_pog.svg/18px-Blue_pog.svg.png 2x\" data-file-width=\"64\" data-file-height=\"64\" /></a></div><div style=\"position:absolute;width:156px;top:-0.5em;text-align:right;left:-162.5px\">Щёлково</div></div>\\n  <div style=\"font-size:88%;line-height:1.2em;position:absolute;z-index:2;left:57.682257356166%;top:35.155614696533%\"><div style=\"position:relative;float:left;left:-4px;top:-4px;line-height:0;\"><img alt=\"Green pog.svg\" src=\"//upload.wikimedia.org/wikipedia/commons/thumb/a/ab/Green_pog.svg/9px-Green_pog.svg.png\" decoding=\"async\" width=\"9\" height=\"9\" srcset=\"//upload.wikimedia.org/wikipedia/commons/thumb/a/ab/Green_pog.svg/14px-Green_pog.svg.png 1.5x, //upload.wikimedia.org/wikipedia/commons/thumb/a/ab/Green_pog.svg/18px-Green_pog.svg.png 2x\" data-file-width=\"64\" data-file-height=\"64\" /></div><div style=\"position:absolute;width:156px;top:-0.5em;text-align:right;left:-162.5px\">Богослово</div></div></div></div></div><div style=\"margin-top:2px\"></div><div class=\"location-map\" style=\"width:290px;border:none;margin:0 auto\"><div class=\"\"><div class=\"thumbimage\" style=\"overflow:hidden;max-width:100%;width:290px;position:relative;border:none\"><a href=\"/wiki/%D0%A4%D0%B0%D0%B9%D0%BB:RU-MOS-Shchelkovsky-outline.svg\" class=\"image\" title=\"Богослово (Щёлковский район) (Щёлковский район)\"><img alt=\"Богослово (Щёлковский район) (Щёлковский район)\" src=\"//upload.wikimedia.org/wikipedia/commons/thumb/7/74/RU-MOS-Shchelkovsky-outline.svg/290px-RU-MOS-Shchelkovsky-outline.svg.png\" decoding=\"async\" width=\"290\" height=\"322\" srcset=\"//upload.wikimedia.org/wikipedia/commons/thumb/7/74/RU-MOS-Shchelkovsky-outline.svg/435px-RU-MOS-Shchelkovsky-outline.svg.png 1.5x, //upload.wikimedia.org/wikipedia/commons/thumb/7/74/RU-MOS-Shchelkovsky-outline.svg/580px-RU-MOS-Shchelkovsky-outline.svg.png 2x\" data-file-width=\"499\" data-file-height=\"554\" /></a><div style=\"font-size:88%;line-height:1.2em;position:absolute;z-index:2;left:17.518248175182%;top:74.901960784236%\"><div style=\"position:relative;float:left;left:-4px;top:-4px;line-height:0;\"><a href=\"/wiki/%D0%A9%D1%91%D0%BB%D0%BA%D0%BE%D0%B2%D0%BE\" title=\"Щёлково\"><img alt=\"Blue pog.svg\" src=\"//upload.wikimedia.org/wikipedia/commons/thumb/d/d7/Blue_pog.svg/9px-Blue_pog.svg.png\" decoding=\"async\" width=\"9\" height=\"9\" srcset=\"//upload.wikimedia.org/wikipedia/commons/thumb/d/d7/Blue_pog.svg/14px-Blue_pog.svg.png 1.5x, //upload.wikimedia.org/wikipedia/commons/thumb/d/d7/Blue_pog.svg/18px-Blue_pog.svg.png 2x\" data-file-width=\"64\" data-file-height=\"64\" /></a></div><div style=\"position:absolute;width:156px;top:-0.5em;text-align:left;left:6.5px\">Щёлково</div></div>\\n  <div style=\"font-size:88%;line-height:1.2em;position:absolute;z-index:2;left:26.601784265985%;top:52.941176470589%\"><div style=\"position:relative;float:left;left:-4px;top:-4px;line-height:0;\"><img alt=\"Green pog.svg\" src=\"//upload.wikimedia.org/wikipedia/commons/thumb/a/ab/Green_pog.svg/9px-Green_pog.svg.png\" decoding=\"async\" width=\"9\" height=\"9\" srcset=\"//upload.wikimedia.org/wikipedia/commons/thumb/a/ab/Green_pog.svg/14px-Green_pog.svg.png 1.5x, //upload.wikimedia.org/wikipedia/commons/thumb/a/ab/Green_pog.svg/18px-Green_pog.svg.png 2x\" data-file-width=\"64\" data-file-height=\"64\" /></div><div style=\"position:absolute;width:156px;top:-0.5em;text-align:left;left:6.5px\">Богослово</div></div></div></div></div></td></tr><tr><td colspan=\"2\" class=\"infobox-below metadata\" style=\";background:#dcebff; font-weight:bold;\"><span class=\"no-wikidata\" data-wikidata-property-id=\"P373\"><a href=\"https://commons.wikimedia.org/wiki/Category:Bogoslovo_(Shchyolkovsky_District)\" title=\"commons:Category:Bogoslovo (Shchyolkovsky District)\"><img alt=\"Commons-logo.svg\" src=\"//upload.wikimedia.org/wikipedia/commons/thumb/4/4a/Commons-logo.svg/15px-Commons-logo.svg.png\" decoding=\"async\" width=\"15\" height=\"20\" srcset=\"//upload.wikimedia.org/wikipedia/commons/thumb/4/4a/Commons-logo.svg/23px-Commons-logo.svg.png 1.5x, //upload.wikimedia.org/wikipedia/commons/thumb/4/4a/Commons-logo.svg/30px-Commons-logo.svg.png 2x\" data-file-width=\"1024\" data-file-height=\"1376\" /></a>&#160;<a href=\"https://commons.wikimedia.org/wiki/Category:Bogoslovo_(Shchyolkovsky_District)\" class=\"extiw\" title=\"commons:Category:Bogoslovo (Shchyolkovsky District)\">Медиафайлы на Викискладе</a></span></td></tr>\\n</tbody></table>\\n<p><b>Богосло́во</b>&#160;— деревня в <a href=\"/wiki/%D0%A9%D1%91%D0%BB%D0%BA%D0%BE%D0%B2%D1%81%D0%BA%D0%B8%D0%B9_%D1%80%D0%B0%D0%B9%D0%BE%D0%BD\" title=\"Щёлковский район\">Щёлковском районе</a> <a href=\"/wiki/%D0%9C%D0%BE%D1%81%D0%BA%D0%BE%D0%B2%D1%81%D0%BA%D0%B0%D1%8F_%D0%BE%D0%B1%D0%BB%D0%B0%D1%81%D1%82%D1%8C\" title=\"Московская область\">Московской области</a> на правом берегу реки <a href=\"/wiki/%D0%9B%D0%B0%D1%88%D1%83%D1%82%D0%BA%D0%B0\" title=\"Лашутка\">Лашутки</a>, правого притока <a href=\"/wiki/%D0%92%D0%BE%D1%80%D1%8F_(%D0%BF%D1%80%D0%B8%D1%82%D0%BE%D0%BA_%D0%9A%D0%BB%D1%8F%D0%B7%D1%8C%D0%BC%D1%8B)\" title=\"Воря (приток Клязьмы)\">Вори</a>. Относится к <a href=\"/wiki/%D0%A1%D0%B5%D0%BB%D1%8C%D1%81%D0%BA%D0%BE%D0%B5_%D0%BF%D0%BE%D1%81%D0%B5%D0%BB%D0%B5%D0%BD%D0%B8%D0%B5_%D0%93%D1%80%D0%B5%D0%B1%D0%BD%D0%B5%D0%B2%D1%81%D0%BA%D0%BE%D0%B5_(%D0%9C%D0%BE%D1%81%D0%BA%D0%BE%D0%B2%D1%81%D0%BA%D0%B0%D1%8F_%D0%BE%D0%B1%D0%BB%D0%B0%D1%81%D1%82%D1%8C)\" title=\"Сельское поселение Гребневское (Московская область)\">сельскому поселению Гребневское</a>.\\n</p><p>Расположено на расстоянии 40&#160;км на северо-северо-восток <a href=\"/wiki/%D0%9C%D0%BE%D1%81%D0%BA%D0%B2%D0%B0\" title=\"Москва\">Москвы</a> (по прямой, от центра). Проезд от Москвы на автомобиле&#160;— по <a href=\"/wiki/%D0%A9%D1%91%D0%BB%D0%BA%D0%BE%D0%B2%D1%81%D0%BA%D0%BE%D0%B5_%D1%88%D0%BE%D1%81%D1%81%D0%B5\" title=\"Щёлковское шоссе\">Щёлковскому шоссе</a> <span style=\"background:#0090ff; padding-left:.3em; padding-right:.3em; font-weight:bold;\"><span class=\"nowrap\"><a href=\"/wiki/%D0%90103_(%D0%B0%D0%B2%D1%82%D0%BE%D0%B4%D0%BE%D1%80%D0%BE%D0%B3%D0%B0)\" class=\"mw-redirect\" title=\"А103 (автодорога)\"><span style=\"color:white\">А103</span></a></span></span>, затем в сторону центра <a href=\"/wiki/%D0%A9%D1%91%D0%BB%D0%BA%D0%BE%D0%B2%D0%BE\" title=\"Щёлково\">Щёлково</a> и, далее, по <a href=\"/wiki/%D0%A4%D1%80%D1%8F%D0%BD%D0%BE%D0%B2%D1%81%D0%BA%D0%BE%D0%B5_%D1%88%D0%BE%D1%81%D1%81%D0%B5\" title=\"Фряновское шоссе\">Фряновскому шоссе</a> <span style=\"background:#0090ff; padding-left:.3em; padding-right:.3em; font-weight:bold;\"><span class=\"nowrap\"><a href=\"/wiki/%D0%A0110_(%D0%B0%D0%B2%D1%82%D0%BE%D0%B4%D0%BE%D1%80%D0%BE%D0%B3%D0%B0)\" class=\"mw-redirect\" title=\"Р110 (автодорога)\"><span style=\"color:white\">Р110</span></a></span></span> и, от <a href=\"/wiki/%D0%A4%D1%80%D1%8F%D0%B7%D0%B8%D0%BD%D0%BE\" title=\"Фрязино\">Фрязино</a>, по автодороге Фрязино&#160;— Богослово.\\n</p><p>Близ Богослово находятся деревни <a href=\"/wiki/%D0%9A%D0%BE%D1%81%D1%82%D1%8E%D0%BD%D0%B8%D0%BD%D0%BE_(%D0%A9%D1%91%D0%BB%D0%BA%D0%BE%D0%B2%D1%81%D0%BA%D0%B8%D0%B9_%D1%80%D0%B0%D0%B9%D0%BE%D0%BD)\" title=\"Костюнино (Щёлковский район)\">Костюнино</a>, <a href=\"/wiki/%D0%9A%D0%BE%D1%80%D1%8F%D0%BA%D0%B8%D0%BD%D0%BE_(%D0%9C%D0%BE%D1%81%D0%BA%D0%BE%D0%B2%D1%81%D0%BA%D0%B0%D1%8F_%D0%BE%D0%B1%D0%BB%D0%B0%D1%81%D1%82%D1%8C)\" title=\"Корякино (Московская область)\">Корякино</a> и <a href=\"/wiki/%D0%A1%D0%B0%D0%B1%D1%83%D1%80%D0%BE%D0%B2%D0%BE_(%D0%A9%D1%91%D0%BB%D0%BA%D0%BE%D0%B2%D1%81%D0%BA%D0%B8%D0%B9_%D1%80%D0%B0%D0%B9%D0%BE%D0%BD)\" title=\"Сабурово (Щёлковский район)\">Сабурово</a>. Ближайшие к деревне: город <a href=\"/wiki/%D0%A4%D1%80%D1%8F%D0%B7%D0%B8%D0%BD%D0%BE\" title=\"Фрязино\">Фрязино</a> (8 км), станция электрички&#160;— <a href=\"/wiki/%D0%A4%D1%80%D1%8F%D0%B7%D0%B8%D0%BD%D0%BE-%D0%A2%D0%BE%D0%B2%D0%B0%D1%80%D0%BD%D0%B0%D1%8F\" title=\"Фрязино-Товарная\">Фрязино-Товарная</a>, автотрасса&#160;— <a href=\"/wiki/%D0%A4%D1%80%D1%8F%D0%BD%D0%BE%D0%B2%D1%81%D0%BA%D0%BE%D0%B5_%D1%88%D0%BE%D1%81%D1%81%D0%B5\" title=\"Фряновское шоссе\">Фряновское шоссе</a>.\\n</p><p>В деревне 5 улиц: <i>Полевая, Промышленный проезд, Радужная, Солнечная</i> и <i>Хомутовская</i> и ГСК «<i>Богослово</i>», к ней приписано 2 садоводческих товарищества (СНТ)<sup id=\"cite_ref-2\" class=\"reference\"><a href=\"#cite_note-2\">&#91;2&#93;</a></sup>.\\n</p><p>До деревни ходит от <a href=\"/wiki/%D0%A4%D1%80%D1%8F%D0%B7%D0%B8%D0%BD%D0%BE\" title=\"Фрязино\">Фрязино</a> автобус 54 маршрута<sup id=\"cite_ref-3\" class=\"reference\"><a href=\"#cite_note-3\">&#91;3&#93;</a></sup>.\\n</p>\\n<div id=\"toc\" class=\"toc\" role=\"navigation\" aria-labelledby=\"mw-toc-heading\"><input type=\"checkbox\" role=\"button\" id=\"toctogglecheckbox\" class=\"toctogglecheckbox\" style=\"display:none\" /><div class=\"toctitle\" lang=\"ru\" dir=\"ltr\"><h2 id=\"mw-toc-heading\">Содержание</h2><span class=\"toctogglespan\"><label class=\"toctogglelabel\" for=\"toctogglecheckbox\"></label></span></div>\\n<ul>\\n<li class=\"toclevel-1 tocsection-1\"><a href=\"#Население\"><span class=\"tocnumber\">1</span> <span class=\"toctext\">Население</span></a></li>\\n<li class=\"toclevel-1 tocsection-2\"><a href=\"#История_села\"><span class=\"tocnumber\">2</span> <span class=\"toctext\">История села</span></a></li>\\n<li class=\"toclevel-1 tocsection-3\"><a href=\"#Церковь_Казанской_Божией_Матери\"><span class=\"tocnumber\">3</span> <span class=\"toctext\">Церковь Казанской Божией Матери</span></a></li>\\n<li class=\"toclevel-1 tocsection-4\"><a href=\"#Примечания\"><span class=\"tocnumber\">4</span> <span class=\"toctext\">Примечания</span></a></li>\\n<li class=\"toclevel-1 tocsection-5\"><a href=\"#Ссылки\"><span class=\"tocnumber\">5</span> <span class=\"toctext\">Ссылки</span></a></li>\\n</ul>\\n</div>\\n\\n<h2><span id=\".D0.9D.D0.B0.D1.81.D0.B5.D0.BB.D0.B5.D0.BD.D0.B8.D0.B5\"></span><span class=\"mw-headline\" id=\"Население\">Население</span><span class=\"mw-editsection\"><span class=\"mw-editsection-bracket\">[</span><a href=\"/w/index.php?title=%D0%91%D0%BE%D0%B3%D0%BE%D1%81%D0%BB%D0%BE%D0%B2%D0%BE_(%D0%A9%D1%91%D0%BB%D0%BA%D0%BE%D0%B2%D1%81%D0%BA%D0%B8%D0%B9_%D1%80%D0%B0%D0%B9%D0%BE%D0%BD)&amp;veaction=edit&amp;section=1\" class=\"mw-editsection-visualeditor\" title=\"Редактировать раздел «Население»\">править</a><span class=\"mw-editsection-divider\"> | </span><a href=\"/w/index.php?title=%D0%91%D0%BE%D0%B3%D0%BE%D1%81%D0%BB%D0%BE%D0%B2%D0%BE_(%D0%A9%D1%91%D0%BB%D0%BA%D0%BE%D0%B2%D1%81%D0%BA%D0%B8%D0%B9_%D1%80%D0%B0%D0%B9%D0%BE%D0%BD)&amp;action=edit&amp;section=1\" title=\"Редактировать раздел «Население»\">править код</a><span class=\"mw-editsection-bracket\">]</span></span></h2>\\n<table class=\"standard\"><tbody><tr><th colspan=\"7\">Численность населения</th></tr><tr class=\"bright\"><th>1852<sup id=\"cite_ref-1852A_4-0\" class=\"reference\"><a href=\"#cite_note-1852A-4\">&#91;4&#93;</a></sup></th><th>1859<sup id=\"cite_ref-1862B_5-0\" class=\"reference\"><a href=\"#cite_note-1862B-5\">&#91;5&#93;</a></sup></th><th>1869<sup id=\"cite_ref-1869C_6-0\" class=\"reference\"><a href=\"#cite_note-1869C-6\">&#91;6&#93;</a></sup></th><th>1886<sup id=\"cite_ref-1886D_7-0\" class=\"reference\"><a href=\"#cite_note-1886D-7\">&#91;7&#93;</a></sup></th><th>1899<sup id=\"cite_ref-1899B_8-0\" class=\"reference\"><a href=\"#cite_note-1899B-8\">&#91;8&#93;</a></sup></th><th>1926<sup id=\"cite_ref-1929B_9-0\" class=\"reference\"><a href=\"#cite_note-1929B-9\">&#91;9&#93;</a></sup></th><th>2002<sup id=\"cite_ref-2002Z_10-0\" class=\"reference\"><a href=\"#cite_note-2002Z-10\">&#91;10&#93;</a></sup></th></tr><tr align=\"center\"><td>480</td><td><span style=\"color: red; font-weight:bold; font-size: larger;\">↘</span>411</td><td><span style=\"color: red; font-weight:bold; font-size: larger;\">↘</span>314</td><td><span style=\"color: #0c0; font-weight:bold; font-size: larger;\">↗</span>411</td><td><span style=\"color: red; font-weight:bold; font-size: larger;\">↘</span>166</td><td><span style=\"color: #0c0; font-weight:bold; font-size: larger;\">↗</span>267</td><td><span style=\"color: #0c0; font-weight:bold; font-size: larger;\">↗</span>709</td></tr><tr class=\"bright\"><th>2006<sup id=\"cite_ref-2006D_11-0\" class=\"reference\"><a href=\"#cite_note-2006D-11\">&#91;11&#93;</a></sup></th><th>2010<sup id=\"cite_ref-2010BG_1-1\" class=\"reference\"><a href=\"#cite_note-2010BG-1\">&#91;1&#93;</a></sup></th><th></th><th></th><th></th><th></th><th></th></tr><tr align=\"center\"><td><span style=\"color: red; font-weight:bold; font-size: larger;\">↘</span>685</td><td><span style=\"color: red; font-weight:bold; font-size: larger;\">↘</span>614</td><td></td><td></td><td></td><td></td><td></td></tr></tbody></table>\\n<h2><span id=\".D0.98.D1.81.D1.82.D0.BE.D1.80.D0.B8.D1.8F_.D1.81.D0.B5.D0.BB.D0.B0\"></span><span class=\"mw-headline\" id=\"История_села\">История села</span><span class=\"mw-editsection\"><span class=\"mw-editsection-bracket\">[</span><a href=\"/w/index.php?title=%D0%91%D0%BE%D0%B3%D0%BE%D1%81%D0%BB%D0%BE%D0%B2%D0%BE_(%D0%A9%D1%91%D0%BB%D0%BA%D0%BE%D0%B2%D1%81%D0%BA%D0%B8%D0%B9_%D1%80%D0%B0%D0%B9%D0%BE%D0%BD)&amp;veaction=edit&amp;section=2\" class=\"mw-editsection-visualeditor\" title=\"Редактировать раздел «История села»\">править</a><span class=\"mw-editsection-divider\"> | </span><a href=\"/w/index.php?title=%D0%91%D0%BE%D0%B3%D0%BE%D1%81%D0%BB%D0%BE%D0%B2%D0%BE_(%D0%A9%D1%91%D0%BB%D0%BA%D0%BE%D0%B2%D1%81%D0%BA%D0%B8%D0%B9_%D1%80%D0%B0%D0%B9%D0%BE%D0%BD)&amp;action=edit&amp;section=2\" title=\"Редактировать раздел «История села»\">править код</a><span class=\"mw-editsection-bracket\">]</span></span></h2>\\n<div class=\"thumb tleft\"><div class=\"thumbinner\" style=\"width:222px;\"><a href=\"/wiki/%D0%A4%D0%B0%D0%B9%D0%BB:Khomutovsky_tract.jpg\" class=\"image\"><img alt=\"\" src=\"//upload.wikimedia.org/wikipedia/commons/thumb/3/3c/Khomutovsky_tract.jpg/220px-Khomutovsky_tract.jpg\" decoding=\"async\" width=\"220\" height=\"250\" class=\"thumbimage\" srcset=\"//upload.wikimedia.org/wikipedia/commons/thumb/3/3c/Khomutovsky_tract.jpg/330px-Khomutovsky_tract.jpg 1.5x, //upload.wikimedia.org/wikipedia/commons/thumb/3/3c/Khomutovsky_tract.jpg/440px-Khomutovsky_tract.jpg 2x\" data-file-width=\"500\" data-file-height=\"568\" /></a>  <div class=\"thumbcaption\"><div class=\"magnify\"><a href=\"/wiki/%D0%A4%D0%B0%D0%B9%D0%BB:Khomutovsky_tract.jpg\" class=\"internal\" title=\"Увеличить\"></a></div>Карта, на которой отмечен проходивший в древности через село Богослово <a href=\"/wiki/%D0%A5%D0%BE%D0%BC%D1%83%D1%82%D0%BE%D0%B2%D1%81%D0%BA%D0%B8%D0%B9_%D1%82%D1%80%D0%B0%D0%BA%D1%82\" class=\"mw-redirect\" title=\"Хомутовский тракт\">Хомутовский тракт</a></div></div></div>\\n<p>В древности называлось село Фомино. Через село и расположенный около села мост через Лашутку проходил оживлённый <a href=\"/wiki/%D0%A5%D0%BE%D0%BC%D1%83%D1%82%D0%BE%D0%B2%D1%81%D0%BA%D0%B8%D0%B9_%D1%82%D1%80%D0%B0%D0%BA%D1%82\" class=\"mw-redirect\" title=\"Хомутовский тракт\">Хомутовский тракт</a>. Первое известное упоминание о Богослово (Фомино) имеется в <a href=\"/wiki/%D0%9F%D0%B8%D1%81%D1%86%D0%BE%D0%B2%D0%B0%D1%8F_%D0%BA%D0%BD%D0%B8%D0%B3%D0%B0\" title=\"Писцовая книга\">писцовых книгах</a> <a href=\"/wiki/%D0%9C%D0%BE%D1%81%D0%BA%D0%BE%D0%B2%D1%81%D0%BA%D0%B8%D0%B9_%D1%83%D0%B5%D0%B7%D0%B4\" title=\"Московский уезд\">Московского уезда</a> <a href=\"/wiki/1584_%D0%B3%D0%BE%D0%B4\" title=\"1584 год\">1584</a>—<a href=\"/wiki/1586_%D0%B3%D0%BE%D0%B4\" title=\"1586 год\">1586 годов</a>:<sup id=\"cite_ref-Ro_12-0\" class=\"reference\"><a href=\"#cite_note-Ro-12\">&#91;12&#93;</a></sup>\\n</p>\\n<style data-mw-deduplicate=\"TemplateStyles:r104610251\">.mw-parser-output .ts-Цитата-container{margin:auto;border-collapse:collapse;display:flex;justify-content:center}.mw-parser-output .ts-Цитата-quote{font-style:italic}.mw-parser-output .ts-Цитата-container cite{display:block;float:right;font-style:normal}.mw-parser-output .ts-Цитата-leftQuote,.mw-parser-output .ts-Цитата-rightQuote{width:30px;padding-right:10px}.mw-parser-output .ts-Цитата-leftQuote{vertical-align:top}.mw-parser-output .ts-Цитата-rightQuote{vertical-align:bottom}.mw-parser-output .ts-Цитата-container .ts-oq .NavFrame{padding:0.25em 0 0}</style><table class=\"ts-Цитата-container\"><tbody><tr><td class=\"ts-Цитата-leftQuote\"><img alt=\"«\" src=\"//upload.wikimedia.org/wikipedia/commons/thumb/4/44/Aquote1.png/30px-Aquote1.png\" decoding=\"async\" width=\"30\" height=\"23\" srcset=\"//upload.wikimedia.org/wikipedia/commons/4/44/Aquote1.png 1.5x\" data-file-width=\"40\" data-file-height=\"30\" /></td><td class=\"ts-Цитата-quote\">В стане Воря и Корзенев ... за Федором да за Иваном да за Григорием Окинфовыми за Петровым село Фомино на речке на Лошутке, а в нем церковь Ивана Богослова, древяна, клетцки без пения, пашни лесом поросли серой земли 43 четьи в поле а в дву потомуж да сена 20 коп да лесу дровяного 30 десятин...</td><td class=\"ts-Цитата-rightQuote\"><img alt=\"»\" src=\"//upload.wikimedia.org/wikipedia/commons/thumb/4/49/Aquote2.png/30px-Aquote2.png\" decoding=\"async\" width=\"30\" height=\"23\" srcset=\"//upload.wikimedia.org/wikipedia/commons/4/49/Aquote2.png 1.5x\" data-file-width=\"40\" data-file-height=\"30\" /></td></tr></tbody></table>\\n<p>В середине XIX века село <i>Богослово</i> относилось ко 2-му стану <a href=\"/wiki/%D0%91%D0%BE%D0%B3%D0%BE%D1%80%D0%BE%D0%B4%D1%81%D0%BA%D0%B8%D0%B9_%D1%83%D0%B5%D0%B7%D0%B4\" title=\"Богородский уезд\">Богородского уезда</a> <a href=\"/wiki/%D0%9C%D0%BE%D1%81%D0%BA%D0%BE%D0%B2%D1%81%D0%BA%D0%B0%D1%8F_%D0%B3%D1%83%D0%B1%D0%B5%D1%80%D0%BD%D0%B8%D1%8F\" title=\"Московская губерния\">Московской губернии</a> и принадлежало <a href=\"/wiki/%D0%A1%D1%82%D0%B0%D1%82%D1%81%D0%BA%D0%B8%D0%B9_%D1%81%D0%BE%D0%B2%D0%B5%D1%82%D0%BD%D0%B8%D0%BA\" title=\"Статский советник\">статскому советнику</a> Егору Николаевичу Килдюшевскому. В селе было 32 двора, церковь, крестьян 236 душ мужского пола и 244 души женского<sup id=\"cite_ref-1852A_4-1\" class=\"reference\"><a href=\"#cite_note-1852A-4\">&#91;4&#93;</a></sup>.\\n</p><p>В «Списке населённых мест» 1862 года&#160;— владельческое село 2-го стана Богородского уезда Московской губернии на <a href=\"/wiki/%D0%A5%D0%BE%D0%BC%D1%83%D1%82%D0%BE%D0%B2%D1%81%D0%BA%D0%B0%D1%8F_%D0%B4%D0%BE%D1%80%D0%BE%D0%B3%D0%B0\" title=\"Хомутовская дорога\">Хомутовском тракте</a>, в 36 верстах от уездного города и 12 верстах от становой квартиры, при реке Лишутке, с 55 дворами, 411 жителями (189 мужчин, 222 женщины) и церковью<sup id=\"cite_ref-1862B_5-1\" class=\"reference\"><a href=\"#cite_note-1862B-5\">&#91;5&#93;</a></sup>.\\n</p><p>По данным на 1869 год&#160;— село <a href=\"/wiki/%D0%93%D1%80%D0%B5%D0%B1%D0%BD%D0%B5%D0%B2%D1%81%D0%BA%D0%B0%D1%8F_%D0%B2%D0%BE%D0%BB%D0%BE%D1%81%D1%82%D1%8C\" title=\"Гребневская волость\">Гребневской волости</a> 3-го стана Богородского уезда с 65 дворами, 81 деревянным домом и 314 жителями (143 мужчины, 171 женщина), из которых 37 грамотных мужчин и 5 женщин. В селе работали запасный хлебный магазин, 2 лавки, питейный дом, постоялый двор и бумаготкацкая фабрика. Количество земли составляло 517 десятин и 10 саженей, в том числе 115 десятин и 1200 саженей пахотной. Имелось 34 лошади, 39 единиц рогатого и 77 единиц мелкого скота<sup id=\"cite_ref-1869C_6-1\" class=\"reference\"><a href=\"#cite_note-1869C-6\">&#91;6&#93;</a></sup>.\\n</p><p>В 1886 году&#160;— 54 двора, 411 жителей, церковь, школа, 2 лавки и 2 бумаготкацкие фабрики<sup id=\"cite_ref-13\" class=\"reference\"><a href=\"#cite_note-13\">&#91;13&#93;</a></sup>.\\n</p><p>В 1913 году&#160;— 56 дворов и земское училище<sup id=\"cite_ref-14\" class=\"reference\"><a href=\"#cite_note-14\">&#91;14&#93;</a></sup>.\\n</p><p>По материалам <a href=\"/wiki/%D0%9F%D0%B5%D1%80%D0%B5%D0%BF%D0%B8%D1%81%D1%8C_%D0%BD%D0%B0%D1%81%D0%B5%D0%BB%D0%B5%D0%BD%D0%B8%D1%8F_%D0%A1%D0%A1%D0%A1%D0%A0_(1926)\" title=\"Перепись населения СССР (1926)\">Всесоюзной переписи населения 1926 года</a>&#160;— центр Богословского сельсовета <a href=\"/wiki/%D0%A9%D1%91%D0%BB%D0%BA%D0%BE%D0%B2%D1%81%D0%BA%D0%B0%D1%8F_%D0%B2%D0%BE%D0%BB%D0%BE%D1%81%D1%82%D1%8C\" title=\"Щёлковская волость\">Щёлковской волости</a> <a href=\"/wiki/%D0%9C%D0%BE%D1%81%D0%BA%D0%BE%D0%B2%D1%81%D0%BA%D0%B8%D0%B9_%D1%83%D0%B5%D0%B7%D0%B4\" title=\"Московский уезд\">Московского уезда</a> в 6&#160;км от <a href=\"/wiki/%D0%A4%D1%80%D1%8F%D0%BD%D0%BE%D0%B2%D1%81%D0%BA%D0%BE%D0%B5_%D1%88%D0%BE%D1%81%D1%81%D0%B5\" title=\"Фряновское шоссе\">Стромынского шоссе</a> и 16&#160;км от станции <a href=\"/wiki/%D0%A9%D1%91%D0%BB%D0%BA%D0%BE%D0%B2%D0%BE_(%D1%81%D1%82%D0%B0%D0%BD%D1%86%D0%B8%D1%8F)\" title=\"Щёлково (станция)\">Щёлково</a> Северной железной дороги, проживало 267 жителей (134 мужчины, 133 женщины), насчитывалось 55 хозяйств (52 крестьянских), имелась школа 1-й ступени<sup id=\"cite_ref-1929B_9-1\" class=\"reference\"><a href=\"#cite_note-1929B-9\">&#91;9&#93;</a></sup>.\\n</p><p>В 1970-х годах построен городок колхоза им. Ленина, переведенного из <a href=\"/wiki/%D0%A7%D0%B8%D0%B6%D0%BE%D0%B2%D0%BE_(%D0%9C%D0%BE%D1%81%D0%BA%D0%BE%D0%B2%D1%81%D0%BA%D0%B0%D1%8F_%D0%BE%D0%B1%D0%BB%D0%B0%D1%81%D1%82%D1%8C)\" title=\"Чижово (Московская область)\">Чижово</a>.\\nКолхоз акционирован в 1993 году.\\n</p><p>В 1994—2006 годах относилось к <a href=\"/wiki/%D0%93%D1%80%D0%B5%D0%B1%D0%BD%D0%B5%D0%B2%D1%81%D0%BA%D0%B8%D0%B9_%D1%81%D0%B5%D0%BB%D1%8C%D1%81%D0%BA%D0%B8%D0%B9_%D0%BE%D0%BA%D1%80%D1%83%D0%B3\" title=\"Гребневский сельский округ\">Гребневскому сельскому округу</a>.\\n</p>\\n<h2><span id=\".D0.A6.D0.B5.D1.80.D0.BA.D0.BE.D0.B2.D1.8C_.D0.9A.D0.B0.D0.B7.D0.B0.D0.BD.D1.81.D0.BA.D0.BE.D0.B9_.D0.91.D0.BE.D0.B6.D0.B8.D0.B5.D0.B9_.D0.9C.D0.B0.D1.82.D0.B5.D1.80.D0.B8\"></span><span class=\"mw-headline\" id=\"Церковь_Казанской_Божией_Матери\">Церковь Казанской Божией Матери</span><span class=\"mw-editsection\"><span class=\"mw-editsection-bracket\">[</span><a href=\"/w/index.php?title=%D0%91%D0%BE%D0%B3%D0%BE%D1%81%D0%BB%D0%BE%D0%B2%D0%BE_(%D0%A9%D1%91%D0%BB%D0%BA%D0%BE%D0%B2%D1%81%D0%BA%D0%B8%D0%B9_%D1%80%D0%B0%D0%B9%D0%BE%D0%BD)&amp;veaction=edit&amp;section=3\" class=\"mw-editsection-visualeditor\" title=\"Редактировать раздел «Церковь Казанской Божией Матери»\">править</a><span class=\"mw-editsection-divider\"> | </span><a href=\"/w/index.php?title=%D0%91%D0%BE%D0%B3%D0%BE%D1%81%D0%BB%D0%BE%D0%B2%D0%BE_(%D0%A9%D1%91%D0%BB%D0%BA%D0%BE%D0%B2%D1%81%D0%BA%D0%B8%D0%B9_%D1%80%D0%B0%D0%B9%D0%BE%D0%BD)&amp;action=edit&amp;section=3\" title=\"Редактировать раздел «Церковь Казанской Божией Матери»\">править код</a><span class=\"mw-editsection-bracket\">]</span></span></h2>\\n<p>В селе имеется церковь <a href=\"/wiki/%D0%9A%D0%B0%D0%B7%D0%B0%D0%BD%D1%81%D0%BA%D0%B0%D1%8F_%D0%B8%D0%BA%D0%BE%D0%BD%D0%B0_%D0%91%D0%BE%D0%B6%D0%B8%D0%B5%D0%B9_%D0%9C%D0%B0%D1%82%D0%B5%D1%80%D0%B8\" title=\"Казанская икона Божией Матери\">Казанской Божией Матери</a> и приход <a href=\"/wiki/%D0%A0%D1%83%D1%81%D1%81%D0%BA%D0%B0%D1%8F_%D0%BF%D1%80%D0%B0%D0%B2%D0%BE%D1%81%D0%BB%D0%B0%D0%B2%D0%BD%D0%B0%D1%8F_%D1%86%D0%B5%D1%80%D0%BA%D0%BE%D0%B2%D1%8C\" title=\"Русская православная церковь\">Русской православной церкви</a>, относящяяся к <a href=\"/wiki/%D0%A9%D1%91%D0%BB%D0%BA%D0%BE%D0%B2%D1%81%D0%BA%D0%B8%D0%B9_%D0%B1%D0%BB%D0%B0%D0%B3%D0%BE%D1%87%D0%B8%D0%BD%D0%BD%D0%B8%D1%87%D0%B5%D1%81%D0%BA%D0%B8%D0%B9_%D0%BE%D0%BA%D1%80%D1%83%D0%B3_%D0%9C%D0%BE%D1%81%D0%BA%D0%BE%D0%B2%D1%81%D0%BA%D0%BE%D0%B9_%D0%B5%D0%BF%D0%B0%D1%80%D1%85%D0%B8%D0%B8\" class=\"mw-redirect\" title=\"Щёлковский благочиннический округ Московской епархии\">Щёлковскому благочинническому округу</a> <a href=\"/wiki/%D0%9C%D0%BE%D1%81%D0%BA%D0%BE%D0%B2%D1%81%D0%BA%D0%B0%D1%8F_%D0%B5%D0%BF%D0%B0%D1%80%D1%85%D0%B8%D1%8F\" title=\"Московская епархия\">Московской епархии</a><sup id=\"cite_ref-15\" class=\"reference\"><a href=\"#cite_note-15\">&#91;15&#93;</a></sup>. Каменная церковь на месте деревянной была построена в 1801 году на средства Параскевы Феодоровны Осафьевой, урожденной Лопухиной<sup id=\"cite_ref-Ro_12-1\" class=\"reference\"><a href=\"#cite_note-Ro-12\">&#91;12&#93;</a></sup>.\\n</p><p>В <a href=\"/wiki/1938_%D0%B3%D0%BE%D0%B4\" title=\"1938 год\">1938 году</a> церковь была закрыта, в <a href=\"/wiki/1940_%D0%B3%D0%BE%D0%B4\" title=\"1940 год\">1940 году</a> было принято решение о её ликвидации, разборки ограды, передачи деревянного иконостаса на утилизацию для смывки позолоты. Церковь была передана Военстрою.\\n</p><p>В начале 1990-х годов на церкви начались восстановительные работы и в <a href=\"/wiki/1993_%D0%B3%D0%BE%D0%B4\" title=\"1993 год\">1993 году</a> возобновились службы<sup id=\"cite_ref-BoChHi_16-0\" class=\"reference\"><a href=\"#cite_note-BoChHi-16\">&#91;16&#93;</a></sup>.\\n</p>\\n<h2><span id=\".D0.9F.D1.80.D0.B8.D0.BC.D0.B5.D1.87.D0.B0.D0.BD.D0.B8.D1.8F\"></span><span class=\"mw-headline\" id=\"Примечания\">Примечания</span><span class=\"mw-editsection\"><span class=\"mw-editsection-bracket\">[</span><a href=\"/w/index.php?title=%D0%91%D0%BE%D0%B3%D0%BE%D1%81%D0%BB%D0%BE%D0%B2%D0%BE_(%D0%A9%D1%91%D0%BB%D0%BA%D0%BE%D0%B2%D1%81%D0%BA%D0%B8%D0%B9_%D1%80%D0%B0%D0%B9%D0%BE%D0%BD)&amp;veaction=edit&amp;section=4\" class=\"mw-editsection-visualeditor\" title=\"Редактировать раздел «Примечания»\">править</a><span class=\"mw-editsection-divider\"> | </span><a href=\"/w/index.php?title=%D0%91%D0%BE%D0%B3%D0%BE%D1%81%D0%BB%D0%BE%D0%B2%D0%BE_(%D0%A9%D1%91%D0%BB%D0%BA%D0%BE%D0%B2%D1%81%D0%BA%D0%B8%D0%B9_%D1%80%D0%B0%D0%B9%D0%BE%D0%BD)&amp;action=edit&amp;section=4\" title=\"Редактировать раздел «Примечания»\">править код</a><span class=\"mw-editsection-bracket\">]</span></span></h2>\\n<div class=\"reflist columns\" style=\"list-style-type: decimal;\">\\n<div class=\"mw-references-wrap mw-references-columns\"><ol class=\"references\">\\n<li id=\"cite_note-2010BG-1\"><span class=\"mw-cite-backlink\">↑ <a href=\"#cite_ref-2010BG_1-0\"><sup><i><b>1</b></i></sup></a> <a href=\"#cite_ref-2010BG_1-1\"><sup><i><b>2</b></i></sup></a></span> <span class=\"reference-text\"><span class=\"citation\"><span lang=\"und\"><a rel=\"nofollow\" class=\"external text\" href=\"http://www.msko.gks.ru/wps/wcm/connect/rosstat_ts/msko/resources/e40105804129853eb81eff367ccd0f13/3+%D1%82%D0%BE%D0%BC.rar\">Численность сельского населения и его размещение на территории Московской области (итоги Всероссийской переписи населения 2010 года). Том III</a></span><span class=\"hidden-ref\" style=\"display:none\"><b>&#160;<span class=\"ref-info\" style=\"cursor:help;\" title=\"на неопределённом языке\">(неопр.)</span></b></span>&#32;(DOC+RAR).&#32;М.:&#32; Территориальный орган Федеральной службы государственной статистики по Московской области&#32;(2013).&#32;<small>Дата обращения 20 октября 2013.</small>&#32;<small><a rel=\"nofollow\" class=\"external text\" href=\"http://www.webcitation.org/6KVSB8BfU\">Архивировано</a> 20&#160;октября 2013&#160;года.</small></span></span>\\n</li>\\n<li id=\"cite_note-2\"><span class=\"mw-cite-backlink\"><a href=\"#cite_ref-2\">↑</a></span> <span class=\"reference-text\"><span class=\"citation\"><span lang=\"und\"><a rel=\"nofollow\" class=\"external text\" href=\"http://kladr-rf.ru/50/040/000/013/\">Классификатор адресов Российской Федерации</a></span><span class=\"hidden-ref\" style=\"display:none\"><b>&#160;<span class=\"ref-info\" style=\"cursor:help;\" title=\"на неопределённом языке\">(неопр.)</span></b></span>.&#32; Государственный реестр адресов ФНС России (актуальность базы: 2016.09.06).&#32;<small>Дата обращения 6 сентября 2016.</small></span></span>\\n</li>\\n<li id=\"cite_note-3\"><span class=\"mw-cite-backlink\"><a href=\"#cite_ref-3\">↑</a></span> <span class=\"reference-text\"><span class=\"citation\"><span lang=\"und\"><a rel=\"nofollow\" class=\"external text\" href=\"http://mostransavto.ru/passengers/routes/raspisaniya/?page=rasp&amp;code=132&amp;ak=40&amp;n=54&amp;com=\">Расписание маршрута №54 Фрязино — Богослово</a></span><span class=\"hidden-ref\" style=\"display:none\"><b>&#160;<span class=\"ref-info\" style=\"cursor:help;\" title=\"на неопределённом языке\">(неопр.)</span></b></span>&#160;<span class=\"ref-info\">(недоступная ссылка)</span>.&#32; Государственное унитарное предприятие пассажирского автомобильного транспорта «Мострансавто».&#32;<small>Дата обращения 5 сентября 2016.</small>&#32;<small><a rel=\"nofollow\" class=\"external text\" href=\"https://web.archive.org/web/20151123233619/http://www.mostransavto.ru/passengers/routes/raspisaniya/?page=rasp&amp;code=132&amp;ak=40&amp;n=54&amp;com=\">Архивировано</a> 23&#160;ноября 2015&#160;года.</small></span></span>\\n</li>\\n<li id=\"cite_note-1852A-4\"><span class=\"mw-cite-backlink\">↑ <a href=\"#cite_ref-1852A_4-0\"><sup><i><b>1</b></i></sup></a> <a href=\"#cite_ref-1852A_4-1\"><sup><i><b>2</b></i></sup></a></span> <span class=\"reference-text\"><span class=\"citation no-wikidata\" data-wikidata-property-id=\"P1343\"><i>Нистрем К.</i>&#32;Указатель селений и жителей уездов Московской губернии.&#160;— <abbr title=\"Москва\">М.</abbr>, 1852.&#160;— 954&#160;с.</span></span>\\n</li>\\n<li id=\"cite_note-1862B-5\"><span class=\"mw-cite-backlink\">↑ <a href=\"#cite_ref-1862B_5-0\"><sup><i><b>1</b></i></sup></a> <a href=\"#cite_ref-1862B_5-1\"><sup><i><b>2</b></i></sup></a></span> <span class=\"reference-text\"><span class=\"citation no-wikidata\" data-wikidata-property-id=\"P1343\"><a rel=\"nofollow\" class=\"external text\" href=\"http://elib.shpl.ru/ru/indexes/values/27183\">Списки населённых мест Российской империи. Московская губерния. По сведениям 1859 года</a>&#32;&#47;&#32;Обработано ст. ред. Е. Огородниковым.&#160;— Центральный статистический комитет министерства внутренних дел.&#160;— <abbr title=\"Санкт-Петербург\">СПб.</abbr>, 1862.&#160;— Т.&#160;XXIV.</span></span>\\n</li>\\n<li id=\"cite_note-1869C-6\"><span class=\"mw-cite-backlink\">↑ <a href=\"#cite_ref-1869C_6-0\"><sup><i><b>1</b></i></sup></a> <a href=\"#cite_ref-1869C_6-1\"><sup><i><b>2</b></i></sup></a></span> <span class=\"reference-text\"><span class=\"citation no-wikidata\" data-wikidata-property-id=\"P1343\"><a rel=\"nofollow\" class=\"external text\" href=\"http://elib.shpl.ru/ru/indexes/values/63550\">Сведения о селениях и жителях Московской губернии. Часть I. Богородский уезд</a>.&#160;— Московский столичный и губернский комитет.&#160;— <abbr title=\"Москва\">М.</abbr>, 1873.&#160;— 351&#160;с.</span></span>\\n</li>\\n<li id=\"cite_note-1886D-7\"><span class=\"mw-cite-backlink\"><a href=\"#cite_ref-1886D_7-0\">↑</a></span> <span class=\"reference-text\"><span class=\"citation no-wikidata\" data-wikidata-property-id=\"P1343\"><a rel=\"nofollow\" class=\"external text\" href=\"http://elib.shpl.ru/ru/indexes/values/27040\">Волости и важнейшие селения Европейской России. Выпуск II: Губернии Московской промышленной области. Московская, Тверская, Ярославская, Костромская, Нижегородская, Владимирская</a>.&#160;— Центральный статистический комитет.&#160;— <abbr title=\"Санкт-Петербург\">СПб.</abbr>, 1886.&#160;— 317&#160;с.</span></span>\\n</li>\\n<li id=\"cite_note-1899B-8\"><span class=\"mw-cite-backlink\"><a href=\"#cite_ref-1899B_8-0\">↑</a></span> <span class=\"reference-text\"><span class=\"citation no-wikidata\" data-wikidata-property-id=\"P1343\">Памятная книжка Московской губернии на 1899 год&#32;&#47;&#32;А. В. Аврорин.&#160;— <abbr title=\"Москва\">М.</abbr>, 1899.</span></span>\\n</li>\\n<li id=\"cite_note-1929B-9\"><span class=\"mw-cite-backlink\">↑ <a href=\"#cite_ref-1929B_9-0\"><sup><i><b>1</b></i></sup></a> <a href=\"#cite_ref-1929B_9-1\"><sup><i><b>2</b></i></sup></a></span> <span class=\"reference-text\"><span class=\"citation no-wikidata\" data-wikidata-property-id=\"P1343\"><a rel=\"nofollow\" class=\"external text\" href=\"http://dlib.rsl.ru/viewer/01003091360#?page=1\">Справочник по населённым местам Московской губернии</a>.&#160;— Московский статистический отдел.&#160;— <abbr title=\"Москва\">М.</abbr>, 1929.&#160;— <span class=\"nowrap\">2000 экз.</span></span></span>\\n</li>\\n<li id=\"cite_note-2002Z-10\"><span class=\"mw-cite-backlink\"><a href=\"#cite_ref-2002Z_10-0\">↑</a></span> <span class=\"reference-text\"><a rel=\"nofollow\" class=\"external text\" href=\"http://lingvarium.org/russia/settlem-database.shtml\">Данные Всероссийской переписи населения 2002 года: таблица № 02c. Численность населения и преобладающая национальность по каждому сельскому населенному пункту. М.: Федеральная служба государственной статистики, 2004</a></span>\\n</li>\\n<li id=\"cite_note-2006D-11\"><span class=\"mw-cite-backlink\"><a href=\"#cite_ref-2006D_11-0\">↑</a></span> <span class=\"reference-text\"><span class=\"citation\"><span lang=\"und\"><a rel=\"nofollow\" class=\"external text\" href=\"http://msu-mo.ru/userdata/docs/abc_np_03_08_06.zip\">Алфавитный перечень населённых пунктов муниципальных районов Московской области на 1 января 2006 года</a></span><span class=\"hidden-ref\" style=\"display:none\"><b>&#160;<span class=\"ref-info\" style=\"cursor:help;\" title=\"на неопределённом языке\">(неопр.)</span></b></span>&#32;(RTF+ZIP).&#32; Развитие местного самоуправления на территории Московской области.&#32;<small>Дата обращения 4 февраля 2013.</small>&#32;<small><a rel=\"nofollow\" class=\"external text\" href=\"http://www.webcitation.org/64cNVl25K\">Архивировано</a> 11&#160;января 2012&#160;года.</small></span></span>\\n</li>\\n<li id=\"cite_note-Ro-12\"><span class=\"mw-cite-backlink\">↑ <a href=\"#cite_ref-Ro_12-0\"><sup><i><b>1</b></i></sup></a> <a href=\"#cite_ref-Ro_12-1\"><sup><i><b>2</b></i></sup></a></span> <span class=\"reference-text\"><i>Ровенский Г. В.</i> <a rel=\"nofollow\" class=\"external text\" href=\"http://www.bogorodsk-noginsk.ru/atlas/sshelkovskiy/grebnevskiy.html\">Богородск-Ногинск. Богородское краеведение. Богородский атлас. Щёлковский район. Гребневский сельский округ. Село Богослово.</a></span>\\n</li>\\n<li id=\"cite_note-13\"><span class=\"mw-cite-backlink\"><a href=\"#cite_ref-13\">↑</a></span> <span class=\"reference-text\"><span class=\"citation no-wikidata\" data-wikidata-property-id=\"P1343\" id=\"CITEREFГубернии_Московской_промышленной_области1886\"><a rel=\"nofollow\" class=\"external text\" href=\"http://elib.shpl.ru/ru/indexes/values/27040\">Волости и важнейшие селения Европейской России. Выпуск II: Губернии Московской промышленной области. Московская, Тверская, Ярославская, Костромская, Нижегородская, Владимирская</a>.&#160;— Центральный статистический комитет.&#160;— <abbr title=\"Санкт-Петербург\">СПб.</abbr>, 1886.&#160;— С.&#160;20.&#160;— 317&#160;с.</span></span>\\n</li>\\n<li id=\"cite_note-14\"><span class=\"mw-cite-backlink\"><a href=\"#cite_ref-14\">↑</a></span> <span class=\"reference-text\"><span class=\"citation no-wikidata\" data-wikidata-property-id=\"P1343\" id=\"CITEREFНаселённые_местности_Московской_губернии1913\"><a rel=\"nofollow\" class=\"external text\" href=\"http://elib.shpl.ru/ru/indexes/values/23799\">Населённые местности Московской губернии</a>&#32;&#47;&#32;Б. Н. Пенкин.&#160;— Московский столичный и губернский статистический комитет.&#160;— <abbr title=\"Москва\">М.</abbr>, 1913.&#160;— С.&#160;95.&#160;— 454&#160;с.</span>\\n</span>\\n</li>\\n<li id=\"cite_note-15\"><span class=\"mw-cite-backlink\"><a href=\"#cite_ref-15\">↑</a></span> <span class=\"reference-text\">Официальный сайт Московской епархии РПЦ. <a rel=\"nofollow\" class=\"external text\" href=\"http://www.mepar.ru/eparhy/temples/38/\">Монастыри и храмы. Щелковский округ</a>.</span>\\n</li>\\n<li id=\"cite_note-BoChHi-16\"><span class=\"mw-cite-backlink\"><a href=\"#cite_ref-BoChHi_16-0\">↑</a></span> <span class=\"reference-text\">Сайт священника Церкви Казанской Божией Матери Антония Коваленко. <a rel=\"nofollow\" class=\"external text\" href=\"http://www.antoniy-k.ru/video_foto/history.html\">История села Богослово и храма в честь Казанской иконы Божией Матери</a> <a rel=\"nofollow\" class=\"external text\" href=\"http://web.archive.org/web/20090713044056/http://www.antoniy-k.ru/video_foto/history.html\">Архивная копия</a> от 13 июля 2009 на <a href=\"/wiki/%D0%90%D1%80%D1%85%D0%B8%D0%B2_%D0%98%D0%BD%D1%82%D0%B5%D1%80%D0%BD%D0%B5%D1%82%D0%B0#Проекты\" title=\"Архив Интернета\">Wayback Machine</a>.</span>\\n</li>\\n</ol></div></div>\\n<h2><span id=\".D0.A1.D1.81.D1.8B.D0.BB.D0.BA.D0.B8\"></span><span class=\"mw-headline\" id=\"Ссылки\">Ссылки</span><span class=\"mw-editsection\"><span class=\"mw-editsection-bracket\">[</span><a href=\"/w/index.php?title=%D0%91%D0%BE%D0%B3%D0%BE%D1%81%D0%BB%D0%BE%D0%B2%D0%BE_(%D0%A9%D1%91%D0%BB%D0%BA%D0%BE%D0%B2%D1%81%D0%BA%D0%B8%D0%B9_%D1%80%D0%B0%D0%B9%D0%BE%D0%BD)&amp;veaction=edit&amp;section=5\" class=\"mw-editsection-visualeditor\" title=\"Редактировать раздел «Ссылки»\">править</a><span class=\"mw-editsection-divider\"> | </span><a href=\"/w/index.php?title=%D0%91%D0%BE%D0%B3%D0%BE%D1%81%D0%BB%D0%BE%D0%B2%D0%BE_(%D0%A9%D1%91%D0%BB%D0%BA%D0%BE%D0%B2%D1%81%D0%BA%D0%B8%D0%B9_%D1%80%D0%B0%D0%B9%D0%BE%D0%BD)&amp;action=edit&amp;section=5\" title=\"Редактировать раздел «Ссылки»\">править код</a><span class=\"mw-editsection-bracket\">]</span></span></h2>\\n<ul><li><i>Ровенский Г. В.</i> <a rel=\"nofollow\" class=\"external text\" href=\"http://www.bogorodsk-noginsk.ru/atlas/sshelkovskiy/grebnevskiy.html\">Богородск-Ногинск. Богородское краеведение. Богородский атлас. Щёлковский район. Гребневский сельский округ. Село Богослово.</a></li></ul>\\n<div role=\"navigation\" class=\"navbox\" aria-labelledby=\"Населённые_пункты_сельского_поселения_Гребневское_(до_его_упразднения_в_2019_году)\" style=\"padding:3px\"><table class=\"nowraplinks collapsible autocollapse navbox-inner\" style=\"border-spacing:0;background:transparent;color:inherit\"><tbody><tr><th scope=\"col\" class=\"navbox-title\" colspan=\"4\"><span style=\"float:left;text-align:left;width:5em;margin-right:0.5em\"><a href=\"/wiki/%D0%A8%D0%B0%D0%B1%D0%BB%D0%BE%D0%BD:%D0%A1%D0%B5%D0%BB%D1%8C%D1%81%D0%BA%D0%BE%D0%B5_%D0%BF%D0%BE%D1%81%D0%B5%D0%BB%D0%B5%D0%BD%D0%B8%D0%B5_%D0%93%D1%80%D0%B5%D0%B1%D0%BD%D0%B5%D0%B2%D1%81%D0%BA%D0%BE%D0%B5_(%D0%9C%D0%BE%D1%81%D0%BA%D0%BE%D0%B2%D1%81%D0%BA%D0%B0%D1%8F_%D0%BE%D0%B1%D0%BB%D0%B0%D1%81%D1%82%D1%8C)\" title=\"Просмотр этого шаблона\"><img alt=\"⛭\" src=\"//upload.wikimedia.org/wikipedia/commons/thumb/c/c9/Wikipedia_interwiki_section_gear_icon.svg/14px-Wikipedia_interwiki_section_gear_icon.svg.png\" decoding=\"async\" width=\"14\" height=\"14\" srcset=\"//upload.wikimedia.org/wikipedia/commons/thumb/c/c9/Wikipedia_interwiki_section_gear_icon.svg/21px-Wikipedia_interwiki_section_gear_icon.svg.png 1.5x, //upload.wikimedia.org/wikipedia/commons/thumb/c/c9/Wikipedia_interwiki_section_gear_icon.svg/28px-Wikipedia_interwiki_section_gear_icon.svg.png 2x\" data-file-width=\"14\" data-file-height=\"14\" /></a></span><div id=\"Населённые_пункты_сельского_поселения_Гребневское_(до_его_упразднения_в_2019_году)\" style=\"font-size:114%;margin:0 5em\">Населённые пункты <a href=\"/wiki/%D0%A1%D0%B5%D0%BB%D1%8C%D1%81%D0%BA%D0%BE%D0%B5_%D0%BF%D0%BE%D1%81%D0%B5%D0%BB%D0%B5%D0%BD%D0%B8%D0%B5_%D0%93%D1%80%D0%B5%D0%B1%D0%BD%D0%B5%D0%B2%D1%81%D0%BA%D0%BE%D0%B5_(%D0%9C%D0%BE%D1%81%D0%BA%D0%BE%D0%B2%D1%81%D0%BA%D0%B0%D1%8F_%D0%BE%D0%B1%D0%BB%D0%B0%D1%81%D1%82%D1%8C)\" title=\"Сельское поселение Гребневское (Московская область)\">сельского поселения Гребневское</a> (до его упразднения в 2019 году)</div></th></tr><tr><td class=\"navbox-image\" rowspan=\"1\" style=\"width:1px;padding:0px 7px 0px 0px\"><div><a href=\"/wiki/%D0%A4%D0%B0%D0%B9%D0%BB:Grebnevo_Coat_of_Arms.png\" class=\"image\"><img alt=\"Grebnevo Coat of Arms.png\" src=\"//upload.wikimedia.org/wikipedia/commons/thumb/0/06/Grebnevo_Coat_of_Arms.png/50px-Grebnevo_Coat_of_Arms.png\" decoding=\"async\" width=\"50\" height=\"59\" srcset=\"//upload.wikimedia.org/wikipedia/commons/thumb/0/06/Grebnevo_Coat_of_Arms.png/75px-Grebnevo_Coat_of_Arms.png 1.5x, //upload.wikimedia.org/wikipedia/commons/0/06/Grebnevo_Coat_of_Arms.png 2x\" data-file-width=\"100\" data-file-height=\"118\" /></a></div></td><td class=\"navbox-list navbox-odd hlist hlist-items-nowrap\" style=\"width:100%;padding:0px\"><div style=\"padding:0em 0.25em\"><div class=\"NavContent\">\\n<dl><dt>Административный центр</dt>\\n<dd>деревня <a href=\"/wiki/%D0%93%D1%80%D0%B5%D0%B1%D0%BD%D0%B5%D0%B2%D0%BE_(%D0%9C%D0%BE%D1%81%D0%BA%D0%BE%D0%B2%D1%81%D0%BA%D0%B0%D1%8F_%D0%BE%D0%B1%D0%BB%D0%B0%D1%81%D1%82%D1%8C)\" title=\"Гребнево (Московская область)\">Гребнево</a></dd></dl>\\n<dl><dt>деревни</dt>\\n<dd><a class=\"mw-selflink selflink\">Богослово</a></dd>\\n<dd><a href=\"/wiki/%D0%9A%D0%B0%D0%BC%D1%88%D0%B8%D0%BB%D0%BE%D0%B2%D0%BA%D0%B0\" title=\"Камшиловка\">Камшиловка</a></dd>\\n<dd><a href=\"/wiki/%D0%9A%D0%BE%D1%80%D1%8F%D0%BA%D0%B8%D0%BD%D0%BE_(%D0%9C%D0%BE%D1%81%D0%BA%D0%BE%D0%B2%D1%81%D0%BA%D0%B0%D1%8F_%D0%BE%D0%B1%D0%BB%D0%B0%D1%81%D1%82%D1%8C)\" title=\"Корякино (Московская область)\">Корякино</a></dd>\\n<dd><a href=\"/wiki/%D0%9A%D0%BE%D1%81%D1%82%D1%8E%D0%BD%D0%B8%D0%BD%D0%BE_(%D0%A9%D1%91%D0%BB%D0%BA%D0%BE%D0%B2%D1%81%D0%BA%D0%B8%D0%B9_%D1%80%D0%B0%D0%B9%D0%BE%D0%BD)\" title=\"Костюнино (Щёлковский район)\">Костюнино</a></dd>\\n<dd><a href=\"/wiki/%D0%9D%D0%BE%D0%B2%D0%B0%D1%8F_%D0%A1%D0%BB%D0%BE%D0%B1%D0%BE%D0%B4%D0%B0_(%D0%9C%D0%BE%D1%81%D0%BA%D0%BE%D0%B2%D1%81%D0%BA%D0%B0%D1%8F_%D0%BE%D0%B1%D0%BB%D0%B0%D1%81%D1%82%D1%8C)\" title=\"Новая Слобода (Московская область)\">Новая Слобода</a></dd>\\n<dd><a href=\"/wiki/%D0%9D%D0%BE%D0%B2%D0%BE_(%D0%A9%D1%91%D0%BB%D0%BA%D0%BE%D0%B2%D1%81%D0%BA%D0%B8%D0%B9_%D1%80%D0%B0%D0%B9%D0%BE%D0%BD)\" title=\"Ново (Щёлковский район)\">Ново</a></dd>\\n<dd><a href=\"/wiki/%D0%9D%D0%BE%D0%B2%D0%BE%D1%84%D1%80%D1%8F%D0%B7%D0%B8%D0%BD%D0%BE\" title=\"Новофрязино\">Новофрязино</a></dd>\\n<dd><a href=\"/wiki/%D0%A1%D0%B0%D0%B1%D1%83%D1%80%D0%BE%D0%B2%D0%BE_(%D0%A9%D1%91%D0%BB%D0%BA%D0%BE%D0%B2%D1%81%D0%BA%D0%B8%D0%B9_%D1%80%D0%B0%D0%B9%D0%BE%D0%BD)\" title=\"Сабурово (Щёлковский район)\">Сабурово</a></dd>\\n<dd><a href=\"/wiki/%D0%A1%D1%82%D0%B0%D1%80%D0%B0%D1%8F_%D0%A1%D0%BB%D0%BE%D0%B1%D0%BE%D0%B4%D0%B0_(%D0%9C%D0%BE%D1%81%D0%BA%D0%BE%D0%B2%D1%81%D0%BA%D0%B0%D1%8F_%D0%BE%D0%B1%D0%BB%D0%B0%D1%81%D1%82%D1%8C)\" title=\"Старая Слобода (Московская область)\">Старая Слобода</a></dd></dl>\\n</div></div></td><td class=\"navbox-image\" rowspan=\"1\" style=\"width:1px;padding:0px 0px 0px 7px\"><div><a href=\"/wiki/%D0%A4%D0%B0%D0%B9%D0%BB:Flag_of_Grebnevo.png\" class=\"image\"><img alt=\"Flag of Grebnevo.png\" src=\"//upload.wikimedia.org/wikipedia/commons/thumb/7/70/Flag_of_Grebnevo.png/90px-Flag_of_Grebnevo.png\" decoding=\"async\" width=\"90\" height=\"60\" srcset=\"//upload.wikimedia.org/wikipedia/commons/thumb/7/70/Flag_of_Grebnevo.png/135px-Flag_of_Grebnevo.png 1.5x, //upload.wikimedia.org/wikipedia/commons/7/70/Flag_of_Grebnevo.png 2x\" data-file-width=\"150\" data-file-height=\"100\" /></a></div></td></tr></tbody></table></div>\\n<!-- \\nNewPP limit report\\nParsed by mw1318\\nCached time: 20200311170352\\nCache expiry: 86400\\nDynamic content: true\\nComplications: []\\nCPU time usage: 1.788 seconds\\nReal time usage: 2.025 seconds\\nPreprocessor visited node count: 44226/1000000\\nPost‐expand include size: 166897/2097152 bytes\\nTemplate argument size: 44341/2097152 bytes\\nHighest expansion depth: 34/40\\nExpensive parser function count: 14/500\\nUnstrip recursion depth: 0/20\\nUnstrip post‐expand size: 16007/5000000 bytes\\nNumber of Wikibase entities loaded: 4/400\\nLua time usage: 1.401/10.000 seconds\\nLua memory usage: 14.85 MB/50 MB\\nLua Profile:\\n    Scribunto_LuaSandboxCallback::expandTemplate                    1080 ms       77.1%\\n    ?                                                                180 ms       12.9%\\n    (for generator)                                                   40 ms        2.9%\\n    validateData <mw.lua:717>                                         40 ms        2.9%\\n    Scribunto_LuaSandboxCallback::callParserFunction                  20 ms        1.4%\\n    recursiveClone <mwInit.lua:41>                                    20 ms        1.4%\\n    getmetatable <mw.lua:64>                                          20 ms        1.4%\\n-->\\n<!--\\nTransclusion expansion time report (%,ms,calls,template)\\n100.00% 1920.660      1 -total\\n 86.73% 1665.697      1 Шаблон:НП+Россия\\n 86.34% 1658.215      1 Шаблон:НП\\n 84.78% 1628.314      1 Шаблон:Карточка\\n 61.35% 1178.417      2 Шаблон:Wikidata-coords\\n 58.09% 1115.659      3 Шаблон:ПозКарта+\\n 54.07% 1038.512      9 Шаблон:НП+/Районы\\n 46.50%  893.093      6 Шаблон:ПозКарта~\\n 19.64%  377.300     30 Шаблон:Wikidata\\n 13.08%  251.308     12 Шаблон:ПозКарта/x\\n-->\\n\\n<!-- Saved in parser cache with key ruwiki:pcache:idhash:2608536-0!canonical and timestamp 20200311170352 and revision id 104582979\\n -->\\n</div><noscript><img src=\"//ru.wikipedia.org/wiki/Special:CentralAutoLogin/start?type=1x1\" alt=\"\" title=\"\" width=\"1\" height=\"1\" style=\"border: none; position: absolute;\" /></noscript></div>\\n\\t\\t<div class=\"printfooter\">Источник — <a dir=\"ltr\" href=\"https://ru.wikipedia.org/w/index.php?title=Богослово_(Щёлковский_район)&amp;oldid=104582979\">https://ru.wikipedia.org/w/index.php?title=Богослово_(Щёлковский_район)&amp;oldid=104582979</a></div>\\n\\t\\t<div id=\"catlinks\" class=\"catlinks\" data-mw=\"interface\"><div id=\"mw-normal-catlinks\" class=\"mw-normal-catlinks\"><a href=\"/wiki/%D0%A1%D0%BB%D1%83%D0%B6%D0%B5%D0%B1%D0%BD%D0%B0%D1%8F:%D0%9A%D0%B0%D1%82%D0%B5%D0%B3%D0%BE%D1%80%D0%B8%D0%B8\" title=\"Служебная:Категории\">Категории</a>: <ul><li><a href=\"/wiki/%D0%9A%D0%B0%D1%82%D0%B5%D0%B3%D0%BE%D1%80%D0%B8%D1%8F:%D0%9D%D0%B0%D1%81%D0%B5%D0%BB%D1%91%D0%BD%D0%BD%D1%8B%D0%B5_%D0%BF%D1%83%D0%BD%D0%BA%D1%82%D1%8B_%D0%BF%D0%BE_%D0%B0%D0%BB%D1%84%D0%B0%D0%B2%D0%B8%D1%82%D1%83\" title=\"Категория:Населённые пункты по алфавиту\">Населённые пункты по алфавиту</a></li><li><a href=\"/wiki/%D0%9A%D0%B0%D1%82%D0%B5%D0%B3%D0%BE%D1%80%D0%B8%D1%8F:%D0%9D%D0%B0%D1%81%D0%B5%D0%BB%D1%91%D0%BD%D0%BD%D1%8B%D0%B5_%D0%BF%D1%83%D0%BD%D0%BA%D1%82%D1%8B_%D0%A9%D1%91%D0%BB%D0%BA%D0%BE%D0%B2%D1%81%D0%BA%D0%BE%D0%B3%D0%BE_%D1%80%D0%B0%D0%B9%D0%BE%D0%BD%D0%B0\" title=\"Категория:Населённые пункты Щёлковского района\">Населённые пункты Щёлковского района</a></li><li><a href=\"/wiki/%D0%9A%D0%B0%D1%82%D0%B5%D0%B3%D0%BE%D1%80%D0%B8%D1%8F:%D0%A1%D0%B5%D0%BB%D1%8C%D1%81%D0%BA%D0%BE%D0%B5_%D0%BF%D0%BE%D1%81%D0%B5%D0%BB%D0%B5%D0%BD%D0%B8%D0%B5_%D0%93%D1%80%D0%B5%D0%B1%D0%BD%D0%B5%D0%B2%D1%81%D0%BA%D0%BE%D0%B5_(%D0%9C%D0%BE%D1%81%D0%BA%D0%BE%D0%B2%D1%81%D0%BA%D0%B0%D1%8F_%D0%BE%D0%B1%D0%BB%D0%B0%D1%81%D1%82%D1%8C)\" title=\"Категория:Сельское поселение Гребневское (Московская область)\">Сельское поселение Гребневское (Московская область)</a></li></ul></div><div id=\"mw-hidden-catlinks\" class=\"mw-hidden-catlinks mw-hidden-cats-hidden\">Скрытые категории: <ul><li><a href=\"/wiki/%D0%9A%D0%B0%D1%82%D0%B5%D0%B3%D0%BE%D1%80%D0%B8%D1%8F:%D0%92%D0%B8%D0%BA%D0%B8%D0%BF%D0%B5%D0%B4%D0%B8%D1%8F:%D0%A1%D1%82%D0%B0%D1%82%D1%8C%D0%B8_%D1%81_%D0%BD%D0%B5%D0%BA%D0%BE%D1%80%D1%80%D0%B5%D0%BA%D1%82%D0%BD%D1%8B%D0%BC_%D0%B8%D1%81%D0%BF%D0%BE%D0%BB%D1%8C%D0%B7%D0%BE%D0%B2%D0%B0%D0%BD%D0%B8%D0%B5%D0%BC_%D1%88%D0%B0%D0%B1%D0%BB%D0%BE%D0%BD%D0%BE%D0%B2:Cite_web_(%D0%BD%D0%B5_%D1%83%D0%BA%D0%B0%D0%B7%D0%B0%D0%BD_%D1%8F%D0%B7%D1%8B%D0%BA)\" title=\"Категория:Википедия:Статьи с некорректным использованием шаблонов:Cite web (не указан язык)\">Википедия:Статьи с некорректным использованием шаблонов:Cite web (не указан язык)</a></li><li><a href=\"/wiki/%D0%9A%D0%B0%D1%82%D0%B5%D0%B3%D0%BE%D1%80%D0%B8%D1%8F:%D0%92%D0%B8%D0%BA%D0%B8%D0%BF%D0%B5%D0%B4%D0%B8%D1%8F:%D0%A1%D1%82%D0%B0%D1%82%D1%8C%D0%B8_%D1%81_%D0%BF%D0%B5%D1%80%D0%B5%D0%BE%D0%BF%D1%80%D0%B5%D0%B4%D0%B5%D0%BB%D0%B5%D0%BD%D0%B8%D0%B5%D0%BC_%D0%B7%D0%BD%D0%B0%D1%87%D0%B5%D0%BD%D0%B8%D1%8F_%D0%B8%D0%B7_%D0%92%D0%B8%D0%BA%D0%B8%D0%B4%D0%B0%D0%BD%D0%BD%D1%8B%D1%85\" title=\"Категория:Википедия:Статьи с переопределением значения из Викиданных\">Википедия:Статьи с переопределением значения из Викиданных</a></li><li><a href=\"/wiki/%D0%9A%D0%B0%D1%82%D0%B5%D0%B3%D0%BE%D1%80%D0%B8%D1%8F:%D0%92%D0%B8%D0%BA%D0%B8%D0%BF%D0%B5%D0%B4%D0%B8%D1%8F:%D0%A1%D1%81%D1%8B%D0%BB%D0%BA%D0%B0_%D0%BD%D0%B0_%D0%92%D0%B8%D0%BA%D0%B8%D1%81%D0%BA%D0%BB%D0%B0%D0%B4_%D0%BD%D0%B5%D0%BF%D0%BE%D1%81%D1%80%D0%B5%D0%B4%D1%81%D1%82%D0%B2%D0%B5%D0%BD%D0%BD%D0%BE_%D0%B2_%D1%81%D1%82%D0%B0%D1%82%D1%8C%D0%B5\" title=\"Категория:Википедия:Ссылка на Викисклад непосредственно в статье\">Википедия:Ссылка на Викисклад непосредственно в статье</a></li><li><a href=\"/wiki/%D0%9A%D0%B0%D1%82%D0%B5%D0%B3%D0%BE%D1%80%D0%B8%D1%8F:%D0%9F%D0%A0%D0%9E:%D0%93%D0%BE%D1%80%D0%BE%D0%B4%D0%B0:%D0%9F%D0%BE%D1%81%D0%BB%D0%B5%D0%B4%D0%BD%D1%8F%D1%8F_%D0%BF%D1%80%D0%B0%D0%B2%D0%BA%D0%B0:_%D0%B2_%D1%82%D0%B5%D0%BA%D1%83%D1%89%D0%B5%D0%BC_%D0%B3%D0%BE%D0%B4%D1%83\" title=\"Категория:ПРО:Города:Последняя правка: в текущем году\">ПРО:Города:Последняя правка: в текущем году</a></li><li><a href=\"/wiki/%D0%9A%D0%B0%D1%82%D0%B5%D0%B3%D0%BE%D1%80%D0%B8%D1%8F:%D0%92%D0%B8%D0%BA%D0%B8%D0%BF%D0%B5%D0%B4%D0%B8%D1%8F:%D0%A1%D1%82%D1%80%D0%B0%D0%BD%D0%B8%D1%86%D1%8B_%D1%81_%D0%BA%D0%B0%D1%80%D1%82%D0%B0%D0%BC%D0%B8\" title=\"Категория:Википедия:Страницы с картами\">Википедия:Страницы с картами</a></li></ul></div></div>\\n\\t\\t<div class=\"visualClear\"></div>\\n\\t\\t\\n\\t</div>\\n</div>\\n<div id=\\'mw-data-after-content\\'>\\n\\t<div class=\"read-more-container\"></div>\\n</div>\\n\\n<div id=\"mw-navigation\">\\n    <h2>Навигация</h2>\\n    <div id=\"mw-head\">\\n        \\n<div id=\"p-personal\" role=\"navigation\" class=\"\" aria-labelledby=\"p-personal-label\">\\n\\t<h3 id=\"p-personal-label\">Персональные инструменты</h3>\\n\\t<ul >\\n\\t\\t\\n\\t\\t<li id=\"pt-anonuserpage\">Вы не представились системе</li>\\n\\t\\t<li id=\"pt-anontalk\"><a href=\"/wiki/%D0%A1%D0%BB%D1%83%D0%B6%D0%B5%D0%B1%D0%BD%D0%B0%D1%8F:%D0%9C%D0%BE%D1%91_%D0%BE%D0%B1%D1%81%D1%83%D0%B6%D0%B4%D0%B5%D0%BD%D0%B8%D0%B5\" title=\"Страница обсуждений для моего IP [n]\" accesskey=\"n\">Обсуждение</a></li><li id=\"pt-anoncontribs\"><a href=\"/wiki/%D0%A1%D0%BB%D1%83%D0%B6%D0%B5%D0%B1%D0%BD%D0%B0%D1%8F:%D0%9C%D0%BE%D0%B9_%D0%B2%D0%BA%D0%BB%D0%B0%D0%B4\" title=\"Список правок, сделанных с этого IP-адреса [y]\" accesskey=\"y\">Вклад</a></li><li id=\"pt-createaccount\"><a href=\"/w/index.php?title=%D0%A1%D0%BB%D1%83%D0%B6%D0%B5%D0%B1%D0%BD%D0%B0%D1%8F:%D0%A1%D0%BE%D0%B7%D0%B4%D0%B0%D1%82%D1%8C_%D1%83%D1%87%D1%91%D1%82%D0%BD%D1%83%D1%8E_%D0%B7%D0%B0%D0%BF%D0%B8%D1%81%D1%8C&amp;returnto=%D0%91%D0%BE%D0%B3%D0%BE%D1%81%D0%BB%D0%BE%D0%B2%D0%BE+%28%D0%A9%D1%91%D0%BB%D0%BA%D0%BE%D0%B2%D1%81%D0%BA%D0%B8%D0%B9+%D1%80%D0%B0%D0%B9%D0%BE%D0%BD%29\" title=\"Мы предлагаем вам создать учётную запись и войти в систему, хотя это и не обязательно.\">Создать учётную запись</a></li><li id=\"pt-login\"><a href=\"/w/index.php?title=%D0%A1%D0%BB%D1%83%D0%B6%D0%B5%D0%B1%D0%BD%D0%B0%D1%8F:%D0%92%D1%85%D0%BE%D0%B4&amp;returnto=%D0%91%D0%BE%D0%B3%D0%BE%D1%81%D0%BB%D0%BE%D0%B2%D0%BE+%28%D0%A9%D1%91%D0%BB%D0%BA%D0%BE%D0%B2%D1%81%D0%BA%D0%B8%D0%B9+%D1%80%D0%B0%D0%B9%D0%BE%D0%BD%29\" title=\"Здесь можно зарегистрироваться в системе, но это необязательно. [o]\" accesskey=\"o\">Войти</a></li>\\n\\t</ul>\\n</div>\\n\\n        <div id=\"left-navigation\">\\n            <div id=\"p-namespaces\" role=\"navigation\" class=\"vectorTabs \" aria-labelledby=\"p-namespaces-label\">\\n\\t<h3 id=\"p-namespaces-label\">Пространства имён</h3>\\n\\t<ul >\\n\\t\\t<li id=\"ca-nstab-main\" class=\"selected\"><a href=\"/wiki/%D0%91%D0%BE%D0%B3%D0%BE%D1%81%D0%BB%D0%BE%D0%B2%D0%BE_(%D0%A9%D1%91%D0%BB%D0%BA%D0%BE%D0%B2%D1%81%D0%BA%D0%B8%D0%B9_%D1%80%D0%B0%D0%B9%D0%BE%D0%BD)\" title=\"Просмотр основной страницы [c]\" accesskey=\"c\">Статья</a></li><li id=\"ca-talk\" class=\"new\"><a href=\"/w/index.php?title=%D0%9E%D0%B1%D1%81%D1%83%D0%B6%D0%B4%D0%B5%D0%BD%D0%B8%D0%B5:%D0%91%D0%BE%D0%B3%D0%BE%D1%81%D0%BB%D0%BE%D0%B2%D0%BE_(%D0%A9%D1%91%D0%BB%D0%BA%D0%BE%D0%B2%D1%81%D0%BA%D0%B8%D0%B9_%D1%80%D0%B0%D0%B9%D0%BE%D0%BD)&amp;action=edit&amp;redlink=1\" rel=\"discussion\" title=\"Обсуждение основной страницы (страница отсутствует) [t]\" accesskey=\"t\">Обсуждение</a></li>\\n\\t</ul>\\n</div>\\n<div id=\"p-variants\" role=\"navigation\" class=\"vectorMenu emptyPortlet\" aria-labelledby=\"p-variants-label\">\\n\\t<input type=\"checkbox\" class=\"vectorMenuCheckbox\" aria-labelledby=\"p-variants-label\" />\\n\\t<h3 id=\"p-variants-label\">\\n\\t\\t<span>Варианты</span>\\n\\t</h3>\\n\\t<ul class=\"menu\" >\\n\\t\\t\\n\\t</ul>\\n</div>\\n\\n        </div>\\n        <div id=\"right-navigation\">\\n            <div id=\"p-views\" role=\"navigation\" class=\"vectorTabs \" aria-labelledby=\"p-views-label\">\\n\\t<h3 id=\"p-views-label\">Просмотры</h3>\\n\\t<ul >\\n\\t\\t<li id=\"ca-view\" class=\"collapsible\"><a href=\"/w/index.php?title=%D0%91%D0%BE%D0%B3%D0%BE%D1%81%D0%BB%D0%BE%D0%B2%D0%BE_(%D0%A9%D1%91%D0%BB%D0%BA%D0%BE%D0%B2%D1%81%D0%BA%D0%B8%D0%B9_%D1%80%D0%B0%D0%B9%D0%BE%D0%BD)&amp;stable=1\">Читать</a></li><li id=\"ca-current\" class=\"collapsible selected\"><a href=\"/w/index.php?title=%D0%91%D0%BE%D0%B3%D0%BE%D1%81%D0%BB%D0%BE%D0%B2%D0%BE_(%D0%A9%D1%91%D0%BB%D0%BA%D0%BE%D0%B2%D1%81%D0%BA%D0%B8%D0%B9_%D1%80%D0%B0%D0%B9%D0%BE%D0%BD)&amp;stable=0&amp;redirect=no\" title=\"Показать текущую версию этой страницы [v]\" accesskey=\"v\">Текущая версия</a></li><li id=\"ca-ve-edit\" class=\"collapsible\"><a href=\"/w/index.php?title=%D0%91%D0%BE%D0%B3%D0%BE%D1%81%D0%BB%D0%BE%D0%B2%D0%BE_(%D0%A9%D1%91%D0%BB%D0%BA%D0%BE%D0%B2%D1%81%D0%BA%D0%B8%D0%B9_%D1%80%D0%B0%D0%B9%D0%BE%D0%BD)&amp;veaction=edit\" title=\"Редактировать данную страницу [v]\" accesskey=\"v\">Править</a></li><li id=\"ca-edit\" class=\"collapsible\"><a href=\"/w/index.php?title=%D0%91%D0%BE%D0%B3%D0%BE%D1%81%D0%BB%D0%BE%D0%B2%D0%BE_(%D0%A9%D1%91%D0%BB%D0%BA%D0%BE%D0%B2%D1%81%D0%BA%D0%B8%D0%B9_%D1%80%D0%B0%D0%B9%D0%BE%D0%BD)&amp;action=edit\" title=\"Эту статью можно изменять. Перед сохранением изменений, пожалуйста, нажмите кнопку предварительного просмотра для визуальной проверки результата [e]\" accesskey=\"e\">Править код</a></li><li id=\"ca-history\" class=\"collapsible\"><a href=\"/w/index.php?title=%D0%91%D0%BE%D0%B3%D0%BE%D1%81%D0%BB%D0%BE%D0%B2%D0%BE_(%D0%A9%D1%91%D0%BB%D0%BA%D0%BE%D0%B2%D1%81%D0%BA%D0%B8%D0%B9_%D1%80%D0%B0%D0%B9%D0%BE%D0%BD)&amp;action=history\" title=\"Журнал изменений страницы [h]\" accesskey=\"h\">История</a></li>\\n\\t</ul>\\n</div>\\n<div id=\"p-cactions\" role=\"navigation\" class=\"vectorMenu emptyPortlet\" aria-labelledby=\"p-cactions-label\">\\n\\t<input type=\"checkbox\" class=\"vectorMenuCheckbox\" aria-labelledby=\"p-cactions-label\" />\\n\\t<h3 id=\"p-cactions-label\">\\n\\t\\t<span>Ещё</span>\\n\\t</h3>\\n\\t<ul class=\"menu\" >\\n\\t\\t\\n\\t</ul>\\n</div>\\n<div id=\"p-search\" role=\"search\">\\n\\t<h3 >\\n\\t\\t<label for=\"searchInput\">Поиск</label>\\n\\t</h3>\\n\\t<form action=\"/w/index.php\" id=\"searchform\">\\n\\t\\t<div id=\"simpleSearch\">\\n\\t\\t\\t<input type=\"search\" name=\"search\" placeholder=\"Искать в Википедии\" title=\"Искать в Википедии [f]\" accesskey=\"f\" id=\"searchInput\"/>\\n\\t\\t\\t<input type=\"hidden\" value=\"Служебная:Поиск\" name=\"title\"/>\\n\\t\\t\\t<input type=\"submit\" name=\"fulltext\" value=\"Найти\" title=\"Найти страницы, содержащие указанный текст\" id=\"mw-searchButton\" class=\"searchButton mw-fallbackSearchButton\"/>\\n\\t\\t\\t<input type=\"submit\" name=\"go\" value=\"Перейти\" title=\"Перейти к странице, имеющей в точности такое название\" id=\"searchButton\" class=\"searchButton\"/>\\n\\t\\t</div>\\n\\t</form>\\n</div>\\n\\n        </div>\\n    </div>\\n    \\n<div id=\"mw-panel\">\\n\\t<div id=\"p-logo\" role=\"banner\">\\n\\t\\t<a  title=\"Перейти на заглавную страницу\" class=\"mw-wiki-logo\" href=\"/wiki/%D0%97%D0%B0%D0%B3%D0%BB%D0%B0%D0%B2%D0%BD%D0%B0%D1%8F_%D1%81%D1%82%D1%80%D0%B0%D0%BD%D0%B8%D1%86%D0%B0\"></a>\\n\\t</div>\\n\\t<div class=\"portal\" role=\"navigation\" id=\"p-navigation\"  aria-labelledby=\"p-navigation-label\">\\n\\t\\t<h3  id=\"p-navigation-label\">\\n\\t\\t\\tНавигация\\n\\t\\t</h3>\\n\\t\\t<div class=\"body\">\\n\\t\\t\\t<ul><li id=\"n-mainpage-description\"><a href=\"/wiki/%D0%97%D0%B0%D0%B3%D0%BB%D0%B0%D0%B2%D0%BD%D0%B0%D1%8F_%D1%81%D1%82%D1%80%D0%B0%D0%BD%D0%B8%D1%86%D0%B0\" title=\"Перейти на заглавную страницу [z]\" accesskey=\"z\">Заглавная страница</a></li><li id=\"n-browse\"><a href=\"/wiki/%D0%92%D0%B8%D0%BA%D0%B8%D0%BF%D0%B5%D0%B4%D0%B8%D1%8F:%D0%9F%D0%BE%D0%B8%D1%81%D0%BA_%D0%BF%D0%BE_%D0%BA%D0%B0%D1%82%D0%B5%D0%B3%D0%BE%D1%80%D0%B8%D1%8F%D0%BC\" title=\"Поиск по категориям\">Рубрикация</a></li><li id=\"n-index\"><a href=\"/wiki/%D0%92%D0%B8%D0%BA%D0%B8%D0%BF%D0%B5%D0%B4%D0%B8%D1%8F:%D0%90%D0%BB%D1%84%D0%B0%D0%B2%D0%B8%D1%82%D0%BD%D1%8B%D0%B9_%D1%83%D0%BA%D0%B0%D0%B7%D0%B0%D1%82%D0%B5%D0%BB%D1%8C\" title=\"Поиск по двум первым буквам\">Указатель А\\u2009—\\u2009Я</a></li><li id=\"n-featured\"><a href=\"/wiki/%D0%92%D0%B8%D0%BA%D0%B8%D0%BF%D0%B5%D0%B4%D0%B8%D1%8F:%D0%98%D0%B7%D0%B1%D1%80%D0%B0%D0%BD%D0%BD%D1%8B%D0%B5_%D1%81%D1%82%D0%B0%D1%82%D1%8C%D0%B8\" title=\"Статьи, считающиеся лучшими статьями проекта\">Избранные статьи</a></li><li id=\"n-randompage\"><a href=\"/wiki/%D0%A1%D0%BB%D1%83%D0%B6%D0%B5%D0%B1%D0%BD%D0%B0%D1%8F:%D0%A1%D0%BB%D1%83%D1%87%D0%B0%D0%B9%D0%BD%D0%B0%D1%8F_%D1%81%D1%82%D1%80%D0%B0%D0%BD%D0%B8%D1%86%D0%B0\" title=\"Посмотреть случайно выбранную страницу [x]\" accesskey=\"x\">Случайная статья</a></li><li id=\"n-currentevents\"><a href=\"/wiki/%D0%9F%D0%BE%D1%80%D1%82%D0%B0%D0%BB:%D0%A2%D0%B5%D0%BA%D1%83%D1%89%D0%B8%D0%B5_%D1%81%D0%BE%D0%B1%D1%8B%D1%82%D0%B8%D1%8F\" title=\"Статьи о текущих событиях в мире\">Текущие события</a></li></ul>\\n\\t\\t\\t\\n\\t\\t</div>\\n\\t</div>\\n\\t\\n\\t<div class=\"portal\" role=\"navigation\" id=\"p-participation\"  aria-labelledby=\"p-participation-label\">\\n\\t\\t<h3  id=\"p-participation-label\">\\n\\t\\t\\tУчастие\\n\\t\\t</h3>\\n\\t\\t<div class=\"body\">\\n\\t\\t\\t<ul><li id=\"n-bug_in_article\"><a href=\"/wiki/%D0%92%D0%B8%D0%BA%D0%B8%D0%BF%D0%B5%D0%B4%D0%B8%D1%8F:%D0%A1%D0%BE%D0%BE%D0%B1%D1%89%D0%B5%D0%BD%D0%B8%D1%8F_%D0%BE%D0%B1_%D0%BE%D1%88%D0%B8%D0%B1%D0%BA%D0%B0%D1%85\" title=\"Сообщить об ошибке в этой статье\">Сообщить об\\xa0ошибке</a></li><li id=\"n-portal\"><a href=\"/wiki/%D0%92%D0%B8%D0%BA%D0%B8%D0%BF%D0%B5%D0%B4%D0%B8%D1%8F:%D0%A1%D0%BE%D0%BE%D0%B1%D1%89%D0%B5%D1%81%D1%82%D0%B2%D0%BE\" title=\"О проекте, о том, чем здесь можно заниматься, а также — где что находится\">Сообщество</a></li><li id=\"n-forum\"><a href=\"/wiki/%D0%92%D0%B8%D0%BA%D0%B8%D0%BF%D0%B5%D0%B4%D0%B8%D1%8F:%D0%A4%D0%BE%D1%80%D1%83%D0%BC\" title=\"Форум участников Википедии\">Форум</a></li><li id=\"n-recentchanges\"><a href=\"/wiki/%D0%A1%D0%BB%D1%83%D0%B6%D0%B5%D0%B1%D0%BD%D0%B0%D1%8F:%D0%A1%D0%B2%D0%B5%D0%B6%D0%B8%D0%B5_%D0%BF%D1%80%D0%B0%D0%B2%D0%BA%D0%B8\" title=\"Список последних изменений [r]\" accesskey=\"r\">Свежие правки</a></li><li id=\"n-newpages\"><a href=\"/wiki/%D0%A1%D0%BB%D1%83%D0%B6%D0%B5%D0%B1%D0%BD%D0%B0%D1%8F:%D0%9D%D0%BE%D0%B2%D1%8B%D0%B5_%D1%81%D1%82%D1%80%D0%B0%D0%BD%D0%B8%D1%86%D1%8B\" title=\"Список недавно созданных страниц\">Новые страницы</a></li><li id=\"n-help\"><a href=\"/wiki/%D0%92%D0%B8%D0%BA%D0%B8%D0%BF%D0%B5%D0%B4%D0%B8%D1%8F:%D0%A1%D0%BF%D1%80%D0%B0%D0%B2%D0%BA%D0%B0\" title=\"Место, где можно получить справку\">Справка</a></li><li id=\"n-sitesupport\"><a href=\"//donate.wikimedia.org/wiki/Special:FundraiserRedirector?utm_source=donate&amp;utm_medium=sidebar&amp;utm_campaign=C13_ru.wikipedia.org&amp;uselang=ru\" title=\"Поддержите нас\">Пожертвовать</a></li></ul>\\n\\t\\t\\t\\n\\t\\t</div>\\n\\t</div>\\n\\t\\n\\t<div class=\"portal\" role=\"navigation\" id=\"p-tb\"  aria-labelledby=\"p-tb-label\">\\n\\t\\t<h3  id=\"p-tb-label\">\\n\\t\\t\\tИнструменты\\n\\t\\t</h3>\\n\\t\\t<div class=\"body\">\\n\\t\\t\\t<ul><li id=\"t-whatlinkshere\"><a href=\"/wiki/%D0%A1%D0%BB%D1%83%D0%B6%D0%B5%D0%B1%D0%BD%D0%B0%D1%8F:%D0%A1%D1%81%D1%8B%D0%BB%D0%BA%D0%B8_%D1%81%D1%8E%D0%B4%D0%B0/%D0%91%D0%BE%D0%B3%D0%BE%D1%81%D0%BB%D0%BE%D0%B2%D0%BE_(%D0%A9%D1%91%D0%BB%D0%BA%D0%BE%D0%B2%D1%81%D0%BA%D0%B8%D0%B9_%D1%80%D0%B0%D0%B9%D0%BE%D0%BD)\" title=\"Список всех страниц, ссылающихся на данную [j]\" accesskey=\"j\">Ссылки сюда</a></li><li id=\"t-recentchangeslinked\"><a href=\"/wiki/%D0%A1%D0%BB%D1%83%D0%B6%D0%B5%D0%B1%D0%BD%D0%B0%D1%8F:%D0%A1%D0%B2%D1%8F%D0%B7%D0%B0%D0%BD%D0%BD%D1%8B%D0%B5_%D0%BF%D1%80%D0%B0%D0%B2%D0%BA%D0%B8/%D0%91%D0%BE%D0%B3%D0%BE%D1%81%D0%BB%D0%BE%D0%B2%D0%BE_(%D0%A9%D1%91%D0%BB%D0%BA%D0%BE%D0%B2%D1%81%D0%BA%D0%B8%D0%B9_%D1%80%D0%B0%D0%B9%D0%BE%D0%BD)\" rel=\"nofollow\" title=\"Последние изменения в страницах, на которые ссылается эта страница [k]\" accesskey=\"k\">Связанные правки</a></li><li id=\"t-specialpages\"><a href=\"/wiki/%D0%A1%D0%BB%D1%83%D0%B6%D0%B5%D0%B1%D0%BD%D0%B0%D1%8F:%D0%A1%D0%BF%D0%B5%D1%86%D1%81%D1%82%D1%80%D0%B0%D0%BD%D0%B8%D1%86%D1%8B\" title=\"Список служебных страниц [q]\" accesskey=\"q\">Служебные страницы</a></li><li id=\"t-permalink\"><a href=\"/w/index.php?title=%D0%91%D0%BE%D0%B3%D0%BE%D1%81%D0%BB%D0%BE%D0%B2%D0%BE_(%D0%A9%D1%91%D0%BB%D0%BA%D0%BE%D0%B2%D1%81%D0%BA%D0%B8%D0%B9_%D1%80%D0%B0%D0%B9%D0%BE%D0%BD)&amp;oldid=104582979\" title=\"Постоянная ссылка на эту версию страницы\">Постоянная ссылка</a></li><li id=\"t-info\"><a href=\"/w/index.php?title=%D0%91%D0%BE%D0%B3%D0%BE%D1%81%D0%BB%D0%BE%D0%B2%D0%BE_(%D0%A9%D1%91%D0%BB%D0%BA%D0%BE%D0%B2%D1%81%D0%BA%D0%B8%D0%B9_%D1%80%D0%B0%D0%B9%D0%BE%D0%BD)&amp;action=info\" title=\"Подробнее об этой странице\">Сведения о\\xa0странице</a></li><li id=\"t-wikibase\"><a href=\"https://www.wikidata.org/wiki/Special:EntityPage/Q4089763\" title=\"Ссылка на связанный элемент репозитория данных [g]\" accesskey=\"g\">Элемент Викиданных</a></li><li id=\"t-cite\"><a href=\"/w/index.php?title=%D0%A1%D0%BB%D1%83%D0%B6%D0%B5%D0%B1%D0%BD%D0%B0%D1%8F:%D0%A6%D0%B8%D1%82%D0%B0%D1%82%D0%B0&amp;page=%D0%91%D0%BE%D0%B3%D0%BE%D1%81%D0%BB%D0%BE%D0%B2%D0%BE_%28%D0%A9%D1%91%D0%BB%D0%BA%D0%BE%D0%B2%D1%81%D0%BA%D0%B8%D0%B9_%D1%80%D0%B0%D0%B9%D0%BE%D0%BD%29&amp;id=104582979\" title=\"Информация о том, как цитировать эту страницу\">Цитировать страницу</a></li></ul>\\n\\t\\t\\t\\n\\t\\t</div>\\n\\t</div>\\n\\t\\n\\t<div class=\"portal\" role=\"navigation\" id=\"p-wikibase-otherprojects\"  aria-labelledby=\"p-wikibase-otherprojects-label\">\\n\\t\\t<h3  id=\"p-wikibase-otherprojects-label\">\\n\\t\\t\\tВ других проектах\\n\\t\\t</h3>\\n\\t\\t<div class=\"body\">\\n\\t\\t\\t<ul><li class=\"wb-otherproject-link wb-otherproject-commons\"><a href=\"https://commons.wikimedia.org/wiki/Category:Bogoslovo_(Shchyolkovsky_District)\" hreflang=\"en\">Викисклад</a></li></ul>\\n\\t\\t\\t\\n\\t\\t</div>\\n\\t</div>\\n\\t\\n\\t<div class=\"portal\" role=\"navigation\" id=\"p-coll-print_export\"  aria-labelledby=\"p-coll-print_export-label\">\\n\\t\\t<h3  id=\"p-coll-print_export-label\">\\n\\t\\t\\tПечать/экспорт\\n\\t\\t</h3>\\n\\t\\t<div class=\"body\">\\n\\t\\t\\t<ul><li id=\"coll-create_a_book\"><a href=\"/w/index.php?title=%D0%A1%D0%BB%D1%83%D0%B6%D0%B5%D0%B1%D0%BD%D0%B0%D1%8F:%D0%9A%D0%BE%D0%BB%D0%BB%D0%B5%D0%BA%D1%86%D0%B8%D1%8F_%D0%BA%D0%BD%D0%B8%D0%B3&amp;bookcmd=book_creator&amp;referer=%D0%91%D0%BE%D0%B3%D0%BE%D1%81%D0%BB%D0%BE%D0%B2%D0%BE+%28%D0%A9%D1%91%D0%BB%D0%BA%D0%BE%D0%B2%D1%81%D0%BA%D0%B8%D0%B9+%D1%80%D0%B0%D0%B9%D0%BE%D0%BD%29\">Создать книгу</a></li><li id=\"coll-download-as-rl\"><a href=\"/w/index.php?title=%D0%A1%D0%BB%D1%83%D0%B6%D0%B5%D0%B1%D0%BD%D0%B0%D1%8F:ElectronPdf&amp;page=%D0%91%D0%BE%D0%B3%D0%BE%D1%81%D0%BB%D0%BE%D0%B2%D0%BE+%28%D0%A9%D1%91%D0%BB%D0%BA%D0%BE%D0%B2%D1%81%D0%BA%D0%B8%D0%B9+%D1%80%D0%B0%D0%B9%D0%BE%D0%BD%29&amp;action=show-download-screen\">Скачать как PDF</a></li><li id=\"t-print\"><a href=\"/w/index.php?title=%D0%91%D0%BE%D0%B3%D0%BE%D1%81%D0%BB%D0%BE%D0%B2%D0%BE_(%D0%A9%D1%91%D0%BB%D0%BA%D0%BE%D0%B2%D1%81%D0%BA%D0%B8%D0%B9_%D1%80%D0%B0%D0%B9%D0%BE%D0%BD)&amp;printable=yes\" title=\"Версия этой страницы для печати [p]\" accesskey=\"p\">Версия для печати</a></li></ul>\\n\\t\\t\\t\\n\\t\\t</div>\\n\\t</div>\\n\\t\\n\\t<div class=\"portal\" role=\"navigation\" id=\"p-lang\"  aria-labelledby=\"p-lang-label\">\\n\\t\\t<h3  id=\"p-lang-label\">\\n\\t\\t\\tНа других языках\\n\\t\\t</h3>\\n\\t\\t<div class=\"body\">\\n\\t\\t\\t<ul><li class=\"interlanguage-link interwiki-ce\"><a href=\"https://ce.wikipedia.org/wiki/%D0%91%D0%BE%D0%B3%D0%BE%D1%81%D0%BB%D0%BE%D0%B2%D0%BE_(%D0%A9%D1%91%D0%BB%D0%BA%D0%BE%D0%B2%D0%B0%D0%BD_%D0%BA%D3%80%D0%BE%D1%88%D1%82)\" title=\"Богослово (Щёлкован кӀошт) — чеченский\" lang=\"ce\" hreflang=\"ce\" class=\"interlanguage-link-target\">Нохчийн</a></li><li class=\"interlanguage-link interwiki-hy\"><a href=\"https://hy.wikipedia.org/wiki/%D4%B2%D5%B8%D5%A3%D5%B8%D5%BD%D5%AC%D5%B8%D5%BE%D5%B8_(%D5%A3%D5%B5%D5%B8%D6%82%D5%B2,_%D5%87%D5%B9%D5%B8%D5%AC%D5%AF%D5%B8%D5%BE%D5%BD%D5%AF%D5%AB_%D5%B7%D6%80%D5%BB%D5%A1%D5%B6)\" title=\"Բոգոսլովո (գյուղ, Շչոլկովսկի շրջան) — армянский\" lang=\"hy\" hreflang=\"hy\" class=\"interlanguage-link-target\">Հայերեն</a></li></ul>\\n\\t\\t\\t<div class=\"after-portlet after-portlet-lang\"><span class=\"wb-langlinks-edit wb-langlinks-link\"><a href=\"https://www.wikidata.org/wiki/Special:EntityPage/Q4089763#sitelinks-wikipedia\" title=\"Править межъязыковые ссылки\" class=\"wbc-editpage\">Править ссылки</a></span></div>\\n\\t\\t</div>\\n\\t</div>\\n\\t\\n</div>\\n\\n</div>\\n\\n\\n<div id=\"footer\" role=\"contentinfo\" >\\n\\t<ul id=\"footer-info\" class=\"\">\\n\\t\\t<li id=\"footer-info-lastmod\"> Эта страница в последний раз была отредактирована 16 января 2020 в 09:56.</li>\\n\\t\\t<li id=\"footer-info-copyright\">Текст доступен по <a rel=\"license\" href=\"//ru.wikipedia.org/wiki/Википедия:Текст_лицензии_Creative_Commons_Attribution-ShareAlike_3.0_Unported\">лицензии Creative Commons Attribution-ShareAlike</a><a rel=\"license\" href=\"//creativecommons.org/licenses/by-sa/3.0/\" style=\"display:none;\"></a>; в отдельных случаях могут действовать дополнительные условия.\\n<span class=\"noprint\">Подробнее см. <a href=\"//foundation.wikimedia.org/wiki/Terms_of_Use/ru\">Условия использования</a>.</span><br>\\nWikipedia®\\xa0— зарегистрированный товарный знак некоммерческой организации <a href=\"//wikimediafoundation.org\">Wikimedia Foundation, Inc.</a></li>\\n\\t</ul>\\n\\t<ul id=\"footer-places\" class=\"\">\\n\\t\\t<li id=\"footer-places-privacy\"><a href=\"https://meta.wikimedia.org/wiki/Privacy_policy/ru\" class=\"extiw\" title=\"m:Privacy policy/ru\">Политика конфиденциальности</a></li>\\n\\t\\t<li id=\"footer-places-about\"><a href=\"/wiki/%D0%92%D0%B8%D0%BA%D0%B8%D0%BF%D0%B5%D0%B4%D0%B8%D1%8F:%D0%9E%D0%BF%D0%B8%D1%81%D0%B0%D0%BD%D0%B8%D0%B5\" title=\"Википедия:Описание\">Описание Википедии</a></li>\\n\\t\\t<li id=\"footer-places-disclaimer\"><a href=\"/wiki/%D0%92%D0%B8%D0%BA%D0%B8%D0%BF%D0%B5%D0%B4%D0%B8%D1%8F:%D0%9E%D1%82%D0%BA%D0%B0%D0%B7_%D0%BE%D1%82_%D0%BE%D1%82%D0%B2%D0%B5%D1%82%D1%81%D1%82%D0%B2%D0%B5%D0%BD%D0%BD%D0%BE%D1%81%D1%82%D0%B8\" title=\"Википедия:Отказ от ответственности\">Отказ от ответственности</a></li>\\n\\t\\t<li id=\"footer-places-contact\"><a href=\"//ru.wikipedia.org/wiki/Википедия:Контакты\">Свяжитесь с нами</a></li>\\n\\t\\t<li id=\"footer-places-developers\"><a href=\"https://www.mediawiki.org/wiki/Special:MyLanguage/How_to_contribute\">Разработчики</a></li>\\n\\t\\t<li id=\"footer-places-statslink\"><a href=\"https://stats.wikimedia.org/#/ru.wikipedia.org\">Статистика</a></li>\\n\\t\\t<li id=\"footer-places-cookiestatement\"><a href=\"https://foundation.wikimedia.org/wiki/Cookie_statement\">Заявление о куки</a></li>\\n\\t\\t<li id=\"footer-places-mobileview\"><a href=\"//ru.m.wikipedia.org/w/index.php?title=%D0%91%D0%BE%D0%B3%D0%BE%D1%81%D0%BB%D0%BE%D0%B2%D0%BE_(%D0%A9%D1%91%D0%BB%D0%BA%D0%BE%D0%B2%D1%81%D0%BA%D0%B8%D0%B9_%D1%80%D0%B0%D0%B9%D0%BE%D0%BD)&amp;mobileaction=toggle_view_mobile\" class=\"noprint stopMobileRedirectToggle\">Мобильная версия</a></li>\\n\\t</ul>\\n\\t<ul id=\"footer-icons\" class=\"noprint\">\\n\\t\\t<li id=\"footer-copyrightico\"><a href=\"https://wikimediafoundation.org/\"><img src=\"/static/images/wikimedia-button.png\" srcset=\"/static/images/wikimedia-button-1.5x.png 1.5x, /static/images/wikimedia-button-2x.png 2x\" width=\"88\" height=\"31\" alt=\"Wikimedia Foundation\"/></a></li>\\n\\t\\t<li id=\"footer-poweredbyico\"><a href=\"https://www.mediawiki.org/\"><img src=\"/static/images/poweredby_mediawiki_88x31.png\" alt=\"Powered by MediaWiki\" srcset=\"/static/images/poweredby_mediawiki_132x47.png 1.5x, /static/images/poweredby_mediawiki_176x62.png 2x\" width=\"88\" height=\"31\"/></a></li>\\n\\t</ul>\\n\\t<div style=\"clear: both;\"></div>\\n</div>\\n\\n\\n<script>(RLQ=window.RLQ||[]).push(function(){mw.config.set({\"wgPageParseReport\":{\"limitreport\":{\"cputime\":\"1.788\",\"walltime\":\"2.025\",\"ppvisitednodes\":{\"value\":44226,\"limit\":1000000},\"postexpandincludesize\":{\"value\":166897,\"limit\":2097152},\"templateargumentsize\":{\"value\":44341,\"limit\":2097152},\"expansiondepth\":{\"value\":34,\"limit\":40},\"expensivefunctioncount\":{\"value\":14,\"limit\":500},\"unstrip-depth\":{\"value\":0,\"limit\":20},\"unstrip-size\":{\"value\":16007,\"limit\":5000000},\"entityaccesscount\":{\"value\":4,\"limit\":400},\"timingprofile\":[\"100.00% 1920.660      1 -total\",\" 86.73% 1665.697      1 Шаблон:НП+Россия\",\" 86.34% 1658.215      1 Шаблон:НП\",\" 84.78% 1628.314      1 Шаблон:Карточка\",\" 61.35% 1178.417      2 Шаблон:Wikidata-coords\",\" 58.09% 1115.659      3 Шаблон:ПозКарта+\",\" 54.07% 1038.512      9 Шаблон:НП+/Районы\",\" 46.50%  893.093      6 Шаблон:ПозКарта~\",\" 19.64%  377.300     30 Шаблон:Wikidata\",\" 13.08%  251.308     12 Шаблон:ПозКарта/x\"]},\"scribunto\":{\"limitreport-timeusage\":{\"value\":\"1.401\",\"limit\":\"10.000\"},\"limitreport-memusage\":{\"value\":15575756,\"limit\":52428800},\"limitreport-logs\":\"Loaded datatype external-id of P721 from wikidata, consider passing datatype argument to formatProperty call or to Wikidata/config\\\\nLoaded datatype external-id of P764 from wikidata, consider passing datatype argument to formatProperty call or to Wikidata/config\\\\nLoaded datatype external-id of P1397 from wikidata, consider passing datatype argument to formatProperty call or to Wikidata/config\\\\n\",\"limitreport-profile\":[[\"Scribunto_LuaSandboxCallback::expandTemplate\",\"1080\",\"77.1\"],[\"?\",\"180\",\"12.9\"],[\"(for generator)\",\"40\",\"2.9\"],[\"validateData \\\\u003Cmw.lua:717\\\\u003E\",\"40\",\"2.9\"],[\"Scribunto_LuaSandboxCallback::callParserFunction\",\"20\",\"1.4\"],[\"recursiveClone \\\\u003CmwInit.lua:41\\\\u003E\",\"20\",\"1.4\"],[\"getmetatable \\\\u003Cmw.lua:64\\\\u003E\",\"20\",\"1.4\"]]},\"cachereport\":{\"origin\":\"mw1318\",\"timestamp\":\"20200311170352\",\"ttl\":86400,\"transientcontent\":true}}});});</script>\\n<script type=\"application/ld+json\">{\"@context\":\"https:\\\\/\\\\/schema.org\",\"@type\":\"Article\",\"name\":\"\\\\u0411\\\\u043e\\\\u0433\\\\u043e\\\\u0441\\\\u043b\\\\u043e\\\\u0432\\\\u043e (\\\\u0429\\\\u0451\\\\u043b\\\\u043a\\\\u043e\\\\u0432\\\\u0441\\\\u043a\\\\u0438\\\\u0439 \\\\u0440\\\\u0430\\\\u0439\\\\u043e\\\\u043d)\",\"url\":\"https:\\\\/\\\\/ru.wikipedia.org\\\\/wiki\\\\/%D0%91%D0%BE%D0%B3%D0%BE%D1%81%D0%BB%D0%BE%D0%B2%D0%BE_(%D0%A9%D1%91%D0%BB%D0%BA%D0%BE%D0%B2%D1%81%D0%BA%D0%B8%D0%B9_%D1%80%D0%B0%D0%B9%D0%BE%D0%BD)\",\"sameAs\":\"http:\\\\/\\\\/www.wikidata.org\\\\/entity\\\\/Q4089763\",\"mainEntity\":\"http:\\\\/\\\\/www.wikidata.org\\\\/entity\\\\/Q4089763\",\"author\":{\"@type\":\"Organization\",\"name\":\"Contributors to Wikimedia projects\"},\"publisher\":{\"@type\":\"Organization\",\"name\":\"\\\\u0424\\\\u043e\\\\u043d\\\\u0434 \\\\u0412\\\\u0438\\\\u043a\\\\u0438\\\\u043c\\\\u0435\\\\u0434\\\\u0438\\\\u0430\",\"logo\":{\"@type\":\"ImageObject\",\"url\":\"https:\\\\/\\\\/www.wikimedia.org\\\\/static\\\\/images\\\\/wmf-hor-googpub.png\"}},\"datePublished\":\"2010-07-24T19:48:31Z\",\"dateModified\":\"2020-01-16T09:56:39Z\",\"image\":\"https:\\\\/\\\\/upload.wikimedia.org\\\\/wikipedia\\\\/commons\\\\/0\\\\/03\\\\/Bogoslovo_Church_of_the_Theotokos_of_Kazan_20146.jpg\",\"headline\":\"\\\\u0434\\\\u0435\\\\u0440\\\\u0435\\\\u0432\\\\u043d\\\\u044f \\\\u0432 \\\\u0429\\\\u0451\\\\u043b\\\\u043a\\\\u043e\\\\u0432\\\\u0441\\\\u043a\\\\u043e\\\\u043c \\\\u0440\\\\u0430\\\\u0439\\\\u043e\\\\u043d\\\\u0435 \\\\u041c\\\\u043e\\\\u0441\\\\u043a\\\\u043e\\\\u0432\\\\u0441\\\\u043a\\\\u043e\\\\u0439 \\\\u043e\\\\u0431\\\\u043b\\\\u0430\\\\u0441\\\\u0442\\\\u0438 \\\\u0420\\\\u043e\\\\u0441\\\\u0441\\\\u0438\\\\u0438\"}</script>\\n<script>(RLQ=window.RLQ||[]).push(function(){mw.config.set({\"wgBackendResponseTime\":121,\"wgHostname\":\"mw1265\"});});</script></body></html>\\n'"
      ]
     },
     "execution_count": 72,
     "metadata": {},
     "output_type": "execute_result"
    }
   ],
   "source": [
    "page_source.text"
   ]
  },
  {
   "cell_type": "code",
   "execution_count": null,
   "metadata": {},
   "outputs": [],
   "source": []
  }
 ],
 "metadata": {
  "kernelspec": {
   "display_name": "Python 3",
   "language": "python",
   "name": "python3"
  },
  "language_info": {
   "codemirror_mode": {
    "name": "ipython",
    "version": 3
   },
   "file_extension": ".py",
   "mimetype": "text/x-python",
   "name": "python",
   "nbconvert_exporter": "python",
   "pygments_lexer": "ipython3",
   "version": "3.7.4"
  }
 },
 "nbformat": 4,
 "nbformat_minor": 2
}

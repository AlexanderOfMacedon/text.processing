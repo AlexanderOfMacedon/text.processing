{
 "cells": [
  {
   "cell_type": "code",
   "execution_count": 7,
   "metadata": {},
   "outputs": [],
   "source": [
    "import os\n",
    "import sys\n",
    "\n",
    "import numpy as np\n",
    "import pandas as pd\n",
    "\n",
    "from tqdm import tqdm_notebook\n",
    "a"
   ]
  },
  {
   "cell_type": "code",
   "execution_count": 9,
   "metadata": {},
   "outputs": [],
   "source": [
    "module_path = os.path.abspath(os.path.join('..'))\n",
    "if module_path not in sys.path:\n",
    "    sys.path.append(module_path)\n",
    "    \n",
    "from utils.psql import Postresql"
   ]
  },
  {
   "cell_type": "markdown",
   "metadata": {},
   "source": [
    "# Конфигурации"
   ]
  },
  {
   "cell_type": "code",
   "execution_count": 7,
   "metadata": {},
   "outputs": [],
   "source": [
    "database = Postresql({\n",
    "    'database': 'fishtexts',\n",
    "    'user': 'postgres',\n",
    "    'password': '081099',\n",
    "    'host': 'localhost',\n",
    "    'port': '5432'})"
   ]
  },
  {
   "cell_type": "code",
   "execution_count": 11,
   "metadata": {},
   "outputs": [],
   "source": [
    "rows = database.select('lemmatize_texts')"
   ]
  },
  {
   "cell_type": "code",
   "execution_count": 12,
   "metadata": {},
   "outputs": [],
   "source": [
    "main_dt = pd.DataFrame(rows, index=[row['id'] for row in rows])"
   ]
  },
  {
   "cell_type": "code",
   "execution_count": 13,
   "metadata": {},
   "outputs": [
    {
     "data": {
      "text/html": [
       "<div>\n",
       "<style scoped>\n",
       "    .dataframe tbody tr th:only-of-type {\n",
       "        vertical-align: middle;\n",
       "    }\n",
       "\n",
       "    .dataframe tbody tr th {\n",
       "        vertical-align: top;\n",
       "    }\n",
       "\n",
       "    .dataframe thead th {\n",
       "        text-align: right;\n",
       "    }\n",
       "</style>\n",
       "<table border=\"1\" class=\"dataframe\">\n",
       "  <thead>\n",
       "    <tr style=\"text-align: right;\">\n",
       "      <th></th>\n",
       "      <th>mini_place</th>\n",
       "      <th>date</th>\n",
       "      <th>marked</th>\n",
       "      <th>main_place</th>\n",
       "      <th>iscomment</th>\n",
       "      <th>text</th>\n",
       "      <th>id</th>\n",
       "    </tr>\n",
       "  </thead>\n",
       "  <tbody>\n",
       "    <tr>\n",
       "      <td>1</td>\n",
       "      <td>Брейтово</td>\n",
       "      <td>03.02.2015</td>\n",
       "      <td>no</td>\n",
       "      <td>Рыбинское водохранилище.</td>\n",
       "      <td>no</td>\n",
       "      <td>3   февраль   вторник . утро   с   афоня   раз...</td>\n",
       "      <td>1</td>\n",
       "    </tr>\n",
       "    <tr>\n",
       "      <td>2</td>\n",
       "      <td>Брейтово</td>\n",
       "      <td>06.02.2015</td>\n",
       "      <td>no</td>\n",
       "      <td>Рыбинское водохранилище.</td>\n",
       "      <td>no</td>\n",
       "      <td>6   февраль , пятница . подъем   в   5   утро ...</td>\n",
       "      <td>2</td>\n",
       "    </tr>\n",
       "    <tr>\n",
       "      <td>3</td>\n",
       "      <td>Брейтово</td>\n",
       "      <td>07.02.2015</td>\n",
       "      <td>no</td>\n",
       "      <td>Рыбинское водохранилище.</td>\n",
       "      <td>no</td>\n",
       "      <td>7   февраль , суббота . поехать   три   снежик...</td>\n",
       "      <td>3</td>\n",
       "    </tr>\n",
       "    <tr>\n",
       "      <td>4</td>\n",
       "      <td>Брейтово</td>\n",
       "      <td>08.02.2015</td>\n",
       "      <td>no</td>\n",
       "      <td>Рыбинское водохранилище.</td>\n",
       "      <td>no</td>\n",
       "      <td>8   февраль , воскресение . ловить   опять   н...</td>\n",
       "      <td>4</td>\n",
       "    </tr>\n",
       "    <tr>\n",
       "      <td>5</td>\n",
       "      <td>Брейтово</td>\n",
       "      <td>09.02.2015</td>\n",
       "      <td>no</td>\n",
       "      <td>Рыбинское водохранилище.</td>\n",
       "      <td>no</td>\n",
       "      <td>9   февраль , понедельник . самый   результати...</td>\n",
       "      <td>5</td>\n",
       "    </tr>\n",
       "    <tr>\n",
       "      <td>...</td>\n",
       "      <td>...</td>\n",
       "      <td>...</td>\n",
       "      <td>...</td>\n",
       "      <td>...</td>\n",
       "      <td>...</td>\n",
       "      <td>...</td>\n",
       "      <td>...</td>\n",
       "    </tr>\n",
       "    <tr>\n",
       "      <td>267175</td>\n",
       "      <td>Брейтово</td>\n",
       "      <td>03.03.2014</td>\n",
       "      <td>no</td>\n",
       "      <td>Рыбинское водохранилище.</td>\n",
       "      <td>no</td>\n",
       "      <td>3   по   6.03 .   ловить   на   жерлица   в   ...</td>\n",
       "      <td>267175</td>\n",
       "    </tr>\n",
       "    <tr>\n",
       "      <td>267176</td>\n",
       "      <td>Брейтово</td>\n",
       "      <td>16.03.2014</td>\n",
       "      <td>no</td>\n",
       "      <td>Рыбинское водохранилище.</td>\n",
       "      <td>no</td>\n",
       "      <td>воскресение   уже   шипеть   во   весь ,  на  ...</td>\n",
       "      <td>267176</td>\n",
       "    </tr>\n",
       "    <tr>\n",
       "      <td>267177</td>\n",
       "      <td>Брейтово</td>\n",
       "      <td>15.03.2014</td>\n",
       "      <td>no</td>\n",
       "      <td>Рыбинское водохранилище.</td>\n",
       "      <td>no</td>\n",
       "      <td>суббота   много   менее ,  в</td>\n",
       "      <td>267177</td>\n",
       "    </tr>\n",
       "    <tr>\n",
       "      <td>267178</td>\n",
       "      <td>Брейтово</td>\n",
       "      <td>16.03.2014</td>\n",
       "      <td>no</td>\n",
       "      <td>Рыбинское водохранилище.</td>\n",
       "      <td>no</td>\n",
       "      <td>воскресение   заезжать   в   медухов , хотеть ...</td>\n",
       "      <td>267178</td>\n",
       "    </tr>\n",
       "    <tr>\n",
       "      <td>267179</td>\n",
       "      <td>Брейтово</td>\n",
       "      <td>02.02.2015</td>\n",
       "      <td>no</td>\n",
       "      <td>Рыбинское водохранилище.</td>\n",
       "      <td>no</td>\n",
       "      <td>2   февраль , понедельник . 11 - 40   вечер , ...</td>\n",
       "      <td>267179</td>\n",
       "    </tr>\n",
       "  </tbody>\n",
       "</table>\n",
       "<p>267179 rows × 7 columns</p>\n",
       "</div>"
      ],
      "text/plain": [
       "       mini_place        date marked                main_place iscomment  \\\n",
       "1        Брейтово  03.02.2015     no  Рыбинское водохранилище.        no   \n",
       "2        Брейтово  06.02.2015     no  Рыбинское водохранилище.        no   \n",
       "3        Брейтово  07.02.2015     no  Рыбинское водохранилище.        no   \n",
       "4        Брейтово  08.02.2015     no  Рыбинское водохранилище.        no   \n",
       "5        Брейтово  09.02.2015     no  Рыбинское водохранилище.        no   \n",
       "...           ...         ...    ...                       ...       ...   \n",
       "267175   Брейтово  03.03.2014     no  Рыбинское водохранилище.        no   \n",
       "267176   Брейтово  16.03.2014     no  Рыбинское водохранилище.        no   \n",
       "267177   Брейтово  15.03.2014     no  Рыбинское водохранилище.        no   \n",
       "267178   Брейтово  16.03.2014     no  Рыбинское водохранилище.        no   \n",
       "267179   Брейтово  02.02.2015     no  Рыбинское водохранилище.        no   \n",
       "\n",
       "                                                     text      id  \n",
       "1       3   февраль   вторник . утро   с   афоня   раз...       1  \n",
       "2       6   февраль , пятница . подъем   в   5   утро ...       2  \n",
       "3       7   февраль , суббота . поехать   три   снежик...       3  \n",
       "4       8   февраль , воскресение . ловить   опять   н...       4  \n",
       "5       9   февраль , понедельник . самый   результати...       5  \n",
       "...                                                   ...     ...  \n",
       "267175  3   по   6.03 .   ловить   на   жерлица   в   ...  267175  \n",
       "267176  воскресение   уже   шипеть   во   весь ,  на  ...  267176  \n",
       "267177                     суббота   много   менее ,  в    267177  \n",
       "267178  воскресение   заезжать   в   медухов , хотеть ...  267178  \n",
       "267179  2   февраль , понедельник . 11 - 40   вечер , ...  267179  \n",
       "\n",
       "[267179 rows x 7 columns]"
      ]
     },
     "execution_count": 13,
     "metadata": {},
     "output_type": "execute_result"
    }
   ],
   "source": [
    "main_dt"
   ]
  },
  {
   "cell_type": "markdown",
   "metadata": {},
   "source": [
    "# Чистка от html"
   ]
  },
  {
   "cell_type": "code",
   "execution_count": 14,
   "metadata": {},
   "outputs": [
    {
     "data": {
      "application/vnd.jupyter.widget-view+json": {
       "model_id": "d3d9d844b1af46e5932d815bbfdbcba0",
       "version_major": 2,
       "version_minor": 0
      },
      "text/plain": [
       "HBox(children=(IntProgress(value=0, max=267179), HTML(value='')))"
      ]
     },
     "metadata": {},
     "output_type": "display_data"
    },
    {
     "name": "stdout",
     "output_type": "stream",
     "text": [
      "\n"
     ]
    }
   ],
   "source": [
    "for index in tqdm_notebook(main_dt.index):\n",
    "    text = main_dt.loc[index, 'text']\n",
    "    left_index = text.find('<')\n",
    "    if left_index > -1:\n",
    "        right_index = text.find('>')\n",
    "        while right_index < len(text):\n",
    "            new_right_index = text.find('>', right_index + 1)\n",
    "            if new_right_index > -1:\n",
    "                right_index = new_right_index\n",
    "            else:\n",
    "                break\n",
    "        if right_index > -1:\n",
    "            text = text[:left_index] + text[right_index + 1:]\n",
    "    main_dt.loc[index, 'text'] = text         "
   ]
  },
  {
   "cell_type": "code",
   "execution_count": 17,
   "metadata": {},
   "outputs": [],
   "source": [
    "main_dt.to_csv('clean_texts.csv')"
   ]
  },
  {
   "cell_type": "code",
   "execution_count": null,
   "metadata": {},
   "outputs": [],
   "source": []
  },
  {
   "cell_type": "code",
   "execution_count": 63,
   "metadata": {},
   "outputs": [],
   "source": [
    "main_dt = pd.read_csv('clean_texts.csv', index_col=0)"
   ]
  },
  {
   "cell_type": "code",
   "execution_count": 80,
   "metadata": {},
   "outputs": [
    {
     "name": "stdout",
     "output_type": "stream",
     "text": [
      "Число диалоговых сообщений: 49218\n",
      "Число не диалоговых сообщений: 217961\n"
     ]
    }
   ],
   "source": [
    "print(\"Число диалоговых сообщений: {}\".format(main_dt[main_dt.is_dialog == True].shape[0]))\n",
    "print(\"Число недиалоговых сообщений: {}\".format(main_dt[main_dt.is_dialog == False].shape[0]))"
   ]
  },
  {
   "cell_type": "code",
   "execution_count": 87,
   "metadata": {},
   "outputs": [],
   "source": [
    "comment_map = {'время': ['сегодня', 'вчера', 'выходн'], \n",
    "             'рыбалка': ['поклевывать', 'половить', 'ловить', 'поймать', 'поклевка'], \n",
    "             'рыба': ['спиннинг', 'фидер', 'удочка', 'улов', 'удар', 'тычок', 'лунка', 'окун', 'щук', 'судак', 'лещ', 'плотв']}\n",
    "\n",
    "def filter_comment(text):\n",
    "    time_flag = False\n",
    "    fishing_flag = False\n",
    "    fish_flag = False\n",
    "    for time in comment_map['время']:\n",
    "        if text.find(time) > -1:\n",
    "            time_flag = True\n",
    "            break\n",
    "    for fishing in comment_map['рыбалка']:\n",
    "        if text.find(fishing) > -1:\n",
    "            fishing_flag = True\n",
    "            break\n",
    "    for fish in comment_map['рыба']:\n",
    "        if text.find(fish) > -1:\n",
    "            fish_flag = True\n",
    "            break\n",
    "    if time_flag and fishing_flag and fish_flag:\n",
    "        return True\n",
    "    return False\n",
    "    "
   ]
  },
  {
   "cell_type": "code",
   "execution_count": 97,
   "metadata": {},
   "outputs": [],
   "source": [
    "is_comment_index = main_dt[main_dt.apply(lambda row: filter_comment(row['text']) and not row['is_dialog'], axis=1)].index.to_list()"
   ]
  },
  {
   "cell_type": "code",
   "execution_count": 98,
   "metadata": {},
   "outputs": [],
   "source": [
    "is_not_comment_index = main_dt[main_dt.apply(lambda row: not filter_comment(row['text']) and row['is_dialog'], axis=1)].index.to_list()"
   ]
  },
  {
   "cell_type": "code",
   "execution_count": 101,
   "metadata": {},
   "outputs": [
    {
     "name": "stdout",
     "output_type": "stream",
     "text": [
      "Размеченных отчетов: 52262\n",
      "Размеченных не отчетов: 45520\n"
     ]
    }
   ],
   "source": [
    "print('Размеченных отчетов: {}'.format(len(is_comment_index)))\n",
    "print('Размеченных не отчетов: {}'.format(len(is_not_comment_index)))"
   ]
  },
  {
   "cell_type": "code",
   "execution_count": 293,
   "metadata": {},
   "outputs": [
    {
     "data": {
      "text/plain": [
       "5830"
      ]
     },
     "execution_count": 293,
     "metadata": {},
     "output_type": "execute_result"
    }
   ],
   "source": [
    "not_comment = [x for x in not_comment if x not in is_comment]\n",
    "len(not_comment)"
   ]
  },
  {
   "cell_type": "code",
   "execution_count": 102,
   "metadata": {},
   "outputs": [
    {
     "data": {
      "text/html": [
       "<div>\n",
       "<style scoped>\n",
       "    .dataframe tbody tr th:only-of-type {\n",
       "        vertical-align: middle;\n",
       "    }\n",
       "\n",
       "    .dataframe tbody tr th {\n",
       "        vertical-align: top;\n",
       "    }\n",
       "\n",
       "    .dataframe thead th {\n",
       "        text-align: right;\n",
       "    }\n",
       "</style>\n",
       "<table border=\"1\" class=\"dataframe\">\n",
       "  <thead>\n",
       "    <tr style=\"text-align: right;\">\n",
       "      <th></th>\n",
       "      <th>text</th>\n",
       "      <th>iscomment</th>\n",
       "    </tr>\n",
       "  </thead>\n",
       "  <tbody>\n",
       "    <tr>\n",
       "      <td>3</td>\n",
       "      <td>8   февраль , воскресение . ловить   опять   н...</td>\n",
       "      <td>no</td>\n",
       "    </tr>\n",
       "    <tr>\n",
       "      <td>5</td>\n",
       "      <td>вчерашний   золотой   лунка   молчать , как   ...</td>\n",
       "      <td>no</td>\n",
       "    </tr>\n",
       "    <tr>\n",
       "      <td>13</td>\n",
       "      <td>9   марта   понедельник .   сегодня   судак   ...</td>\n",
       "      <td>no</td>\n",
       "    </tr>\n",
       "    <tr>\n",
       "      <td>39</td>\n",
       "      <td>30   там   же   4синца   и   14   кг   сорога ...</td>\n",
       "      <td>no</td>\n",
       "    </tr>\n",
       "    <tr>\n",
       "      <td>50</td>\n",
       "      <td>сегодня   погодка   хорошо ,  но   все   таки ...</td>\n",
       "      <td>no</td>\n",
       "    </tr>\n",
       "    <tr>\n",
       "      <td>...</td>\n",
       "      <td>...</td>\n",
       "      <td>...</td>\n",
       "    </tr>\n",
       "    <tr>\n",
       "      <td>267158</td>\n",
       "      <td>сегодня   описывать   яма   на   дорога   бесп...</td>\n",
       "      <td>no</td>\n",
       "    </tr>\n",
       "    <tr>\n",
       "      <td>267163</td>\n",
       "      <td>среди   таковой   быть   и   тот ,  кто   рядо...</td>\n",
       "      <td>no</td>\n",
       "    </tr>\n",
       "    <tr>\n",
       "      <td>267167</td>\n",
       "      <td>сегодняшний   фото   из   борок . ( не   мой !...</td>\n",
       "      <td>no</td>\n",
       "    </tr>\n",
       "    <tr>\n",
       "      <td>267172</td>\n",
       "      <td>вчера ,  тем   мало   мы   она   поймать   зав...</td>\n",
       "      <td>no</td>\n",
       "    </tr>\n",
       "    <tr>\n",
       "      <td>267177</td>\n",
       "      <td>воскресение   заезжать   в   медухов , хотеть ...</td>\n",
       "      <td>no</td>\n",
       "    </tr>\n",
       "  </tbody>\n",
       "</table>\n",
       "<p>97782 rows × 2 columns</p>\n",
       "</div>"
      ],
      "text/plain": [
       "                                                     text iscomment\n",
       "3       8   февраль , воскресение . ловить   опять   н...        no\n",
       "5       вчерашний   золотой   лунка   молчать , как   ...        no\n",
       "13      9   марта   понедельник .   сегодня   судак   ...        no\n",
       "39      30   там   же   4синца   и   14   кг   сорога ...        no\n",
       "50      сегодня   погодка   хорошо ,  но   все   таки ...        no\n",
       "...                                                   ...       ...\n",
       "267158  сегодня   описывать   яма   на   дорога   бесп...        no\n",
       "267163  среди   таковой   быть   и   тот ,  кто   рядо...        no\n",
       "267167  сегодняшний   фото   из   борок . ( не   мой !...        no\n",
       "267172  вчера ,  тем   мало   мы   она   поймать   зав...        no\n",
       "267177  воскресение   заезжать   в   медухов , хотеть ...        no\n",
       "\n",
       "[97782 rows x 2 columns]"
      ]
     },
     "execution_count": 102,
     "metadata": {},
     "output_type": "execute_result"
    }
   ],
   "source": [
    "train_dt = main_dt.loc[is_comment_index + is_not_comment_index, ['text', 'iscomment']]\n",
    "train_dt"
   ]
  },
  {
   "cell_type": "code",
   "execution_count": 103,
   "metadata": {},
   "outputs": [],
   "source": [
    "train_dt.loc[is_not_comment_index , 'iscomment'] = 0\n",
    "train_dt.loc[is_comment_index , 'iscomment'] = 1"
   ]
  },
  {
   "cell_type": "code",
   "execution_count": 106,
   "metadata": {},
   "outputs": [
    {
     "data": {
      "text/html": [
       "<div>\n",
       "<style scoped>\n",
       "    .dataframe tbody tr th:only-of-type {\n",
       "        vertical-align: middle;\n",
       "    }\n",
       "\n",
       "    .dataframe tbody tr th {\n",
       "        vertical-align: top;\n",
       "    }\n",
       "\n",
       "    .dataframe thead th {\n",
       "        text-align: right;\n",
       "    }\n",
       "</style>\n",
       "<table border=\"1\" class=\"dataframe\">\n",
       "  <thead>\n",
       "    <tr style=\"text-align: right;\">\n",
       "      <th></th>\n",
       "      <th>text</th>\n",
       "      <th>iscomment</th>\n",
       "    </tr>\n",
       "  </thead>\n",
       "  <tbody>\n",
       "    <tr>\n",
       "      <td>3</td>\n",
       "      <td>8   февраль , воскресение . ловить   опять   н...</td>\n",
       "      <td>1</td>\n",
       "    </tr>\n",
       "    <tr>\n",
       "      <td>5</td>\n",
       "      <td>вчерашний   золотой   лунка   молчать , как   ...</td>\n",
       "      <td>1</td>\n",
       "    </tr>\n",
       "    <tr>\n",
       "      <td>13</td>\n",
       "      <td>9   марта   понедельник .   сегодня   судак   ...</td>\n",
       "      <td>1</td>\n",
       "    </tr>\n",
       "    <tr>\n",
       "      <td>39</td>\n",
       "      <td>30   там   же   4синца   и   14   кг   сорога ...</td>\n",
       "      <td>1</td>\n",
       "    </tr>\n",
       "    <tr>\n",
       "      <td>50</td>\n",
       "      <td>сегодня   погодка   хорошо ,  но   все   таки ...</td>\n",
       "      <td>1</td>\n",
       "    </tr>\n",
       "    <tr>\n",
       "      <td>...</td>\n",
       "      <td>...</td>\n",
       "      <td>...</td>\n",
       "    </tr>\n",
       "    <tr>\n",
       "      <td>267158</td>\n",
       "      <td>сегодня   описывать   яма   на   дорога   бесп...</td>\n",
       "      <td>0</td>\n",
       "    </tr>\n",
       "    <tr>\n",
       "      <td>267163</td>\n",
       "      <td>среди   таковой   быть   и   тот ,  кто   рядо...</td>\n",
       "      <td>0</td>\n",
       "    </tr>\n",
       "    <tr>\n",
       "      <td>267167</td>\n",
       "      <td>сегодняшний   фото   из   борок . ( не   мой !...</td>\n",
       "      <td>0</td>\n",
       "    </tr>\n",
       "    <tr>\n",
       "      <td>267172</td>\n",
       "      <td>вчера ,  тем   мало   мы   она   поймать   зав...</td>\n",
       "      <td>0</td>\n",
       "    </tr>\n",
       "    <tr>\n",
       "      <td>267177</td>\n",
       "      <td>воскресение   заезжать   в   медухов , хотеть ...</td>\n",
       "      <td>0</td>\n",
       "    </tr>\n",
       "  </tbody>\n",
       "</table>\n",
       "<p>97782 rows × 2 columns</p>\n",
       "</div>"
      ],
      "text/plain": [
       "                                                     text iscomment\n",
       "3       8   февраль , воскресение . ловить   опять   н...         1\n",
       "5       вчерашний   золотой   лунка   молчать , как   ...         1\n",
       "13      9   марта   понедельник .   сегодня   судак   ...         1\n",
       "39      30   там   же   4синца   и   14   кг   сорога ...         1\n",
       "50      сегодня   погодка   хорошо ,  но   все   таки ...         1\n",
       "...                                                   ...       ...\n",
       "267158  сегодня   описывать   яма   на   дорога   бесп...         0\n",
       "267163  среди   таковой   быть   и   тот ,  кто   рядо...         0\n",
       "267167  сегодняшний   фото   из   борок . ( не   мой !...         0\n",
       "267172  вчера ,  тем   мало   мы   она   поймать   зав...         0\n",
       "267177  воскресение   заезжать   в   медухов , хотеть ...         0\n",
       "\n",
       "[97782 rows x 2 columns]"
      ]
     },
     "execution_count": 106,
     "metadata": {},
     "output_type": "execute_result"
    }
   ],
   "source": [
    "train_dt"
   ]
  },
  {
   "cell_type": "code",
   "execution_count": 107,
   "metadata": {},
   "outputs": [],
   "source": [
    "from nltk.stem.snowball import SnowballStemmer\n",
    "from nltk.tokenize import word_tokenize\n",
    "from nltk.corpus import stopwords\n",
    "from nltk.stem import WordNetLemmatizer \n",
    "import re\n",
    "import string\n",
    "\n",
    "stop_words = set(stopwords.words('russian'))\n",
    "\n",
    "def preprocessing(text):\n",
    "    temp = text.lower()\n",
    "    temp = re.sub(r'\\d+', '', temp)\n",
    "    temp = temp.translate(str.maketrans('','', string.punctuation)).strip()\n",
    "    tokens = word_tokenize(temp)\n",
    "    temp = [i for i in tokens if not i in stop_words]\n",
    "    return ' '.join(temp)"
   ]
  },
  {
   "cell_type": "code",
   "execution_count": 108,
   "metadata": {},
   "outputs": [
    {
     "name": "stdout",
     "output_type": "stream",
     "text": [
      "Wall time: 1min 51s\n"
     ]
    },
    {
     "data": {
      "text/plain": [
       "TfidfVectorizer(analyzer='word', binary=False, decode_error='strict',\n",
       "                dtype=<class 'numpy.float64'>, encoding='utf-8',\n",
       "                input='content', lowercase=True, max_df=1.0, max_features=None,\n",
       "                min_df=1, ngram_range=(1, 1), norm='l2',\n",
       "                preprocessor=<function preprocessing at 0x000002104EDCD4C8>,\n",
       "                smooth_idf=True, stop_words=None, strip_accents=None,\n",
       "                sublinear_tf=False, token_pattern='(?u)\\\\b\\\\w\\\\w+\\\\b',\n",
       "                tokenizer=None, use_idf=True, vocabulary=None)"
      ]
     },
     "execution_count": 108,
     "metadata": {},
     "output_type": "execute_result"
    }
   ],
   "source": [
    "%%time\n",
    "from sklearn.feature_extraction.text import CountVectorizer, TfidfVectorizer\n",
    "\n",
    "vectorizer = TfidfVectorizer(preprocessor=preprocessing)\n",
    "vectorizer.fit(train_dt.text)"
   ]
  },
  {
   "cell_type": "code",
   "execution_count": 109,
   "metadata": {},
   "outputs": [],
   "source": [
    "from sklearn.model_selection import train_test_split\n",
    "train, test = train_test_split(train_dt, test_size = 0.2)"
   ]
  },
  {
   "cell_type": "code",
   "execution_count": 110,
   "metadata": {},
   "outputs": [
    {
     "data": {
      "text/html": [
       "<div>\n",
       "<style scoped>\n",
       "    .dataframe tbody tr th:only-of-type {\n",
       "        vertical-align: middle;\n",
       "    }\n",
       "\n",
       "    .dataframe tbody tr th {\n",
       "        vertical-align: top;\n",
       "    }\n",
       "\n",
       "    .dataframe thead th {\n",
       "        text-align: right;\n",
       "    }\n",
       "</style>\n",
       "<table border=\"1\" class=\"dataframe\">\n",
       "  <thead>\n",
       "    <tr style=\"text-align: right;\">\n",
       "      <th></th>\n",
       "      <th>text</th>\n",
       "      <th>iscomment</th>\n",
       "    </tr>\n",
       "  </thead>\n",
       "  <tbody>\n",
       "    <tr>\n",
       "      <td>206886</td>\n",
       "      <td>7 .</td>\n",
       "      <td>0</td>\n",
       "    </tr>\n",
       "    <tr>\n",
       "      <td>45677</td>\n",
       "      <td>вчера ,  23   февраль   вновь   рыбачить    в ...</td>\n",
       "      <td>1</td>\n",
       "    </tr>\n",
       "    <tr>\n",
       "      <td>179629</td>\n",
       "      <td>суббота   ништяк   погодка   быть  ( ну   если...</td>\n",
       "      <td>0</td>\n",
       "    </tr>\n",
       "    <tr>\n",
       "      <td>247960</td>\n",
       "      <td>вчера   быть   в   михеево   раменский   район...</td>\n",
       "      <td>1</td>\n",
       "    </tr>\n",
       "    <tr>\n",
       "      <td>195107</td>\n",
       "      <td>сегодня   пофидерить   в   карманово   с   2 :...</td>\n",
       "      <td>1</td>\n",
       "    </tr>\n",
       "    <tr>\n",
       "      <td>...</td>\n",
       "      <td>...</td>\n",
       "      <td>...</td>\n",
       "    </tr>\n",
       "    <tr>\n",
       "      <td>63950</td>\n",
       "      <td>11   не   успевать   подсекать   на   два   уд...</td>\n",
       "      <td>1</td>\n",
       "    </tr>\n",
       "    <tr>\n",
       "      <td>120038</td>\n",
       "      <td>1000   человек ))  итог :  сопа  -  7шт ,  кал...</td>\n",
       "      <td>0</td>\n",
       "    </tr>\n",
       "    <tr>\n",
       "      <td>266601</td>\n",
       "      <td>15   мина   уже   на   кукан  ( ! )  кверху   ...</td>\n",
       "      <td>0</td>\n",
       "    </tr>\n",
       "    <tr>\n",
       "      <td>63219</td>\n",
       "      <td>суббота ) .   с   уважение .</td>\n",
       "      <td>0</td>\n",
       "    </tr>\n",
       "    <tr>\n",
       "      <td>93885</td>\n",
       "      <td>сегодня   сходить   на   живец   попробовать  ...</td>\n",
       "      <td>0</td>\n",
       "    </tr>\n",
       "  </tbody>\n",
       "</table>\n",
       "<p>19557 rows × 2 columns</p>\n",
       "</div>"
      ],
      "text/plain": [
       "                                                     text iscomment\n",
       "206886                                               7 .          0\n",
       "45677   вчера ,  23   февраль   вновь   рыбачить    в ...         1\n",
       "179629  суббота   ништяк   погодка   быть  ( ну   если...         0\n",
       "247960  вчера   быть   в   михеево   раменский   район...         1\n",
       "195107  сегодня   пофидерить   в   карманово   с   2 :...         1\n",
       "...                                                   ...       ...\n",
       "63950   11   не   успевать   подсекать   на   два   уд...         1\n",
       "120038  1000   человек ))  итог :  сопа  -  7шт ,  кал...         0\n",
       "266601  15   мина   уже   на   кукан  ( ! )  кверху   ...         0\n",
       "63219                       суббота ) .   с   уважение .          0\n",
       "93885   сегодня   сходить   на   живец   попробовать  ...         0\n",
       "\n",
       "[19557 rows x 2 columns]"
      ]
     },
     "execution_count": 110,
     "metadata": {},
     "output_type": "execute_result"
    }
   ],
   "source": [
    "test"
   ]
  },
  {
   "cell_type": "code",
   "execution_count": 111,
   "metadata": {},
   "outputs": [
    {
     "data": {
      "text/plain": [
       "'сегодня   сходить   на   живец   попробовать   но   после   такой   сообщение  ( спасибо   бонд ! )  проводить   рыбалка   на   пруд   в   митино   и   рак   заодно   половить . '"
      ]
     },
     "execution_count": 111,
     "metadata": {},
     "output_type": "execute_result"
    }
   ],
   "source": [
    "test.loc[93885].text"
   ]
  },
  {
   "cell_type": "code",
   "execution_count": 112,
   "metadata": {},
   "outputs": [],
   "source": [
    "train_vectors = vectorizer.transform(train.text)"
   ]
  },
  {
   "cell_type": "code",
   "execution_count": 113,
   "metadata": {},
   "outputs": [],
   "source": [
    "test_vectors = vectorizer.transform(test.text)"
   ]
  },
  {
   "cell_type": "code",
   "execution_count": 138,
   "metadata": {},
   "outputs": [],
   "source": [
    "from sklearn.feature_selection import SelectFromModel\n",
    "from sklearn.linear_model import LogisticRegression, SGDClassifier\n",
    "modelSelect = SelectFromModel(LogisticRegression(), max_features=7000)\n",
    "y = train.iscomment.astype ('int')\n",
    "selector = modelSelect.fit(X=train_vectors, y=y)"
   ]
  },
  {
   "cell_type": "code",
   "execution_count": 139,
   "metadata": {},
   "outputs": [],
   "source": [
    "new_train_vectors = selector.transform(train_vectors)"
   ]
  },
  {
   "cell_type": "code",
   "execution_count": 140,
   "metadata": {},
   "outputs": [],
   "source": [
    "new_test_vectors = selector.transform(test_vectors)"
   ]
  },
  {
   "cell_type": "code",
   "execution_count": 186,
   "metadata": {},
   "outputs": [
    {
     "data": {
      "text/plain": [
       "GradientBoostingClassifier(criterion='friedman_mse', init=None,\n",
       "                           learning_rate=0.1, loss='deviance', max_depth=3,\n",
       "                           max_features=None, max_leaf_nodes=None,\n",
       "                           min_impurity_decrease=0.0, min_impurity_split=None,\n",
       "                           min_samples_leaf=1, min_samples_split=2,\n",
       "                           min_weight_fraction_leaf=0.0, n_estimators=100,\n",
       "                           n_iter_no_change=None, presort='auto',\n",
       "                           random_state=None, subsample=1.0, tol=0.0001,\n",
       "                           validation_fraction=0.1, verbose=0,\n",
       "                           warm_start=False)"
      ]
     },
     "execution_count": 186,
     "metadata": {},
     "output_type": "execute_result"
    }
   ],
   "source": [
    "from sklearn.linear_model import LogisticRegression\n",
    "from sklearn.ensemble import GradientBoostingClassifier\n",
    "model = GradientBoostingClassifier()\n",
    "model.fit(X=new_train_vectors,y=y)"
   ]
  },
  {
   "cell_type": "code",
   "execution_count": 187,
   "metadata": {},
   "outputs": [],
   "source": [
    "preds = model.predict(new_test_vectors)"
   ]
  },
  {
   "cell_type": "code",
   "execution_count": 188,
   "metadata": {},
   "outputs": [
    {
     "name": "stdout",
     "output_type": "stream",
     "text": [
      "0.9620084880094084\n"
     ]
    }
   ],
   "source": [
    "from sklearn.metrics import accuracy_score\n",
    "print(accuracy_score(preds,  test.iscomment.astype ('int')))"
   ]
  },
  {
   "cell_type": "code",
   "execution_count": 191,
   "metadata": {},
   "outputs": [
    {
     "data": {
      "text/plain": [
       "GradientBoostingClassifier(criterion='friedman_mse', init=None,\n",
       "                           learning_rate=0.1, loss='deviance', max_depth=3,\n",
       "                           max_features=None, max_leaf_nodes=None,\n",
       "                           min_impurity_decrease=0.0, min_impurity_split=None,\n",
       "                           min_samples_leaf=1, min_samples_split=2,\n",
       "                           min_weight_fraction_leaf=0.0, n_estimators=100,\n",
       "                           n_iter_no_change=None, presort='auto',\n",
       "                           random_state=None, subsample=1.0, tol=0.0001,\n",
       "                           validation_fraction=0.1, verbose=0,\n",
       "                           warm_start=False)"
      ]
     },
     "execution_count": 191,
     "metadata": {},
     "output_type": "execute_result"
    }
   ],
   "source": [
    "model = GradientBoostingClassifier()\n",
    "model.fit(X=selector.transform(vectorizer.transform(train_dt.text)), y=train_dt.iscomment.astype ('int'))"
   ]
  },
  {
   "cell_type": "code",
   "execution_count": 192,
   "metadata": {},
   "outputs": [],
   "source": [
    "all_preds = model.predict(selector.transform(vectorizer.transform(main_dt.text)))"
   ]
  },
  {
   "cell_type": "code",
   "execution_count": 193,
   "metadata": {},
   "outputs": [],
   "source": [
    "all_preds = ['yes' if pred == 1 else 'no' for pred in all_preds]"
   ]
  },
  {
   "cell_type": "code",
   "execution_count": 194,
   "metadata": {},
   "outputs": [],
   "source": [
    "pred_main_dt = main_dt.copy()\n",
    "pred_main_dt.iscomment = all_preds\n",
    "pred_main_dt.loc[pred_main_dt.index, 'marked'] = 'yes'"
   ]
  },
  {
   "cell_type": "code",
   "execution_count": 195,
   "metadata": {},
   "outputs": [
    {
     "data": {
      "text/html": [
       "<div>\n",
       "<style scoped>\n",
       "    .dataframe tbody tr th:only-of-type {\n",
       "        vertical-align: middle;\n",
       "    }\n",
       "\n",
       "    .dataframe tbody tr th {\n",
       "        vertical-align: top;\n",
       "    }\n",
       "\n",
       "    .dataframe thead th {\n",
       "        text-align: right;\n",
       "    }\n",
       "</style>\n",
       "<table border=\"1\" class=\"dataframe\">\n",
       "  <thead>\n",
       "    <tr style=\"text-align: right;\">\n",
       "      <th></th>\n",
       "      <th>mini_place</th>\n",
       "      <th>date</th>\n",
       "      <th>marked</th>\n",
       "      <th>main_place</th>\n",
       "      <th>text</th>\n",
       "      <th>iscomment</th>\n",
       "      <th>is_dialog</th>\n",
       "      <th>id</th>\n",
       "    </tr>\n",
       "  </thead>\n",
       "  <tbody>\n",
       "    <tr>\n",
       "      <td>0</td>\n",
       "      <td>Брейтово</td>\n",
       "      <td>03.02.2015</td>\n",
       "      <td>yes</td>\n",
       "      <td>Рыбинское водохранилище.</td>\n",
       "      <td>3   февраль   вторник . утро   с   афоня   раз...</td>\n",
       "      <td>yes</td>\n",
       "      <td>False</td>\n",
       "      <td>1</td>\n",
       "    </tr>\n",
       "    <tr>\n",
       "      <td>1</td>\n",
       "      <td>Брейтово</td>\n",
       "      <td>06.02.2015</td>\n",
       "      <td>yes</td>\n",
       "      <td>Рыбинское водохранилище.</td>\n",
       "      <td>6   февраль , пятница . подъем   в   5   утро ...</td>\n",
       "      <td>yes</td>\n",
       "      <td>False</td>\n",
       "      <td>2</td>\n",
       "    </tr>\n",
       "    <tr>\n",
       "      <td>2</td>\n",
       "      <td>Брейтово</td>\n",
       "      <td>07.02.2015</td>\n",
       "      <td>yes</td>\n",
       "      <td>Рыбинское водохранилище.</td>\n",
       "      <td>7   февраль , суббота . поехать   три   снежик...</td>\n",
       "      <td>no</td>\n",
       "      <td>False</td>\n",
       "      <td>3</td>\n",
       "    </tr>\n",
       "    <tr>\n",
       "      <td>3</td>\n",
       "      <td>Брейтово</td>\n",
       "      <td>08.02.2015</td>\n",
       "      <td>yes</td>\n",
       "      <td>Рыбинское водохранилище.</td>\n",
       "      <td>8   февраль , воскресение . ловить   опять   н...</td>\n",
       "      <td>no</td>\n",
       "      <td>False</td>\n",
       "      <td>4</td>\n",
       "    </tr>\n",
       "    <tr>\n",
       "      <td>4</td>\n",
       "      <td>Брейтово</td>\n",
       "      <td>09.02.2015</td>\n",
       "      <td>yes</td>\n",
       "      <td>Рыбинское водохранилище.</td>\n",
       "      <td>9   февраль , понедельник . самый   результати...</td>\n",
       "      <td>yes</td>\n",
       "      <td>False</td>\n",
       "      <td>5</td>\n",
       "    </tr>\n",
       "    <tr>\n",
       "      <td>...</td>\n",
       "      <td>...</td>\n",
       "      <td>...</td>\n",
       "      <td>...</td>\n",
       "      <td>...</td>\n",
       "      <td>...</td>\n",
       "      <td>...</td>\n",
       "      <td>...</td>\n",
       "      <td>...</td>\n",
       "    </tr>\n",
       "    <tr>\n",
       "      <td>267174</td>\n",
       "      <td>Брейтово</td>\n",
       "      <td>03.03.2014</td>\n",
       "      <td>yes</td>\n",
       "      <td>Рыбинское водохранилище.</td>\n",
       "      <td>3   по   6.03 .   ловить   на   жерлица   в   ...</td>\n",
       "      <td>yes</td>\n",
       "      <td>False</td>\n",
       "      <td>267169</td>\n",
       "    </tr>\n",
       "    <tr>\n",
       "      <td>267175</td>\n",
       "      <td>Брейтово</td>\n",
       "      <td>16.03.2014</td>\n",
       "      <td>yes</td>\n",
       "      <td>Рыбинское водохранилище.</td>\n",
       "      <td>воскресение   уже   шипеть   во   весь ,  на  ...</td>\n",
       "      <td>no</td>\n",
       "      <td>False</td>\n",
       "      <td>267170</td>\n",
       "    </tr>\n",
       "    <tr>\n",
       "      <td>267176</td>\n",
       "      <td>Брейтово</td>\n",
       "      <td>15.03.2014</td>\n",
       "      <td>yes</td>\n",
       "      <td>Рыбинское водохранилище.</td>\n",
       "      <td>суббота   много   менее ,  в</td>\n",
       "      <td>no</td>\n",
       "      <td>False</td>\n",
       "      <td>267171</td>\n",
       "    </tr>\n",
       "    <tr>\n",
       "      <td>267177</td>\n",
       "      <td>Брейтово</td>\n",
       "      <td>16.03.2014</td>\n",
       "      <td>yes</td>\n",
       "      <td>Рыбинское водохранилище.</td>\n",
       "      <td>воскресение   заезжать   в   медухов , хотеть ...</td>\n",
       "      <td>no</td>\n",
       "      <td>True</td>\n",
       "      <td>267172</td>\n",
       "    </tr>\n",
       "    <tr>\n",
       "      <td>267178</td>\n",
       "      <td>Брейтово</td>\n",
       "      <td>02.02.2015</td>\n",
       "      <td>yes</td>\n",
       "      <td>Рыбинское водохранилище.</td>\n",
       "      <td>2   февраль , понедельник . 11 - 40   вечер , ...</td>\n",
       "      <td>yes</td>\n",
       "      <td>False</td>\n",
       "      <td>267179</td>\n",
       "    </tr>\n",
       "  </tbody>\n",
       "</table>\n",
       "<p>267179 rows × 8 columns</p>\n",
       "</div>"
      ],
      "text/plain": [
       "       mini_place        date marked                main_place  \\\n",
       "0        Брейтово  03.02.2015    yes  Рыбинское водохранилище.   \n",
       "1        Брейтово  06.02.2015    yes  Рыбинское водохранилище.   \n",
       "2        Брейтово  07.02.2015    yes  Рыбинское водохранилище.   \n",
       "3        Брейтово  08.02.2015    yes  Рыбинское водохранилище.   \n",
       "4        Брейтово  09.02.2015    yes  Рыбинское водохранилище.   \n",
       "...           ...         ...    ...                       ...   \n",
       "267174   Брейтово  03.03.2014    yes  Рыбинское водохранилище.   \n",
       "267175   Брейтово  16.03.2014    yes  Рыбинское водохранилище.   \n",
       "267176   Брейтово  15.03.2014    yes  Рыбинское водохранилище.   \n",
       "267177   Брейтово  16.03.2014    yes  Рыбинское водохранилище.   \n",
       "267178   Брейтово  02.02.2015    yes  Рыбинское водохранилище.   \n",
       "\n",
       "                                                     text iscomment  \\\n",
       "0       3   февраль   вторник . утро   с   афоня   раз...       yes   \n",
       "1       6   февраль , пятница . подъем   в   5   утро ...       yes   \n",
       "2       7   февраль , суббота . поехать   три   снежик...        no   \n",
       "3       8   февраль , воскресение . ловить   опять   н...        no   \n",
       "4       9   февраль , понедельник . самый   результати...       yes   \n",
       "...                                                   ...       ...   \n",
       "267174  3   по   6.03 .   ловить   на   жерлица   в   ...       yes   \n",
       "267175  воскресение   уже   шипеть   во   весь ,  на  ...        no   \n",
       "267176                     суббота   много   менее ,  в          no   \n",
       "267177  воскресение   заезжать   в   медухов , хотеть ...        no   \n",
       "267178  2   февраль , понедельник . 11 - 40   вечер , ...       yes   \n",
       "\n",
       "        is_dialog      id  \n",
       "0           False       1  \n",
       "1           False       2  \n",
       "2           False       3  \n",
       "3           False       4  \n",
       "4           False       5  \n",
       "...           ...     ...  \n",
       "267174      False  267169  \n",
       "267175      False  267170  \n",
       "267176      False  267171  \n",
       "267177       True  267172  \n",
       "267178      False  267179  \n",
       "\n",
       "[267179 rows x 8 columns]"
      ]
     },
     "execution_count": 195,
     "metadata": {},
     "output_type": "execute_result"
    }
   ],
   "source": [
    "pred_main_dt"
   ]
  },
  {
   "cell_type": "code",
   "execution_count": 196,
   "metadata": {},
   "outputs": [],
   "source": [
    "pred_main_dt.to_csv('pred_data.csv')"
   ]
  },
  {
   "cell_type": "code",
   "execution_count": 197,
   "metadata": {},
   "outputs": [],
   "source": [
    "main_dt = pd.read_csv(\"pred_data.csv\").drop(columns='Unnamed: 0')"
   ]
  },
  {
   "cell_type": "code",
   "execution_count": 198,
   "metadata": {},
   "outputs": [],
   "source": [
    "comment_dt = main_dt[main_dt.iscomment == 'yes']"
   ]
  },
  {
   "cell_type": "code",
   "execution_count": 199,
   "metadata": {},
   "outputs": [
    {
     "data": {
      "text/html": [
       "<div>\n",
       "<style scoped>\n",
       "    .dataframe tbody tr th:only-of-type {\n",
       "        vertical-align: middle;\n",
       "    }\n",
       "\n",
       "    .dataframe tbody tr th {\n",
       "        vertical-align: top;\n",
       "    }\n",
       "\n",
       "    .dataframe thead th {\n",
       "        text-align: right;\n",
       "    }\n",
       "</style>\n",
       "<table border=\"1\" class=\"dataframe\">\n",
       "  <thead>\n",
       "    <tr style=\"text-align: right;\">\n",
       "      <th></th>\n",
       "      <th>mini_place</th>\n",
       "      <th>date</th>\n",
       "      <th>marked</th>\n",
       "      <th>main_place</th>\n",
       "      <th>text</th>\n",
       "      <th>iscomment</th>\n",
       "      <th>is_dialog</th>\n",
       "      <th>id</th>\n",
       "    </tr>\n",
       "  </thead>\n",
       "  <tbody>\n",
       "    <tr>\n",
       "      <td>0</td>\n",
       "      <td>Брейтово</td>\n",
       "      <td>03.02.2015</td>\n",
       "      <td>yes</td>\n",
       "      <td>Рыбинское водохранилище.</td>\n",
       "      <td>3   февраль   вторник . утро   с   афоня   раз...</td>\n",
       "      <td>yes</td>\n",
       "      <td>False</td>\n",
       "      <td>1</td>\n",
       "    </tr>\n",
       "    <tr>\n",
       "      <td>1</td>\n",
       "      <td>Брейтово</td>\n",
       "      <td>06.02.2015</td>\n",
       "      <td>yes</td>\n",
       "      <td>Рыбинское водохранилище.</td>\n",
       "      <td>6   февраль , пятница . подъем   в   5   утро ...</td>\n",
       "      <td>yes</td>\n",
       "      <td>False</td>\n",
       "      <td>2</td>\n",
       "    </tr>\n",
       "    <tr>\n",
       "      <td>4</td>\n",
       "      <td>Брейтово</td>\n",
       "      <td>09.02.2015</td>\n",
       "      <td>yes</td>\n",
       "      <td>Рыбинское водохранилище.</td>\n",
       "      <td>9   февраль , понедельник . самый   результати...</td>\n",
       "      <td>yes</td>\n",
       "      <td>False</td>\n",
       "      <td>5</td>\n",
       "    </tr>\n",
       "    <tr>\n",
       "      <td>5</td>\n",
       "      <td>Брейтово</td>\n",
       "      <td>11.02.2015</td>\n",
       "      <td>yes</td>\n",
       "      <td>Рыбинское водохранилище.</td>\n",
       "      <td>вчерашний   золотой   лунка   молчать , как   ...</td>\n",
       "      <td>yes</td>\n",
       "      <td>False</td>\n",
       "      <td>6</td>\n",
       "    </tr>\n",
       "    <tr>\n",
       "      <td>9</td>\n",
       "      <td>Брейтово</td>\n",
       "      <td>03.03.2015</td>\n",
       "      <td>yes</td>\n",
       "      <td>Рыбинское водохранилище.</td>\n",
       "      <td>3   марта   вторник . тот   же   район   море ...</td>\n",
       "      <td>yes</td>\n",
       "      <td>False</td>\n",
       "      <td>8</td>\n",
       "    </tr>\n",
       "    <tr>\n",
       "      <td>...</td>\n",
       "      <td>...</td>\n",
       "      <td>...</td>\n",
       "      <td>...</td>\n",
       "      <td>...</td>\n",
       "      <td>...</td>\n",
       "      <td>...</td>\n",
       "      <td>...</td>\n",
       "      <td>...</td>\n",
       "    </tr>\n",
       "    <tr>\n",
       "      <td>267170</td>\n",
       "      <td>Брейтово</td>\n",
       "      <td>28.07.2016</td>\n",
       "      <td>yes</td>\n",
       "      <td>Рыбинское водохранилище.</td>\n",
       "      <td>четверг   3   час    утро   28   число   прини...</td>\n",
       "      <td>yes</td>\n",
       "      <td>False</td>\n",
       "      <td>267165</td>\n",
       "    </tr>\n",
       "    <tr>\n",
       "      <td>267172</td>\n",
       "      <td>Брейтово</td>\n",
       "      <td>24.02.2014</td>\n",
       "      <td>yes</td>\n",
       "      <td>Рыбинское водохранилище.</td>\n",
       "      <td>вчера ,  тем   мало   мы   она   поймать   зав...</td>\n",
       "      <td>yes</td>\n",
       "      <td>True</td>\n",
       "      <td>267167</td>\n",
       "    </tr>\n",
       "    <tr>\n",
       "      <td>267173</td>\n",
       "      <td>Брейтово</td>\n",
       "      <td>01.03.2014</td>\n",
       "      <td>yes</td>\n",
       "      <td>Рыбинское водохранилище.</td>\n",
       "      <td>сегодня   половить   рыбка . выезжать   от   ч...</td>\n",
       "      <td>yes</td>\n",
       "      <td>False</td>\n",
       "      <td>267168</td>\n",
       "    </tr>\n",
       "    <tr>\n",
       "      <td>267174</td>\n",
       "      <td>Брейтово</td>\n",
       "      <td>03.03.2014</td>\n",
       "      <td>yes</td>\n",
       "      <td>Рыбинское водохранилище.</td>\n",
       "      <td>3   по   6.03 .   ловить   на   жерлица   в   ...</td>\n",
       "      <td>yes</td>\n",
       "      <td>False</td>\n",
       "      <td>267169</td>\n",
       "    </tr>\n",
       "    <tr>\n",
       "      <td>267178</td>\n",
       "      <td>Брейтово</td>\n",
       "      <td>02.02.2015</td>\n",
       "      <td>yes</td>\n",
       "      <td>Рыбинское водохранилище.</td>\n",
       "      <td>2   февраль , понедельник . 11 - 40   вечер , ...</td>\n",
       "      <td>yes</td>\n",
       "      <td>False</td>\n",
       "      <td>267179</td>\n",
       "    </tr>\n",
       "  </tbody>\n",
       "</table>\n",
       "<p>85910 rows × 8 columns</p>\n",
       "</div>"
      ],
      "text/plain": [
       "       mini_place        date marked                main_place  \\\n",
       "0        Брейтово  03.02.2015    yes  Рыбинское водохранилище.   \n",
       "1        Брейтово  06.02.2015    yes  Рыбинское водохранилище.   \n",
       "4        Брейтово  09.02.2015    yes  Рыбинское водохранилище.   \n",
       "5        Брейтово  11.02.2015    yes  Рыбинское водохранилище.   \n",
       "9        Брейтово  03.03.2015    yes  Рыбинское водохранилище.   \n",
       "...           ...         ...    ...                       ...   \n",
       "267170   Брейтово  28.07.2016    yes  Рыбинское водохранилище.   \n",
       "267172   Брейтово  24.02.2014    yes  Рыбинское водохранилище.   \n",
       "267173   Брейтово  01.03.2014    yes  Рыбинское водохранилище.   \n",
       "267174   Брейтово  03.03.2014    yes  Рыбинское водохранилище.   \n",
       "267178   Брейтово  02.02.2015    yes  Рыбинское водохранилище.   \n",
       "\n",
       "                                                     text iscomment  \\\n",
       "0       3   февраль   вторник . утро   с   афоня   раз...       yes   \n",
       "1       6   февраль , пятница . подъем   в   5   утро ...       yes   \n",
       "4       9   февраль , понедельник . самый   результати...       yes   \n",
       "5       вчерашний   золотой   лунка   молчать , как   ...       yes   \n",
       "9       3   марта   вторник . тот   же   район   море ...       yes   \n",
       "...                                                   ...       ...   \n",
       "267170  четверг   3   час    утро   28   число   прини...       yes   \n",
       "267172  вчера ,  тем   мало   мы   она   поймать   зав...       yes   \n",
       "267173  сегодня   половить   рыбка . выезжать   от   ч...       yes   \n",
       "267174  3   по   6.03 .   ловить   на   жерлица   в   ...       yes   \n",
       "267178  2   февраль , понедельник . 11 - 40   вечер , ...       yes   \n",
       "\n",
       "        is_dialog      id  \n",
       "0           False       1  \n",
       "1           False       2  \n",
       "4           False       5  \n",
       "5           False       6  \n",
       "9           False       8  \n",
       "...           ...     ...  \n",
       "267170      False  267165  \n",
       "267172       True  267167  \n",
       "267173      False  267168  \n",
       "267174      False  267169  \n",
       "267178      False  267179  \n",
       "\n",
       "[85910 rows x 8 columns]"
      ]
     },
     "execution_count": 199,
     "metadata": {},
     "output_type": "execute_result"
    }
   ],
   "source": [
    "comment_dt"
   ]
  },
  {
   "cell_type": "code",
   "execution_count": 200,
   "metadata": {},
   "outputs": [
    {
     "data": {
      "application/vnd.jupyter.widget-view+json": {
       "model_id": "5c1ee9f771ec4924bf56327b8defe15c",
       "version_major": 2,
       "version_minor": 0
      },
      "text/plain": [
       "HBox(children=(IntProgress(value=1, bar_style='info', max=1), HTML(value='')))"
      ]
     },
     "metadata": {},
     "output_type": "display_data"
    },
    {
     "name": "stdout",
     "output_type": "stream",
     "text": [
      "\n"
     ]
    }
   ],
   "source": [
    "database.deleteTable('comments')\n",
    "database.createTable('comments', {'mini_place': 'TEXT', 'main_place': 'TEXT', 'date': 'TEXT', 'marked': 'TEXT',\n",
    "                                 'text': 'TEXT'})\n",
    "data_dict = []\n",
    "for index, row in tqdm_notebook(comment_dt.iterrows()):\n",
    "    temp = dict(row)\n",
    "    del temp['iscomment']\n",
    "    del temp['id']\n",
    "    del temp['is_dialog']\n",
    "    data_dict.append(temp)"
   ]
  },
  {
   "cell_type": "code",
   "execution_count": 201,
   "metadata": {},
   "outputs": [
    {
     "data": {
      "text/plain": [
       "'Success'"
      ]
     },
     "execution_count": 201,
     "metadata": {},
     "output_type": "execute_result"
    }
   ],
   "source": [
    "database.insert('comments', insert_data=data_dict)"
   ]
  }
 ],
 "metadata": {
  "kernelspec": {
   "display_name": "Python 3",
   "language": "python",
   "name": "python3"
  },
  "language_info": {
   "codemirror_mode": {
    "name": "ipython",
    "version": 3
   },
   "file_extension": ".py",
   "mimetype": "text/x-python",
   "name": "python",
   "nbconvert_exporter": "python",
   "pygments_lexer": "ipython3",
   "version": "3.7.4"
  }
 },
 "nbformat": 4,
 "nbformat_minor": 2
}

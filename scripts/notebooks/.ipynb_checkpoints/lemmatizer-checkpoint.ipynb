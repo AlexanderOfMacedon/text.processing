{
 "cells": [
  {
   "cell_type": "code",
   "execution_count": 1,
   "metadata": {},
   "outputs": [],
   "source": [
    "import numpy as np\n",
    "import pandas as pd\n"
   ]
  },
  {
   "cell_type": "code",
   "execution_count": 11,
   "metadata": {},
   "outputs": [],
   "source": [
    "main_dt = pd.read_csv(\"data.csv\").drop(columns=\"Unnamed: 0\")"
   ]
  },
  {
   "cell_type": "code",
   "execution_count": 13,
   "metadata": {},
   "outputs": [
    {
     "data": {
      "text/plain": [
       "(267179, 8)"
      ]
     },
     "execution_count": 13,
     "metadata": {},
     "output_type": "execute_result"
    }
   ],
   "source": [
    "texts = main_dt.text\n",
    "main_dt.shape"
   ]
  },
  {
   "cell_type": "code",
   "execution_count": 14,
   "metadata": {},
   "outputs": [
    {
     "data": {
      "text/html": [
       "<div>\n",
       "<style scoped>\n",
       "    .dataframe tbody tr th:only-of-type {\n",
       "        vertical-align: middle;\n",
       "    }\n",
       "\n",
       "    .dataframe tbody tr th {\n",
       "        vertical-align: top;\n",
       "    }\n",
       "\n",
       "    .dataframe thead th {\n",
       "        text-align: right;\n",
       "    }\n",
       "</style>\n",
       "<table border=\"1\" class=\"dataframe\">\n",
       "  <thead>\n",
       "    <tr style=\"text-align: right;\">\n",
       "      <th></th>\n",
       "      <th>mini_place</th>\n",
       "      <th>date</th>\n",
       "      <th>marked</th>\n",
       "      <th>main_place</th>\n",
       "      <th>text</th>\n",
       "      <th>iscomment</th>\n",
       "      <th>is_dialog</th>\n",
       "      <th>id</th>\n",
       "    </tr>\n",
       "  </thead>\n",
       "  <tbody>\n",
       "    <tr>\n",
       "      <td>0</td>\n",
       "      <td>Брейтово</td>\n",
       "      <td>03.02.2015</td>\n",
       "      <td>no</td>\n",
       "      <td>Рыбинское водохранилище.</td>\n",
       "      <td>3 февраля вторник.утром с афоней разделились, ...</td>\n",
       "      <td>no</td>\n",
       "      <td>False</td>\n",
       "      <td>1</td>\n",
       "    </tr>\n",
       "    <tr>\n",
       "      <td>1</td>\n",
       "      <td>Брейтово</td>\n",
       "      <td>06.02.2015</td>\n",
       "      <td>no</td>\n",
       "      <td>Рыбинское водохранилище.</td>\n",
       "      <td>6 февраля,пятница.подъем в 5 утра,выезд 6-30 ч...</td>\n",
       "      <td>no</td>\n",
       "      <td>False</td>\n",
       "      <td>2</td>\n",
       "    </tr>\n",
       "    <tr>\n",
       "      <td>2</td>\n",
       "      <td>Брейтово</td>\n",
       "      <td>07.02.2015</td>\n",
       "      <td>no</td>\n",
       "      <td>Рыбинское водохранилище.</td>\n",
       "      <td>7 февраля,суббота.поехали тремя снежиками,афон...</td>\n",
       "      <td>no</td>\n",
       "      <td>False</td>\n",
       "      <td>3</td>\n",
       "    </tr>\n",
       "    <tr>\n",
       "      <td>3</td>\n",
       "      <td>Брейтово</td>\n",
       "      <td>08.02.2015</td>\n",
       "      <td>no</td>\n",
       "      <td>Рыбинское водохранилище.</td>\n",
       "      <td>8 февраля,воскресенье.ловили опять на шексне,в...</td>\n",
       "      <td>no</td>\n",
       "      <td>False</td>\n",
       "      <td>4</td>\n",
       "    </tr>\n",
       "    <tr>\n",
       "      <td>4</td>\n",
       "      <td>Брейтово</td>\n",
       "      <td>09.02.2015</td>\n",
       "      <td>no</td>\n",
       "      <td>Рыбинское водохранилище.</td>\n",
       "      <td>9 февраля,понедельник.самый результативный ден...</td>\n",
       "      <td>no</td>\n",
       "      <td>False</td>\n",
       "      <td>5</td>\n",
       "    </tr>\n",
       "    <tr>\n",
       "      <td>...</td>\n",
       "      <td>...</td>\n",
       "      <td>...</td>\n",
       "      <td>...</td>\n",
       "      <td>...</td>\n",
       "      <td>...</td>\n",
       "      <td>...</td>\n",
       "      <td>...</td>\n",
       "      <td>...</td>\n",
       "    </tr>\n",
       "    <tr>\n",
       "      <td>267174</td>\n",
       "      <td>Брейтово</td>\n",
       "      <td>03.03.2014</td>\n",
       "      <td>no</td>\n",
       "      <td>Рыбинское водохранилище.</td>\n",
       "      <td>3 по 6.03. ловили на жерлицы в районе впадения...</td>\n",
       "      <td>no</td>\n",
       "      <td>False</td>\n",
       "      <td>267169</td>\n",
       "    </tr>\n",
       "    <tr>\n",
       "      <td>267175</td>\n",
       "      <td>Брейтово</td>\n",
       "      <td>16.03.2014</td>\n",
       "      <td>no</td>\n",
       "      <td>Рыбинское водохранилище.</td>\n",
       "      <td>воскресенье уже шипел во всю, на машине не вар...</td>\n",
       "      <td>no</td>\n",
       "      <td>False</td>\n",
       "      <td>267170</td>\n",
       "    </tr>\n",
       "    <tr>\n",
       "      <td>267176</td>\n",
       "      <td>Брейтово</td>\n",
       "      <td>15.03.2014</td>\n",
       "      <td>no</td>\n",
       "      <td>Рыбинское водохранилище.</td>\n",
       "      <td>субботу более менее, в</td>\n",
       "      <td>no</td>\n",
       "      <td>False</td>\n",
       "      <td>267171</td>\n",
       "    </tr>\n",
       "    <tr>\n",
       "      <td>267177</td>\n",
       "      <td>Брейтово</td>\n",
       "      <td>16.03.2014</td>\n",
       "      <td>yes</td>\n",
       "      <td>Рыбинское водохранилище.</td>\n",
       "      <td>воскресенье заезжали в медухово,хотели рыбы ку...</td>\n",
       "      <td>no</td>\n",
       "      <td>True</td>\n",
       "      <td>267172</td>\n",
       "    </tr>\n",
       "    <tr>\n",
       "      <td>267178</td>\n",
       "      <td>Брейтово</td>\n",
       "      <td>02.02.2015</td>\n",
       "      <td>no</td>\n",
       "      <td>Рыбинское водохранилище.</td>\n",
       "      <td>2 февраля,понедельник.11-40 вечера,приехали в ...</td>\n",
       "      <td>no</td>\n",
       "      <td>False</td>\n",
       "      <td>267179</td>\n",
       "    </tr>\n",
       "  </tbody>\n",
       "</table>\n",
       "<p>267179 rows × 8 columns</p>\n",
       "</div>"
      ],
      "text/plain": [
       "       mini_place        date marked                main_place  \\\n",
       "0        Брейтово  03.02.2015     no  Рыбинское водохранилище.   \n",
       "1        Брейтово  06.02.2015     no  Рыбинское водохранилище.   \n",
       "2        Брейтово  07.02.2015     no  Рыбинское водохранилище.   \n",
       "3        Брейтово  08.02.2015     no  Рыбинское водохранилище.   \n",
       "4        Брейтово  09.02.2015     no  Рыбинское водохранилище.   \n",
       "...           ...         ...    ...                       ...   \n",
       "267174   Брейтово  03.03.2014     no  Рыбинское водохранилище.   \n",
       "267175   Брейтово  16.03.2014     no  Рыбинское водохранилище.   \n",
       "267176   Брейтово  15.03.2014     no  Рыбинское водохранилище.   \n",
       "267177   Брейтово  16.03.2014    yes  Рыбинское водохранилище.   \n",
       "267178   Брейтово  02.02.2015     no  Рыбинское водохранилище.   \n",
       "\n",
       "                                                     text iscomment  \\\n",
       "0       3 февраля вторник.утром с афоней разделились, ...        no   \n",
       "1       6 февраля,пятница.подъем в 5 утра,выезд 6-30 ч...        no   \n",
       "2       7 февраля,суббота.поехали тремя снежиками,афон...        no   \n",
       "3       8 февраля,воскресенье.ловили опять на шексне,в...        no   \n",
       "4       9 февраля,понедельник.самый результативный ден...        no   \n",
       "...                                                   ...       ...   \n",
       "267174  3 по 6.03. ловили на жерлицы в районе впадения...        no   \n",
       "267175  воскресенье уже шипел во всю, на машине не вар...        no   \n",
       "267176                            субботу более менее, в         no   \n",
       "267177  воскресенье заезжали в медухово,хотели рыбы ку...        no   \n",
       "267178  2 февраля,понедельник.11-40 вечера,приехали в ...        no   \n",
       "\n",
       "        is_dialog      id  \n",
       "0           False       1  \n",
       "1           False       2  \n",
       "2           False       3  \n",
       "3           False       4  \n",
       "4           False       5  \n",
       "...           ...     ...  \n",
       "267174      False  267169  \n",
       "267175      False  267170  \n",
       "267176      False  267171  \n",
       "267177       True  267172  \n",
       "267178      False  267179  \n",
       "\n",
       "[267179 rows x 8 columns]"
      ]
     },
     "execution_count": 14,
     "metadata": {},
     "output_type": "execute_result"
    }
   ],
   "source": [
    "main_dt"
   ]
  },
  {
   "cell_type": "code",
   "execution_count": 27,
   "metadata": {},
   "outputs": [],
   "source": [
    "from pymystem3 import Mystem\n",
    "from tqdm import tqdm_notebook\n",
    "mystem = Mystem()\n",
    "\n",
    "def lemmitize(text):\n",
    "    try:\n",
    "        return [text[0], \" \".join(mystem.lemmatize(text[1]))[:-1]]\n",
    "    except Exception as e:\n",
    "        print(e)\n",
    "        return [text[0], text[1]]"
   ]
  },
  {
   "cell_type": "code",
   "execution_count": 38,
   "metadata": {},
   "outputs": [],
   "source": [
    "from joblib import Parallel, delayed\n",
    "result = []  "
   ]
  },
  {
   "cell_type": "code",
   "execution_count": 41,
   "metadata": {},
   "outputs": [
    {
     "data": {
      "application/vnd.jupyter.widget-view+json": {
       "model_id": "60d9ce4207e74660922839d49b083c83",
       "version_major": 2,
       "version_minor": 0
      },
      "text/plain": [
       "HBox(children=(IntProgress(value=0, max=10276), HTML(value='')))"
      ]
     },
     "metadata": {},
     "output_type": "display_data"
    },
    {
     "name": "stdout",
     "output_type": "stream",
     "text": [
      "\n"
     ]
    },
    {
     "data": {
      "application/vnd.jupyter.widget-view+json": {
       "model_id": "94b10a4f49a340baa0c335a6601edf1e",
       "version_major": 2,
       "version_minor": 0
      },
      "text/plain": [
       "HBox(children=(IntProgress(value=0, max=10276), HTML(value='')))"
      ]
     },
     "metadata": {},
     "output_type": "display_data"
    },
    {
     "name": "stdout",
     "output_type": "stream",
     "text": [
      "\n"
     ]
    },
    {
     "data": {
      "application/vnd.jupyter.widget-view+json": {
       "model_id": "d20d79585fa54e2788ab712ef8623caf",
       "version_major": 2,
       "version_minor": 0
      },
      "text/plain": [
       "HBox(children=(IntProgress(value=0, max=10276), HTML(value='')))"
      ]
     },
     "metadata": {},
     "output_type": "display_data"
    },
    {
     "name": "stdout",
     "output_type": "stream",
     "text": [
      "\n"
     ]
    },
    {
     "data": {
      "application/vnd.jupyter.widget-view+json": {
       "model_id": "9289b69f7eff45888acc24ec3667ba7d",
       "version_major": 2,
       "version_minor": 0
      },
      "text/plain": [
       "HBox(children=(IntProgress(value=0, max=10276), HTML(value='')))"
      ]
     },
     "metadata": {},
     "output_type": "display_data"
    },
    {
     "name": "stdout",
     "output_type": "stream",
     "text": [
      "\n"
     ]
    },
    {
     "data": {
      "application/vnd.jupyter.widget-view+json": {
       "model_id": "38d9abe8a79b497e8115c17b6b4dca2e",
       "version_major": 2,
       "version_minor": 0
      },
      "text/plain": [
       "HBox(children=(IntProgress(value=0, max=10276), HTML(value='')))"
      ]
     },
     "metadata": {},
     "output_type": "display_data"
    },
    {
     "name": "stdout",
     "output_type": "stream",
     "text": [
      "\n"
     ]
    },
    {
     "data": {
      "application/vnd.jupyter.widget-view+json": {
       "model_id": "4c9b86168f76424f8cc320dc97a6cf2a",
       "version_major": 2,
       "version_minor": 0
      },
      "text/plain": [
       "HBox(children=(IntProgress(value=0, max=10276), HTML(value='')))"
      ]
     },
     "metadata": {},
     "output_type": "display_data"
    },
    {
     "name": "stdout",
     "output_type": "stream",
     "text": [
      "\n"
     ]
    },
    {
     "data": {
      "application/vnd.jupyter.widget-view+json": {
       "model_id": "0fcfe2dfbe7445f38e06c8f9047a6974",
       "version_major": 2,
       "version_minor": 0
      },
      "text/plain": [
       "HBox(children=(IntProgress(value=0, max=10277), HTML(value='')))"
      ]
     },
     "metadata": {},
     "output_type": "display_data"
    },
    {
     "name": "stdout",
     "output_type": "stream",
     "text": [
      "\n"
     ]
    }
   ],
   "source": [
    "for part in range(26):\n",
    "    result += Parallel(n_jobs=8)(delayed(lemmitize)(text) for text in tqdm_notebook([[index, texts[index]] for index in texts.index.to_list()[part*len(texts.index) // 26: min((part+1)*len(texts.index) // 26, len(texts.index))]]))"
   ]
  },
  {
   "cell_type": "code",
   "execution_count": 65,
   "metadata": {},
   "outputs": [
    {
     "data": {
      "text/plain": [
       "267179"
      ]
     },
     "execution_count": 65,
     "metadata": {},
     "output_type": "execute_result"
    }
   ],
   "source": [
    "len(result)"
   ]
  },
  {
   "cell_type": "code",
   "execution_count": 66,
   "metadata": {},
   "outputs": [
    {
     "name": "stdout",
     "output_type": "stream",
     "text": [
      "267179 267179\n"
     ]
    }
   ],
   "source": [
    "new_texts = [' ' for i in range(len(texts))]\n",
    "for result_value in result:\n",
    "    new_texts[result_value[0]] = result_value[1]\n",
    "print(len(new_texts), len(texts))"
   ]
  },
  {
   "cell_type": "code",
   "execution_count": 68,
   "metadata": {},
   "outputs": [
    {
     "name": "stdout",
     "output_type": "stream",
     "text": [
      "267177    воскресенье заезжали в медухово,хотели рыбы ку...\n",
      "267178    2 февраля,понедельник.11-40 вечера,приехали в ...\n",
      "Name: text, dtype: object\n",
      "['воскресение   заезжать   в   медухов , хотеть   рыба   купить , только   мороженный   судак   плотва   нет . ребята   который   оставаться   в   борок , там   тоже   спрашивать   . тоже   нет   в   горелово . бабуля   у   который   останавливаться , кто   то   звонить . тоже   нифиг . говорить   это   из   за   тот   что   вода   не   сбрасывать   и   она   стоять . даже   не   знать   что   и   думать , мочь   морозец   и   последующий   оттепель   повлиять   на   ее   активность . ', '2   февраль , понедельник . 11 - 40   вечер , приезжать   в   черкасово . пока   приготавливать   и   заряжать   снегоход   спать   ложиться   в   3   час   ночь . подъем   5 - 30.18   км   на   старый   место ,  двухнедельный   давность .   шестой   просверливать   лунка   удар   окушок   гр . 300  : p    ну   думать   сейчас   попереть ,  но   все   кончаться ,  практически   не   начинаться . погода   отличный  - 4   гр . штиль , весь   день   светить   солнце   и   ничто . до   обед   поймать   еще   5   окушков . отъезжать   к   вечер   покачать   судачок   в   итог   один   невнятный   удар ,  без   повтор   и   посадить   аккумулятор   на   метабо   в   2   час   день . ваня   чеховский   звонить   день   на   52   км   поймать   34   окушка   к   вечер   все   быть   тихо   и   у   он   там   весь   день   быть   туман . афоня   в   этот   день   поймать   3   штука   и   щучка   в   лунка   отваливаться .  : neznayu : ']\n"
     ]
    }
   ],
   "source": [
    "print(texts[-2:])\n",
    "print(new_texts[-2:])"
   ]
  },
  {
   "cell_type": "code",
   "execution_count": 69,
   "metadata": {},
   "outputs": [],
   "source": [
    "main_dt['text'] = new_texts"
   ]
  },
  {
   "cell_type": "code",
   "execution_count": 70,
   "metadata": {},
   "outputs": [
    {
     "data": {
      "text/html": [
       "<div>\n",
       "<style scoped>\n",
       "    .dataframe tbody tr th:only-of-type {\n",
       "        vertical-align: middle;\n",
       "    }\n",
       "\n",
       "    .dataframe tbody tr th {\n",
       "        vertical-align: top;\n",
       "    }\n",
       "\n",
       "    .dataframe thead th {\n",
       "        text-align: right;\n",
       "    }\n",
       "</style>\n",
       "<table border=\"1\" class=\"dataframe\">\n",
       "  <thead>\n",
       "    <tr style=\"text-align: right;\">\n",
       "      <th></th>\n",
       "      <th>mini_place</th>\n",
       "      <th>date</th>\n",
       "      <th>marked</th>\n",
       "      <th>main_place</th>\n",
       "      <th>text</th>\n",
       "      <th>iscomment</th>\n",
       "      <th>is_dialog</th>\n",
       "      <th>id</th>\n",
       "    </tr>\n",
       "  </thead>\n",
       "  <tbody>\n",
       "    <tr>\n",
       "      <td>0</td>\n",
       "      <td>Брейтово</td>\n",
       "      <td>03.02.2015</td>\n",
       "      <td>no</td>\n",
       "      <td>Рыбинское водохранилище.</td>\n",
       "      <td>3   февраль   вторник . утро   с   афоня   раз...</td>\n",
       "      <td>no</td>\n",
       "      <td>False</td>\n",
       "      <td>1</td>\n",
       "    </tr>\n",
       "    <tr>\n",
       "      <td>1</td>\n",
       "      <td>Брейтово</td>\n",
       "      <td>06.02.2015</td>\n",
       "      <td>no</td>\n",
       "      <td>Рыбинское водохранилище.</td>\n",
       "      <td>6   февраль , пятница . подъем   в   5   утро ...</td>\n",
       "      <td>no</td>\n",
       "      <td>False</td>\n",
       "      <td>2</td>\n",
       "    </tr>\n",
       "    <tr>\n",
       "      <td>2</td>\n",
       "      <td>Брейтово</td>\n",
       "      <td>07.02.2015</td>\n",
       "      <td>no</td>\n",
       "      <td>Рыбинское водохранилище.</td>\n",
       "      <td>7   февраль , суббота . поехать   три   снежик...</td>\n",
       "      <td>no</td>\n",
       "      <td>False</td>\n",
       "      <td>3</td>\n",
       "    </tr>\n",
       "    <tr>\n",
       "      <td>3</td>\n",
       "      <td>Брейтово</td>\n",
       "      <td>08.02.2015</td>\n",
       "      <td>no</td>\n",
       "      <td>Рыбинское водохранилище.</td>\n",
       "      <td>8   февраль , воскресение . ловить   опять   н...</td>\n",
       "      <td>no</td>\n",
       "      <td>False</td>\n",
       "      <td>4</td>\n",
       "    </tr>\n",
       "    <tr>\n",
       "      <td>4</td>\n",
       "      <td>Брейтово</td>\n",
       "      <td>09.02.2015</td>\n",
       "      <td>no</td>\n",
       "      <td>Рыбинское водохранилище.</td>\n",
       "      <td>9   февраль , понедельник . самый   результати...</td>\n",
       "      <td>no</td>\n",
       "      <td>False</td>\n",
       "      <td>5</td>\n",
       "    </tr>\n",
       "    <tr>\n",
       "      <td>...</td>\n",
       "      <td>...</td>\n",
       "      <td>...</td>\n",
       "      <td>...</td>\n",
       "      <td>...</td>\n",
       "      <td>...</td>\n",
       "      <td>...</td>\n",
       "      <td>...</td>\n",
       "      <td>...</td>\n",
       "    </tr>\n",
       "    <tr>\n",
       "      <td>267174</td>\n",
       "      <td>Брейтово</td>\n",
       "      <td>03.03.2014</td>\n",
       "      <td>no</td>\n",
       "      <td>Рыбинское водохранилище.</td>\n",
       "      <td>3   по   6.03 .   ловить   на   жерлица   в   ...</td>\n",
       "      <td>no</td>\n",
       "      <td>False</td>\n",
       "      <td>267169</td>\n",
       "    </tr>\n",
       "    <tr>\n",
       "      <td>267175</td>\n",
       "      <td>Брейтово</td>\n",
       "      <td>16.03.2014</td>\n",
       "      <td>no</td>\n",
       "      <td>Рыбинское водохранилище.</td>\n",
       "      <td>воскресение   уже   шипеть   во   весь ,  на  ...</td>\n",
       "      <td>no</td>\n",
       "      <td>False</td>\n",
       "      <td>267170</td>\n",
       "    </tr>\n",
       "    <tr>\n",
       "      <td>267176</td>\n",
       "      <td>Брейтово</td>\n",
       "      <td>15.03.2014</td>\n",
       "      <td>no</td>\n",
       "      <td>Рыбинское водохранилище.</td>\n",
       "      <td>суббота   много   менее ,  в</td>\n",
       "      <td>no</td>\n",
       "      <td>False</td>\n",
       "      <td>267171</td>\n",
       "    </tr>\n",
       "    <tr>\n",
       "      <td>267177</td>\n",
       "      <td>Брейтово</td>\n",
       "      <td>16.03.2014</td>\n",
       "      <td>yes</td>\n",
       "      <td>Рыбинское водохранилище.</td>\n",
       "      <td>воскресение   заезжать   в   медухов , хотеть ...</td>\n",
       "      <td>no</td>\n",
       "      <td>True</td>\n",
       "      <td>267172</td>\n",
       "    </tr>\n",
       "    <tr>\n",
       "      <td>267178</td>\n",
       "      <td>Брейтово</td>\n",
       "      <td>02.02.2015</td>\n",
       "      <td>no</td>\n",
       "      <td>Рыбинское водохранилище.</td>\n",
       "      <td>2   февраль , понедельник . 11 - 40   вечер , ...</td>\n",
       "      <td>no</td>\n",
       "      <td>False</td>\n",
       "      <td>267179</td>\n",
       "    </tr>\n",
       "  </tbody>\n",
       "</table>\n",
       "<p>267179 rows × 8 columns</p>\n",
       "</div>"
      ],
      "text/plain": [
       "       mini_place        date marked                main_place  \\\n",
       "0        Брейтово  03.02.2015     no  Рыбинское водохранилище.   \n",
       "1        Брейтово  06.02.2015     no  Рыбинское водохранилище.   \n",
       "2        Брейтово  07.02.2015     no  Рыбинское водохранилище.   \n",
       "3        Брейтово  08.02.2015     no  Рыбинское водохранилище.   \n",
       "4        Брейтово  09.02.2015     no  Рыбинское водохранилище.   \n",
       "...           ...         ...    ...                       ...   \n",
       "267174   Брейтово  03.03.2014     no  Рыбинское водохранилище.   \n",
       "267175   Брейтово  16.03.2014     no  Рыбинское водохранилище.   \n",
       "267176   Брейтово  15.03.2014     no  Рыбинское водохранилище.   \n",
       "267177   Брейтово  16.03.2014    yes  Рыбинское водохранилище.   \n",
       "267178   Брейтово  02.02.2015     no  Рыбинское водохранилище.   \n",
       "\n",
       "                                                     text iscomment  \\\n",
       "0       3   февраль   вторник . утро   с   афоня   раз...        no   \n",
       "1       6   февраль , пятница . подъем   в   5   утро ...        no   \n",
       "2       7   февраль , суббота . поехать   три   снежик...        no   \n",
       "3       8   февраль , воскресение . ловить   опять   н...        no   \n",
       "4       9   февраль , понедельник . самый   результати...        no   \n",
       "...                                                   ...       ...   \n",
       "267174  3   по   6.03 .   ловить   на   жерлица   в   ...        no   \n",
       "267175  воскресение   уже   шипеть   во   весь ,  на  ...        no   \n",
       "267176                     суббота   много   менее ,  в          no   \n",
       "267177  воскресение   заезжать   в   медухов , хотеть ...        no   \n",
       "267178  2   февраль , понедельник . 11 - 40   вечер , ...        no   \n",
       "\n",
       "        is_dialog      id  \n",
       "0           False       1  \n",
       "1           False       2  \n",
       "2           False       3  \n",
       "3           False       4  \n",
       "4           False       5  \n",
       "...           ...     ...  \n",
       "267174      False  267169  \n",
       "267175      False  267170  \n",
       "267176      False  267171  \n",
       "267177       True  267172  \n",
       "267178      False  267179  \n",
       "\n",
       "[267179 rows x 8 columns]"
      ]
     },
     "execution_count": 70,
     "metadata": {},
     "output_type": "execute_result"
    }
   ],
   "source": [
    "main_dt"
   ]
  },
  {
   "cell_type": "code",
   "execution_count": 71,
   "metadata": {},
   "outputs": [],
   "source": [
    "main_dt.to_csv('E:\\\\instagramTest\\\\lemmatize_dt.csv')"
   ]
  }
 ],
 "metadata": {
  "kernelspec": {
   "display_name": "Python 3",
   "language": "python",
   "name": "python3"
  },
  "language_info": {
   "codemirror_mode": {
    "name": "ipython",
    "version": 3
   },
   "file_extension": ".py",
   "mimetype": "text/x-python",
   "name": "python",
   "nbconvert_exporter": "python",
   "pygments_lexer": "ipython3",
   "version": "3.7.4"
  }
 },
 "nbformat": 4,
 "nbformat_minor": 2
}
